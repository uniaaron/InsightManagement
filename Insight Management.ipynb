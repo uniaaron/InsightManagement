{
 "cells": [
  {
   "cell_type": "code",
   "execution_count": 1,
   "id": "fb907263",
   "metadata": {
    "collapsed": true
   },
   "outputs": [
    {
     "name": "stdout",
     "output_type": "stream",
     "text": [
      "Requirement already satisfied: pandasql in c:\\users\\benhamaaron\\anaconda3\\lib\\site-packages (0.7.3)\n",
      "Requirement already satisfied: numpy in c:\\users\\benhamaaron\\anaconda3\\lib\\site-packages (from pandasql) (1.22.4)\n",
      "Requirement already satisfied: sqlalchemy in c:\\users\\benhamaaron\\anaconda3\\lib\\site-packages (from pandasql) (1.4.7)\n",
      "Requirement already satisfied: pandas in c:\\users\\benhamaaron\\anaconda3\\lib\\site-packages (from pandasql) (1.2.4)\n",
      "Requirement already satisfied: pytz>=2017.3 in c:\\users\\benhamaaron\\anaconda3\\lib\\site-packages (from pandas->pandasql) (2021.1)\n",
      "Requirement already satisfied: python-dateutil>=2.7.3 in c:\\users\\benhamaaron\\anaconda3\\lib\\site-packages (from pandas->pandasql) (2.8.1)\n",
      "Requirement already satisfied: six>=1.5 in c:\\users\\benhamaaron\\anaconda3\\lib\\site-packages (from python-dateutil>=2.7.3->pandas->pandasql) (1.15.0)\n",
      "Requirement already satisfied: greenlet!=0.4.17 in c:\\users\\benhamaaron\\anaconda3\\lib\\site-packages (from sqlalchemy->pandasql) (1.0.0)\n"
     ]
    }
   ],
   "source": [
    "!pip install pandasql"
   ]
  },
  {
   "cell_type": "code",
   "execution_count": 2,
   "id": "50035fcd",
   "metadata": {},
   "outputs": [],
   "source": [
    "import pandas as pd\n",
    "import pandasql as ps\n",
    "import numpy as np\n",
    "import matplotlib.pyplot as plt"
   ]
  },
  {
   "cell_type": "code",
   "execution_count": 76,
   "id": "682f7712",
   "metadata": {},
   "outputs": [
    {
     "name": "stderr",
     "output_type": "stream",
     "text": [
      "C:\\Users\\BenhamAaron\\anaconda3\\lib\\site-packages\\IPython\\core\\interactiveshell.py:3165: DtypeWarning: Columns (25,36,39,44) have mixed types.Specify dtype option on import or set low_memory=False.\n",
      "  has_raised = await self.run_ast_nodes(code_ast.body, cell_name,\n"
     ]
    },
    {
     "data": {
      "text/html": [
       "<div>\n",
       "<style scoped>\n",
       "    .dataframe tbody tr th:only-of-type {\n",
       "        vertical-align: middle;\n",
       "    }\n",
       "\n",
       "    .dataframe tbody tr th {\n",
       "        vertical-align: top;\n",
       "    }\n",
       "\n",
       "    .dataframe thead th {\n",
       "        text-align: right;\n",
       "    }\n",
       "</style>\n",
       "<table border=\"1\" class=\"dataframe\">\n",
       "  <thead>\n",
       "    <tr style=\"text-align: right;\">\n",
       "      <th></th>\n",
       "      <th>id</th>\n",
       "      <th>asins</th>\n",
       "      <th>brand</th>\n",
       "      <th>...</th>\n",
       "      <th>upc</th>\n",
       "      <th>websiteIDs</th>\n",
       "      <th>weight</th>\n",
       "    </tr>\n",
       "  </thead>\n",
       "  <tbody>\n",
       "    <tr>\n",
       "      <th>0</th>\n",
       "      <td>AVpfBXx21cnluZ0-cKxs</td>\n",
       "      <td>NaN</td>\n",
       "      <td>Zoot</td>\n",
       "      <td>...</td>\n",
       "      <td>NaN</td>\n",
       "      <td>NaN</td>\n",
       "      <td>NaN</td>\n",
       "    </tr>\n",
       "    <tr>\n",
       "      <th>1</th>\n",
       "      <td>AVpfBXx21cnluZ0-cKxs</td>\n",
       "      <td>NaN</td>\n",
       "      <td>Zoot</td>\n",
       "      <td>...</td>\n",
       "      <td>NaN</td>\n",
       "      <td>NaN</td>\n",
       "      <td>NaN</td>\n",
       "    </tr>\n",
       "    <tr>\n",
       "      <th>2</th>\n",
       "      <td>AVpfBXx21cnluZ0-cKxs</td>\n",
       "      <td>NaN</td>\n",
       "      <td>Zoot</td>\n",
       "      <td>...</td>\n",
       "      <td>NaN</td>\n",
       "      <td>NaN</td>\n",
       "      <td>NaN</td>\n",
       "    </tr>\n",
       "    <tr>\n",
       "      <th>3</th>\n",
       "      <td>AVpfBXx21cnluZ0-cKxs</td>\n",
       "      <td>NaN</td>\n",
       "      <td>Zoot</td>\n",
       "      <td>...</td>\n",
       "      <td>NaN</td>\n",
       "      <td>NaN</td>\n",
       "      <td>NaN</td>\n",
       "    </tr>\n",
       "    <tr>\n",
       "      <th>4</th>\n",
       "      <td>AVpfEqFRLJeJML431x7w</td>\n",
       "      <td>NaN</td>\n",
       "      <td>Wild Pair</td>\n",
       "      <td>...</td>\n",
       "      <td>7.63181E+11</td>\n",
       "      <td>NaN</td>\n",
       "      <td>NaN</td>\n",
       "    </tr>\n",
       "  </tbody>\n",
       "</table>\n",
       "<p>5 rows × 47 columns</p>\n",
       "</div>"
      ],
      "text/plain": [
       "                     id asins      brand  ...          upc websiteIDs  weight\n",
       "0  AVpfBXx21cnluZ0-cKxs   NaN       Zoot  ...          NaN        NaN     NaN\n",
       "1  AVpfBXx21cnluZ0-cKxs   NaN       Zoot  ...          NaN        NaN     NaN\n",
       "2  AVpfBXx21cnluZ0-cKxs   NaN       Zoot  ...          NaN        NaN     NaN\n",
       "3  AVpfBXx21cnluZ0-cKxs   NaN       Zoot  ...          NaN        NaN     NaN\n",
       "4  AVpfEqFRLJeJML431x7w   NaN  Wild Pair  ...  7.63181E+11        NaN     NaN\n",
       "\n",
       "[5 rows x 47 columns]"
      ]
     },
     "execution_count": 76,
     "metadata": {},
     "output_type": "execute_result"
    }
   ],
   "source": [
    "df = pd.read_csv(\"7003_1.csv\")\n",
    "pd.set_option('display.max_columns', 7)\n",
    "pd.set_option('display.max_rows', 10)\n",
    "df.head()"
   ]
  },
  {
   "cell_type": "markdown",
   "id": "216f5ff2",
   "metadata": {},
   "source": [
    "# CLEANING"
   ]
  },
  {
   "cell_type": "code",
   "execution_count": 77,
   "id": "53c2b920",
   "metadata": {
    "scrolled": false
   },
   "outputs": [
    {
     "data": {
      "text/html": [
       "<div>\n",
       "<style scoped>\n",
       "    .dataframe tbody tr th:only-of-type {\n",
       "        vertical-align: middle;\n",
       "    }\n",
       "\n",
       "    .dataframe tbody tr th {\n",
       "        vertical-align: top;\n",
       "    }\n",
       "\n",
       "    .dataframe thead th {\n",
       "        text-align: right;\n",
       "    }\n",
       "</style>\n",
       "<table border=\"1\" class=\"dataframe\">\n",
       "  <thead>\n",
       "    <tr style=\"text-align: right;\">\n",
       "      <th></th>\n",
       "      <th>id</th>\n",
       "      <th>brand</th>\n",
       "      <th>categories</th>\n",
       "      <th>...</th>\n",
       "      <th>prices.currency</th>\n",
       "      <th>prices.merchant</th>\n",
       "      <th>sizes</th>\n",
       "    </tr>\n",
       "  </thead>\n",
       "  <tbody>\n",
       "    <tr>\n",
       "      <th>0</th>\n",
       "      <td>AVpfBXx21cnluZ0-cKxs</td>\n",
       "      <td>Zoot</td>\n",
       "      <td>Shoes,Clothing,Women's Shoes,All Women's Shoes</td>\n",
       "      <td>...</td>\n",
       "      <td>USD</td>\n",
       "      <td>NaN</td>\n",
       "      <td>10,9</td>\n",
       "    </tr>\n",
       "    <tr>\n",
       "      <th>1</th>\n",
       "      <td>AVpfBXx21cnluZ0-cKxs</td>\n",
       "      <td>Zoot</td>\n",
       "      <td>Shoes,Clothing,Women's Shoes,All Women's Shoes</td>\n",
       "      <td>...</td>\n",
       "      <td>USD</td>\n",
       "      <td>ApparelSave - Walmart.com</td>\n",
       "      <td>10,9</td>\n",
       "    </tr>\n",
       "    <tr>\n",
       "      <th>2</th>\n",
       "      <td>AVpfBXx21cnluZ0-cKxs</td>\n",
       "      <td>Zoot</td>\n",
       "      <td>Shoes,Clothing,Women's Shoes,All Women's Shoes</td>\n",
       "      <td>...</td>\n",
       "      <td>USD</td>\n",
       "      <td>ApparelSave - Walmart.com</td>\n",
       "      <td>10,9</td>\n",
       "    </tr>\n",
       "    <tr>\n",
       "      <th>3</th>\n",
       "      <td>AVpfBXx21cnluZ0-cKxs</td>\n",
       "      <td>Zoot</td>\n",
       "      <td>Shoes,Clothing,Women's Shoes,All Women's Shoes</td>\n",
       "      <td>...</td>\n",
       "      <td>USD</td>\n",
       "      <td>ApparelSave - Walmart.com</td>\n",
       "      <td>10,9</td>\n",
       "    </tr>\n",
       "    <tr>\n",
       "      <th>4</th>\n",
       "      <td>AVpfEqFRLJeJML431x7w</td>\n",
       "      <td>Wild Pair</td>\n",
       "      <td>Shoes,Women's Shoes,Clothing,All Women's Shoes</td>\n",
       "      <td>...</td>\n",
       "      <td>USD</td>\n",
       "      <td>NaN</td>\n",
       "      <td>8.5,7,7.5,8</td>\n",
       "    </tr>\n",
       "  </tbody>\n",
       "</table>\n",
       "<p>5 rows × 12 columns</p>\n",
       "</div>"
      ],
      "text/plain": [
       "                     id      brand  \\\n",
       "0  AVpfBXx21cnluZ0-cKxs       Zoot   \n",
       "1  AVpfBXx21cnluZ0-cKxs       Zoot   \n",
       "2  AVpfBXx21cnluZ0-cKxs       Zoot   \n",
       "3  AVpfBXx21cnluZ0-cKxs       Zoot   \n",
       "4  AVpfEqFRLJeJML431x7w  Wild Pair   \n",
       "\n",
       "                                       categories  ... prices.currency  \\\n",
       "0  Shoes,Clothing,Women's Shoes,All Women's Shoes  ...             USD   \n",
       "1  Shoes,Clothing,Women's Shoes,All Women's Shoes  ...             USD   \n",
       "2  Shoes,Clothing,Women's Shoes,All Women's Shoes  ...             USD   \n",
       "3  Shoes,Clothing,Women's Shoes,All Women's Shoes  ...             USD   \n",
       "4  Shoes,Women's Shoes,Clothing,All Women's Shoes  ...             USD   \n",
       "\n",
       "             prices.merchant        sizes  \n",
       "0                        NaN         10,9  \n",
       "1  ApparelSave - Walmart.com         10,9  \n",
       "2  ApparelSave - Walmart.com         10,9  \n",
       "3  ApparelSave - Walmart.com         10,9  \n",
       "4                        NaN  8.5,7,7.5,8  \n",
       "\n",
       "[5 rows x 12 columns]"
      ]
     },
     "execution_count": 77,
     "metadata": {},
     "output_type": "execute_result"
    }
   ],
   "source": [
    "df = df[[\n",
    "    \"id\",\n",
    "    \"brand\",\n",
    "    \"categories\",\n",
    "    \"colors\",\n",
    "    \"descriptions\",\n",
    "    \"features\",\n",
    "    \"merchants\",\n",
    "    \"name\",\n",
    "    \"prices.amountMax\",\n",
    "    \"prices.currency\",\n",
    "    \"prices.merchant\",\n",
    "    \"sizes\",\n",
    "]]\n",
    "df.head()"
   ]
  },
  {
   "cell_type": "code",
   "execution_count": 78,
   "id": "9040120c",
   "metadata": {},
   "outputs": [
    {
     "data": {
      "text/html": [
       "<div>\n",
       "<style scoped>\n",
       "    .dataframe tbody tr th:only-of-type {\n",
       "        vertical-align: middle;\n",
       "    }\n",
       "\n",
       "    .dataframe tbody tr th {\n",
       "        vertical-align: top;\n",
       "    }\n",
       "\n",
       "    .dataframe thead th {\n",
       "        text-align: right;\n",
       "    }\n",
       "</style>\n",
       "<table border=\"1\" class=\"dataframe\">\n",
       "  <thead>\n",
       "    <tr style=\"text-align: right;\">\n",
       "      <th></th>\n",
       "      <th>id</th>\n",
       "      <th>brand</th>\n",
       "      <th>categories</th>\n",
       "      <th>...</th>\n",
       "      <th>prices.currency</th>\n",
       "      <th>prices.merchant</th>\n",
       "      <th>sizes</th>\n",
       "    </tr>\n",
       "  </thead>\n",
       "  <tbody>\n",
       "    <tr>\n",
       "      <th>0</th>\n",
       "      <td>AVpfBXx21cnluZ0-cKxs</td>\n",
       "      <td>Zoot</td>\n",
       "      <td>Shoes,Clothing,Women's Shoes,All Women's Shoes</td>\n",
       "      <td>...</td>\n",
       "      <td>USD</td>\n",
       "      <td>NaN</td>\n",
       "      <td>10,9</td>\n",
       "    </tr>\n",
       "    <tr>\n",
       "      <th>4</th>\n",
       "      <td>AVpfEqFRLJeJML431x7w</td>\n",
       "      <td>Wild Pair</td>\n",
       "      <td>Shoes,Women's Shoes,Clothing,All Women's Shoes</td>\n",
       "      <td>...</td>\n",
       "      <td>USD</td>\n",
       "      <td>NaN</td>\n",
       "      <td>8.5,7,7.5,8</td>\n",
       "    </tr>\n",
       "    <tr>\n",
       "      <th>7</th>\n",
       "      <td>AVpfFCfi1cnluZ0-dcCZ</td>\n",
       "      <td>Sutton Studio</td>\n",
       "      <td>Women's Suits &amp; Sets,Women's Clothing,All Wome...</td>\n",
       "      <td>...</td>\n",
       "      <td>USD</td>\n",
       "      <td>Sears.com</td>\n",
       "      <td>8</td>\n",
       "    </tr>\n",
       "    <tr>\n",
       "      <th>9</th>\n",
       "      <td>AVpfBZCAilAPnD_xTN_K</td>\n",
       "      <td>LaLeela.com</td>\n",
       "      <td>Women's Clothing,All Women's Clothing,Clothing...</td>\n",
       "      <td>...</td>\n",
       "      <td>USD</td>\n",
       "      <td>La Leela</td>\n",
       "      <td>NaN</td>\n",
       "    </tr>\n",
       "    <tr>\n",
       "      <th>11</th>\n",
       "      <td>AVpfHscY1cnluZ0-eVb6</td>\n",
       "      <td>Reebok</td>\n",
       "      <td>Shoes,Clothing,Women's Shoes,All Women's Shoes...</td>\n",
       "      <td>...</td>\n",
       "      <td>USD</td>\n",
       "      <td>ApparelSave - Walmart.com</td>\n",
       "      <td>5.5M,6.5M,7M,7.5M,8.5M,6M,11M,9M,10M,8M,9.5M,5...</td>\n",
       "    </tr>\n",
       "  </tbody>\n",
       "</table>\n",
       "<p>5 rows × 12 columns</p>\n",
       "</div>"
      ],
      "text/plain": [
       "                      id          brand  \\\n",
       "0   AVpfBXx21cnluZ0-cKxs           Zoot   \n",
       "4   AVpfEqFRLJeJML431x7w      Wild Pair   \n",
       "7   AVpfFCfi1cnluZ0-dcCZ  Sutton Studio   \n",
       "9   AVpfBZCAilAPnD_xTN_K    LaLeela.com   \n",
       "11  AVpfHscY1cnluZ0-eVb6         Reebok   \n",
       "\n",
       "                                           categories  ... prices.currency  \\\n",
       "0      Shoes,Clothing,Women's Shoes,All Women's Shoes  ...             USD   \n",
       "4      Shoes,Women's Shoes,Clothing,All Women's Shoes  ...             USD   \n",
       "7   Women's Suits & Sets,Women's Clothing,All Wome...  ...             USD   \n",
       "9   Women's Clothing,All Women's Clothing,Clothing...  ...             USD   \n",
       "11  Shoes,Clothing,Women's Shoes,All Women's Shoes...  ...             USD   \n",
       "\n",
       "              prices.merchant  \\\n",
       "0                         NaN   \n",
       "4                         NaN   \n",
       "7                   Sears.com   \n",
       "9                    La Leela   \n",
       "11  ApparelSave - Walmart.com   \n",
       "\n",
       "                                                sizes  \n",
       "0                                                10,9  \n",
       "4                                         8.5,7,7.5,8  \n",
       "7                                                   8  \n",
       "9                                                 NaN  \n",
       "11  5.5M,6.5M,7M,7.5M,8.5M,6M,11M,9M,10M,8M,9.5M,5...  \n",
       "\n",
       "[5 rows x 12 columns]"
      ]
     },
     "execution_count": 78,
     "metadata": {},
     "output_type": "execute_result"
    }
   ],
   "source": [
    "df = df.drop_duplicates(subset=[\"id\"])\n",
    "df.head()"
   ]
  },
  {
   "cell_type": "markdown",
   "id": "1cfc96e4",
   "metadata": {},
   "source": [
    "# ANALYSIS"
   ]
  },
  {
   "cell_type": "markdown",
   "id": "9029438e",
   "metadata": {},
   "source": [
    "## Brands"
   ]
  },
  {
   "cell_type": "markdown",
   "id": "e41748dd",
   "metadata": {},
   "source": [
    "top brands for women (count):\n",
    "    1. nike\n",
    "    2. toms\n",
    "    3. pleaserusa\n",
    "    4. nine west\n",
    "    5. easy spirit\n",
    "    6. vans\n",
    "    \n",
    "top brands for men (count):\n",
    "    1. nike\n",
    "    2. puma\n",
    "    3. reebok\n",
    "    4. vans\n",
    "    5. adidas\n",
    "    6. (no data)\n",
    "    7. new balance"
   ]
  },
  {
   "cell_type": "code",
   "execution_count": 92,
   "id": "c724363c",
   "metadata": {},
   "outputs": [
    {
     "data": {
      "text/html": [
       "<div>\n",
       "<style scoped>\n",
       "    .dataframe tbody tr th:only-of-type {\n",
       "        vertical-align: middle;\n",
       "    }\n",
       "\n",
       "    .dataframe tbody tr th {\n",
       "        vertical-align: top;\n",
       "    }\n",
       "\n",
       "    .dataframe thead th {\n",
       "        text-align: right;\n",
       "    }\n",
       "</style>\n",
       "<table border=\"1\" class=\"dataframe\">\n",
       "  <thead>\n",
       "    <tr style=\"text-align: right;\">\n",
       "      <th></th>\n",
       "      <th>id</th>\n",
       "      <th>brand</th>\n",
       "      <th>categories</th>\n",
       "      <th>...</th>\n",
       "      <th>prices.currency</th>\n",
       "      <th>prices.merchant</th>\n",
       "      <th>sizes</th>\n",
       "    </tr>\n",
       "  </thead>\n",
       "  <tbody>\n",
       "    <tr>\n",
       "      <th>34</th>\n",
       "      <td>AVpfFTVk1cnluZ0-diFm</td>\n",
       "      <td>Nine West</td>\n",
       "      <td>Shoes,Clothing,Women's Shoes,All Women's Shoes</td>\n",
       "      <td>...</td>\n",
       "      <td>USD</td>\n",
       "      <td>NaN</td>\n",
       "      <td>10.5,10,8.5,7,6,5,9.5,6.5,7.5,9,8</td>\n",
       "    </tr>\n",
       "    <tr>\n",
       "      <th>43</th>\n",
       "      <td>AVpfDvKDilAPnD_xUBPs</td>\n",
       "      <td>Easy Spirit</td>\n",
       "      <td>Clothing,Shoes,Women's Shoes,All Women's Shoes</td>\n",
       "      <td>...</td>\n",
       "      <td>USD</td>\n",
       "      <td>ApparelSave - Walmart.com</td>\n",
       "      <td>6,10,11,7.5,8</td>\n",
       "    </tr>\n",
       "    <tr>\n",
       "      <th>73</th>\n",
       "      <td>AVpfErj_1cnluZ0-dT5t</td>\n",
       "      <td>Easy Spirit</td>\n",
       "      <td>Women's Sandals,Shoes,Women's Shoes,Clothing</td>\n",
       "      <td>...</td>\n",
       "      <td>USD</td>\n",
       "      <td>ShoeFabs - Walmart.com</td>\n",
       "      <td>8.5,10,9.5,6.5,7.5,8,11</td>\n",
       "    </tr>\n",
       "    <tr>\n",
       "      <th>94</th>\n",
       "      <td>AVpfEsduLJeJML431ywi</td>\n",
       "      <td>Nike</td>\n",
       "      <td>Women's Athletic Shoes,Shoes,Clothing,Women's ...</td>\n",
       "      <td>...</td>\n",
       "      <td>USD</td>\n",
       "      <td>New York Deals - Walmart.com</td>\n",
       "      <td>10,8.5,7,7.5,9,8</td>\n",
       "    </tr>\n",
       "    <tr>\n",
       "      <th>125</th>\n",
       "      <td>AVpfEoof1cnluZ0-dS6t</td>\n",
       "      <td>PleaserUSA</td>\n",
       "      <td>Women's Sandals,Shoes,Women's Shoes,Clothing</td>\n",
       "      <td>...</td>\n",
       "      <td>USD</td>\n",
       "      <td>Costumes4less.com - Walmart.com</td>\n",
       "      <td>NaN</td>\n",
       "    </tr>\n",
       "    <tr>\n",
       "      <th>...</th>\n",
       "      <td>...</td>\n",
       "      <td>...</td>\n",
       "      <td>...</td>\n",
       "      <td>...</td>\n",
       "      <td>...</td>\n",
       "      <td>...</td>\n",
       "      <td>...</td>\n",
       "    </tr>\n",
       "    <tr>\n",
       "      <th>18830</th>\n",
       "      <td>AVpffLjH1cnluZ0-lmKh</td>\n",
       "      <td>Nike</td>\n",
       "      <td>Women's Athletic Shoes,Shoes,Women's Shoes,Clo...</td>\n",
       "      <td>...</td>\n",
       "      <td>USD</td>\n",
       "      <td>shoezoo - Walmart.com</td>\n",
       "      <td>NaN</td>\n",
       "    </tr>\n",
       "    <tr>\n",
       "      <th>18849</th>\n",
       "      <td>AVpfvGfE1cnluZ0-qV0i</td>\n",
       "      <td>VANS</td>\n",
       "      <td>Shoes,Women's Shoes,Clothing,All Women's Shoes</td>\n",
       "      <td>...</td>\n",
       "      <td>USD</td>\n",
       "      <td>ApparelSave - Walmart.com</td>\n",
       "      <td>7.5</td>\n",
       "    </tr>\n",
       "    <tr>\n",
       "      <th>18888</th>\n",
       "      <td>AVpff_ck1cnluZ0-l1by</td>\n",
       "      <td>Easy Spirit</td>\n",
       "      <td>Women's Casual Shoes,Shoes,Women's Shoes,Clothing</td>\n",
       "      <td>...</td>\n",
       "      <td>USD</td>\n",
       "      <td>ShoeFabs - Walmart.com</td>\n",
       "      <td>10,8.5,6,6.5,7.5,8</td>\n",
       "    </tr>\n",
       "    <tr>\n",
       "      <th>18954</th>\n",
       "      <td>AVpfglG6ilAPnD_xdA-Q</td>\n",
       "      <td>Nine West</td>\n",
       "      <td>Clothing,Shoes,Women's Shoes,Women's Sandals</td>\n",
       "      <td>...</td>\n",
       "      <td>USD</td>\n",
       "      <td>NaN</td>\n",
       "      <td>NaN</td>\n",
       "    </tr>\n",
       "    <tr>\n",
       "      <th>19003</th>\n",
       "      <td>AVpfhGV7ilAPnD_xdKab</td>\n",
       "      <td>VANS</td>\n",
       "      <td>Shoes,Women's Shoes,Clothing,All Women's Shoes</td>\n",
       "      <td>...</td>\n",
       "      <td>USD</td>\n",
       "      <td>Tags Weekly - Walmart.com</td>\n",
       "      <td>NaN</td>\n",
       "    </tr>\n",
       "  </tbody>\n",
       "</table>\n",
       "<p>830 rows × 12 columns</p>\n",
       "</div>"
      ],
      "text/plain": [
       "                         id        brand  \\\n",
       "34     AVpfFTVk1cnluZ0-diFm    Nine West   \n",
       "43     AVpfDvKDilAPnD_xUBPs  Easy Spirit   \n",
       "73     AVpfErj_1cnluZ0-dT5t  Easy Spirit   \n",
       "94     AVpfEsduLJeJML431ywi         Nike   \n",
       "125    AVpfEoof1cnluZ0-dS6t   PleaserUSA   \n",
       "...                     ...          ...   \n",
       "18830  AVpffLjH1cnluZ0-lmKh         Nike   \n",
       "18849  AVpfvGfE1cnluZ0-qV0i         VANS   \n",
       "18888  AVpff_ck1cnluZ0-l1by  Easy Spirit   \n",
       "18954  AVpfglG6ilAPnD_xdA-Q    Nine West   \n",
       "19003  AVpfhGV7ilAPnD_xdKab         VANS   \n",
       "\n",
       "                                              categories  ... prices.currency  \\\n",
       "34        Shoes,Clothing,Women's Shoes,All Women's Shoes  ...             USD   \n",
       "43        Clothing,Shoes,Women's Shoes,All Women's Shoes  ...             USD   \n",
       "73          Women's Sandals,Shoes,Women's Shoes,Clothing  ...             USD   \n",
       "94     Women's Athletic Shoes,Shoes,Clothing,Women's ...  ...             USD   \n",
       "125         Women's Sandals,Shoes,Women's Shoes,Clothing  ...             USD   \n",
       "...                                                  ...  ...             ...   \n",
       "18830  Women's Athletic Shoes,Shoes,Women's Shoes,Clo...  ...             USD   \n",
       "18849     Shoes,Women's Shoes,Clothing,All Women's Shoes  ...             USD   \n",
       "18888  Women's Casual Shoes,Shoes,Women's Shoes,Clothing  ...             USD   \n",
       "18954       Clothing,Shoes,Women's Shoes,Women's Sandals  ...             USD   \n",
       "19003     Shoes,Women's Shoes,Clothing,All Women's Shoes  ...             USD   \n",
       "\n",
       "                       prices.merchant                              sizes  \n",
       "34                                 NaN  10.5,10,8.5,7,6,5,9.5,6.5,7.5,9,8  \n",
       "43           ApparelSave - Walmart.com                      6,10,11,7.5,8  \n",
       "73              ShoeFabs - Walmart.com            8.5,10,9.5,6.5,7.5,8,11  \n",
       "94        New York Deals - Walmart.com                   10,8.5,7,7.5,9,8  \n",
       "125    Costumes4less.com - Walmart.com                                NaN  \n",
       "...                                ...                                ...  \n",
       "18830            shoezoo - Walmart.com                                NaN  \n",
       "18849        ApparelSave - Walmart.com                                7.5  \n",
       "18888           ShoeFabs - Walmart.com                 10,8.5,6,6.5,7.5,8  \n",
       "18954                              NaN                                NaN  \n",
       "19003        Tags Weekly - Walmart.com                                NaN  \n",
       "\n",
       "[830 rows x 12 columns]"
      ]
     },
     "execution_count": 92,
     "metadata": {},
     "output_type": "execute_result"
    }
   ],
   "source": [
    "top_women_brands = [\"nike\", \"toms\", \"pleaserusa\", \"nine west\", \"easy spirit\", \"vans\"]\n",
    "top_brand_df = df.query(f'brand.str.lower() == {top_women_brands}')\n",
    "top_brand_df"
   ]
  },
  {
   "cell_type": "code",
   "execution_count": 96,
   "id": "82e9e995",
   "metadata": {},
   "outputs": [
    {
     "data": {
      "text/plain": [
       "(array([  7.,  24.,  76., 126., 158.,  91., 114.,  59.,  37.,  32.,  22.,\n",
       "         26.,  23.,  10.,   8.,   5.,   2.,   2.,   0.,   4.,   0.,   1.,\n",
       "          1.,   0.,   1.,   0.,   0.,   0.,   0.,   0.,   0.,   0.,   0.,\n",
       "          0.,   0.,   0.,   0.,   0.,   0.,   1.]),\n",
       " array([  1.95 ,  11.901,  21.852,  31.803,  41.754,  51.705,  61.656,\n",
       "         71.607,  81.558,  91.509, 101.46 , 111.411, 121.362, 131.313,\n",
       "        141.264, 151.215, 161.166, 171.117, 181.068, 191.019, 200.97 ,\n",
       "        210.921, 220.872, 230.823, 240.774, 250.725, 260.676, 270.627,\n",
       "        280.578, 290.529, 300.48 , 310.431, 320.382, 330.333, 340.284,\n",
       "        350.235, 360.186, 370.137, 380.088, 390.039, 399.99 ]),\n",
       " <BarContainer object of 40 artists>)"
      ]
     },
     "execution_count": 96,
     "metadata": {},
     "output_type": "execute_result"
    },
    {
     "data": {
      "image/png": "[encoded data removed]",
      "text/plain": [
       "<Figure size 640x480 with 1 Axes>"
      ]
     },
     "metadata": {},
     "output_type": "display_data"
    }
   ],
   "source": [
    "# must consider different currencies\n",
    "\n",
    "price_list = []\n",
    "\n",
    "for item in top_brand_df[\"prices.amountMax\"]:\n",
    "    price_list.append(float(item))\n",
    "\n",
    "price_list = sorted(price_list)\n",
    "\n",
    "plt.hist(price_list, bins=40)"
   ]
  },
  {
   "cell_type": "code",
   "execution_count": 75,
   "id": "0ac1aa55",
   "metadata": {
    "collapsed": true
   },
   "outputs": [
    {
     "data": {
      "text/html": [
       "<div>\n",
       "<style scoped>\n",
       "    .dataframe tbody tr th:only-of-type {\n",
       "        vertical-align: middle;\n",
       "    }\n",
       "\n",
       "    .dataframe tbody tr th {\n",
       "        vertical-align: top;\n",
       "    }\n",
       "\n",
       "    .dataframe thead th {\n",
       "        text-align: right;\n",
       "    }\n",
       "</style>\n",
       "<table border=\"1\" class=\"dataframe\">\n",
       "  <thead>\n",
       "    <tr style=\"text-align: right;\">\n",
       "      <th></th>\n",
       "      <th>id</th>\n",
       "      <th>asins</th>\n",
       "      <th>brand</th>\n",
       "      <th>...</th>\n",
       "      <th>vin</th>\n",
       "      <th>websiteIDs</th>\n",
       "      <th>weight</th>\n",
       "    </tr>\n",
       "  </thead>\n",
       "  <tbody>\n",
       "    <tr>\n",
       "      <th>26</th>\n",
       "      <td>AVpfB4DRLJeJML43007A</td>\n",
       "      <td>NaN</td>\n",
       "      <td>PUMA</td>\n",
       "      <td>...</td>\n",
       "      <td>NaN</td>\n",
       "      <td>NaN</td>\n",
       "      <td>NaN</td>\n",
       "    </tr>\n",
       "    <tr>\n",
       "      <th>27</th>\n",
       "      <td>AVpfB4DRLJeJML43007A</td>\n",
       "      <td>NaN</td>\n",
       "      <td>PUMA</td>\n",
       "      <td>...</td>\n",
       "      <td>NaN</td>\n",
       "      <td>NaN</td>\n",
       "      <td>NaN</td>\n",
       "    </tr>\n",
       "    <tr>\n",
       "      <th>39</th>\n",
       "      <td>AVpfEsCZ1cnluZ0-dUFR</td>\n",
       "      <td>NaN</td>\n",
       "      <td>adidas</td>\n",
       "      <td>...</td>\n",
       "      <td>NaN</td>\n",
       "      <td>NaN</td>\n",
       "      <td>NaN</td>\n",
       "    </tr>\n",
       "    <tr>\n",
       "      <th>47</th>\n",
       "      <td>AVpfJEMqLJeJML433RvY</td>\n",
       "      <td>NaN</td>\n",
       "      <td>PUMA</td>\n",
       "      <td>...</td>\n",
       "      <td>NaN</td>\n",
       "      <td>NaN</td>\n",
       "      <td>NaN</td>\n",
       "    </tr>\n",
       "    <tr>\n",
       "      <th>48</th>\n",
       "      <td>AVpfJEMqLJeJML433RvY</td>\n",
       "      <td>NaN</td>\n",
       "      <td>PUMA</td>\n",
       "      <td>...</td>\n",
       "      <td>NaN</td>\n",
       "      <td>NaN</td>\n",
       "      <td>NaN</td>\n",
       "    </tr>\n",
       "    <tr>\n",
       "      <th>...</th>\n",
       "      <td>...</td>\n",
       "      <td>...</td>\n",
       "      <td>...</td>\n",
       "      <td>...</td>\n",
       "      <td>...</td>\n",
       "      <td>...</td>\n",
       "      <td>...</td>\n",
       "    </tr>\n",
       "    <tr>\n",
       "      <th>19295</th>\n",
       "      <td>AVpf3UceLJeJML43FHT4</td>\n",
       "      <td>NaN</td>\n",
       "      <td>Nike</td>\n",
       "      <td>...</td>\n",
       "      <td>NaN</td>\n",
       "      <td>NaN</td>\n",
       "      <td>NaN</td>\n",
       "    </tr>\n",
       "    <tr>\n",
       "      <th>19304</th>\n",
       "      <td>AVpfdHJXLJeJML439gNQ</td>\n",
       "      <td>B0119D7OVE</td>\n",
       "      <td>adidas</td>\n",
       "      <td>...</td>\n",
       "      <td>NaN</td>\n",
       "      <td>NaN</td>\n",
       "      <td>NaN</td>\n",
       "    </tr>\n",
       "    <tr>\n",
       "      <th>19305</th>\n",
       "      <td>AVpfdHJXLJeJML439gNQ</td>\n",
       "      <td>B0119D7OVE</td>\n",
       "      <td>adidas</td>\n",
       "      <td>...</td>\n",
       "      <td>NaN</td>\n",
       "      <td>NaN</td>\n",
       "      <td>NaN</td>\n",
       "    </tr>\n",
       "    <tr>\n",
       "      <th>19306</th>\n",
       "      <td>AVpf0eG_ilAPnD_xi3cq</td>\n",
       "      <td>NaN</td>\n",
       "      <td>Nike</td>\n",
       "      <td>...</td>\n",
       "      <td>NaN</td>\n",
       "      <td>NaN</td>\n",
       "      <td>NaN</td>\n",
       "    </tr>\n",
       "    <tr>\n",
       "      <th>19307</th>\n",
       "      <td>AVpf0eG_ilAPnD_xi3cq</td>\n",
       "      <td>NaN</td>\n",
       "      <td>Nike</td>\n",
       "      <td>...</td>\n",
       "      <td>NaN</td>\n",
       "      <td>NaN</td>\n",
       "      <td>NaN</td>\n",
       "    </tr>\n",
       "  </tbody>\n",
       "</table>\n",
       "<p>3337 rows × 48 columns</p>\n",
       "</div>"
      ],
      "text/plain": [
       "                         id       asins   brand  ... vin websiteIDs  weight\n",
       "26     AVpfB4DRLJeJML43007A         NaN    PUMA  ... NaN        NaN     NaN\n",
       "27     AVpfB4DRLJeJML43007A         NaN    PUMA  ... NaN        NaN     NaN\n",
       "39     AVpfEsCZ1cnluZ0-dUFR         NaN  adidas  ... NaN        NaN     NaN\n",
       "47     AVpfJEMqLJeJML433RvY         NaN    PUMA  ... NaN        NaN     NaN\n",
       "48     AVpfJEMqLJeJML433RvY         NaN    PUMA  ... NaN        NaN     NaN\n",
       "...                     ...         ...     ...  ...  ..        ...     ...\n",
       "19295  AVpf3UceLJeJML43FHT4         NaN    Nike  ... NaN        NaN     NaN\n",
       "19304  AVpfdHJXLJeJML439gNQ  B0119D7OVE  adidas  ... NaN        NaN     NaN\n",
       "19305  AVpfdHJXLJeJML439gNQ  B0119D7OVE  adidas  ... NaN        NaN     NaN\n",
       "19306  AVpf0eG_ilAPnD_xi3cq         NaN    Nike  ... NaN        NaN     NaN\n",
       "19307  AVpf0eG_ilAPnD_xi3cq         NaN    Nike  ... NaN        NaN     NaN\n",
       "\n",
       "[3337 rows x 48 columns]"
      ]
     },
     "execution_count": 75,
     "metadata": {},
     "output_type": "execute_result"
    }
   ],
   "source": [
    "top_men_brands = [\"nike\", \"puma\", \"reebok\", \"adidas\", \"new balance\"]\n",
    "top_brand_df = df.query(f'brand.str.lower() == {top_men_brands}')\n",
    "top_brand_df"
   ]
  },
  {
   "cell_type": "markdown",
   "id": "0fe3db9e",
   "metadata": {},
   "source": [
    "## Niche"
   ]
  },
  {
   "cell_type": "code",
   "execution_count": 8,
   "id": "79670df2",
   "metadata": {
    "collapsed": true
   },
   "outputs": [
    {
     "name": "stdout",
     "output_type": "stream",
     "text": [
      "[{\"dateSeen\":[\"2016-11-11T09:49:00Z\"],\"sourceURLs\":[\"https://www.walmart.com/ip/Zoot-TT-TRAINER-2.0-Women-US-9-Blue-Sneakers/51270891\"],\"value\":\"Important Made in USA Origin Disclaimer: For certain items sold by Walmart on Walmart.com, the displayed country of origin information may not be accurate or consistent with manufacturer information. For updated, accurate country of origin data, it is recommended that you rely on product packaging or manufacturer information. Brand & Style - Zoot TT Trainer 2.0 Width - Medium (B, M) True Color - Green Flash/Atomic Blue/Safety Yellow Outsole Material - Man-Made Heel Height - 1 Inches Brand & Style - Zoot TT Trainer 2.0 Width - Medium (B, M) True Color - Green Flash/Atomic Blue/Safety Yellow Outsole Material - Man-Made Heel Height - 1 Inches Find high-quality Zoot shoes with great prices at our store. We carry the very best shoes, boots, and sandals ranging from dress to casual to athletic while offering fast shipping to almost anywhere in the world. Included in our selection are the excellent Zoot shoes. These feature the ideal combination of style, comfort, and lasting wear available anywhere. You can depend on us for exceptional footwear. ps6276112\"}]\n",
      "\n",
      "{'dateSeen': ['2016-11-11T09:49:00Z'], 'sourceURLs': ['https://www.walmart.com/ip/Zoot-TT-TRAINER-2.0-Women-US-9-Blue-Sneakers/51270891'], 'value': 'Important Made in USA Origin Disclaimer: For certain items sold by Walmart on Walmart.com, the displayed country of origin information may not be accurate or consistent with manufacturer information. For updated, accurate country of origin data, it is recommended that you rely on product packaging or manufacturer information. Brand & Style - Zoot TT Trainer 2.0 Width - Medium (B, M) True Color - Green Flash/Atomic Blue/Safety Yellow Outsole Material - Man-Made Heel Height - 1 Inches Brand & Style - Zoot TT Trainer 2.0 Width - Medium (B, M) True Color - Green Flash/Atomic Blue/Safety Yellow Outsole Material - Man-Made Heel Height - 1 Inches Find high-quality Zoot shoes with great prices at our store. We carry the very best shoes, boots, and sandals ranging from dress to casual to athletic while offering fast shipping to almost anywhere in the world. Included in our selection are the excellent Zoot shoes. These feature the ideal combination of style, comfort, and lasting wear available anywhere. You can depend on us for exceptional footwear. ps6276112'}\n",
      "\n",
      "{'sneaker': 300, 'boot': 1129, 'heel': 745, 'sandal': 1132, 'running': 131, 'train': 35, 'flat': 407, 'loaf': 108, 'walk': 93, 'clog': 52, 'other': 1530}\n"
     ]
    }
   ],
   "source": [
    "import json\n",
    "\n",
    "index = 0\n",
    "\n",
    "# example of women shoe description\n",
    "print(df[\"descriptions\"].dropna().unique()[index])\n",
    "\n",
    "print(\"\")\n",
    "\n",
    "# convert dirty data into json format for simplier processing\n",
    "print(json.loads(df[\"descriptions\"].dropna().unique()[index])[0])\n",
    "\n",
    "print(\"\")\n",
    "\n",
    "categories = {\n",
    "    \"sneaker\": 0, \n",
    "    \"boot\" : 0, \n",
    "    \"heel\" : 0,\n",
    "    \"sandal\" : 0,\n",
    "    \"running\": 0,\n",
    "    \"train\": 0,\n",
    "    \"flat\": 0,\n",
    "    \"loaf\": 0,\n",
    "    \"walk\": 0,\n",
    "    \"clog\": 0,\n",
    "    \"other\": 0\n",
    "}\n",
    "\n",
    "unknown_cat = []\n",
    "\n",
    "# identify shoe categories using their URL\n",
    "for i in range(10000):\n",
    "    try:\n",
    "        URL = json.loads(df[\"descriptions\"].dropna().unique()[i])[0][\"sourceURLs\"][0].lower()\n",
    "        found = False\n",
    "        for cat in categories.keys():\n",
    "            if cat in URL:\n",
    "                categories[cat] += 1\n",
    "                found = True\n",
    "        if not found:\n",
    "            categories[\"other\"] += 1\n",
    "            unknown_cat.append(URL)\n",
    "    except:\n",
    "        pass\n",
    "    \n",
    "print(categories)"
   ]
  },
  {
   "cell_type": "code",
   "execution_count": 68,
   "id": "05ac9796",
   "metadata": {},
   "outputs": [
    {
     "data": {
      "text/plain": [
       "'https://www.walmart.com/ip/nike-womens-wmns-roshe-one-winter-brigade-blue-sail-685286-441/162269548'"
      ]
     },
     "execution_count": 68,
     "metadata": {},
     "output_type": "execute_result"
    }
   ],
   "source": [
    "unknown_cat[1202]"
   ]
  },
  {
   "cell_type": "code",
   "execution_count": 9,
   "id": "4a03db5b",
   "metadata": {
    "scrolled": false
   },
   "outputs": [
    {
     "data": {
      "text/plain": [
       "<BarContainer object of 11 artists>"
      ]
     },
     "execution_count": 9,
     "metadata": {},
     "output_type": "execute_result"
    },
    {
     "data": {
      "image/png": "[encoded data removed]",
      "text/plain": [
       "<Figure size 640x480 with 1 Axes>"
      ]
     },
     "metadata": {},
     "output_type": "display_data"
    }
   ],
   "source": [
    "plt.bar(categories.keys(), categories.values())"
   ]
  },
  {
   "cell_type": "markdown",
   "id": "a593bca5",
   "metadata": {},
   "source": [
    "## Specific Analysis (Nike)"
   ]
  },
  {
   "cell_type": "code",
   "execution_count": 46,
   "id": "cf09ee0a",
   "metadata": {
    "scrolled": true
   },
   "outputs": [
    {
     "data": {
      "text/plain": [
       "94          88\n",
       "134        9.5\n",
       "456        150\n",
       "477         75\n",
       "838         70\n",
       "         ...  \n",
       "18064    79.98\n",
       "18080    23.99\n",
       "18472       75\n",
       "18793    62.05\n",
       "18830    51.52\n",
       "Name: prices.amountMax, Length: 209, dtype: object"
      ]
     },
     "execution_count": 46,
     "metadata": {},
     "output_type": "execute_result"
    }
   ],
   "source": [
    "nike_df = df.query('brand.str.lower() == \"nike\"')\n",
    "nike_df[\"prices.amountMax\"]"
   ]
  },
  {
   "cell_type": "code",
   "execution_count": 47,
   "id": "77a053fb",
   "metadata": {},
   "outputs": [],
   "source": [
    "npl = []\n",
    "\n",
    "for item in nike_df[\"prices.amountMax\"]:\n",
    "    npl.append(float(item))\n",
    "\n",
    "npl = sorted(npl)"
   ]
  },
  {
   "cell_type": "code",
   "execution_count": 53,
   "id": "f5ed6015",
   "metadata": {},
   "outputs": [
    {
     "data": {
      "text/plain": [
       "(array([ 4.,  6., 11., 12., 17., 19., 28., 21., 17., 11., 13., 11., 14.,\n",
       "         5.,  8.,  4.,  0.,  2.,  0.,  2.,  0.,  1.,  1.,  0.,  1.,  0.,\n",
       "         0.,  0.,  0.,  0.,  0.,  0.,  0.,  0.,  0.,  0.,  0.,  0.,  0.,\n",
       "         1.]),\n",
       " array([  9.5    ,  19.26225,  29.0245 ,  38.78675,  48.549  ,  58.31125,\n",
       "         68.0735 ,  77.83575,  87.598  ,  97.36025, 107.1225 , 116.88475,\n",
       "        126.647  , 136.40925, 146.1715 , 155.93375, 165.696  , 175.45825,\n",
       "        185.2205 , 194.98275, 204.745  , 214.50725, 224.2695 , 234.03175,\n",
       "        243.794  , 253.55625, 263.3185 , 273.08075, 282.843  , 292.60525,\n",
       "        302.3675 , 312.12975, 321.892  , 331.65425, 341.4165 , 351.17875,\n",
       "        360.941  , 370.70325, 380.4655 , 390.22775, 399.99   ]),\n",
       " <BarContainer object of 40 artists>)"
      ]
     },
     "execution_count": 53,
     "metadata": {},
     "output_type": "execute_result"
    },
    {
     "data": {
      "image/png": "[encoded data removed]",
      "text/plain": [
       "<Figure size 432x288 with 1 Axes>"
      ]
     },
     "metadata": {
      "needs_background": "light"
     },
     "output_type": "display_data"
    }
   ],
   "source": [
    "plt.hist(npl, bins=40)"
   ]
  },
  {
   "cell_type": "code",
   "execution_count": 49,
   "id": "4880a3ca",
   "metadata": {},
   "outputs": [
    {
     "data": {
      "text/plain": [
       "{'whiskers': [<matplotlib.lines.Line2D at 0x1ce0284cc10>,\n",
       "  <matplotlib.lines.Line2D at 0x1ce0284cf70>],\n",
       " 'caps': [<matplotlib.lines.Line2D at 0x1ce0285c310>,\n",
       "  <matplotlib.lines.Line2D at 0x1ce0285c670>],\n",
       " 'boxes': [<matplotlib.lines.Line2D at 0x1ce0284c8b0>],\n",
       " 'medians': [<matplotlib.lines.Line2D at 0x1ce0285c9d0>],\n",
       " 'fliers': [<matplotlib.lines.Line2D at 0x1ce0285cd30>],\n",
       " 'means': []}"
      ]
     },
     "execution_count": 49,
     "metadata": {},
     "output_type": "execute_result"
    },
    {
     "data": {
      "image/png": "[encoded data removed]",
      "text/plain": [
       "<Figure size 432x288 with 1 Axes>"
      ]
     },
     "metadata": {
      "needs_background": "light"
     },
     "output_type": "display_data"
    }
   ],
   "source": [
    "plt.boxplot(npl)"
   ]
  }
 ],
 "metadata": {
  "kernelspec": {
   "display_name": "Python 3",
   "language": "python",
   "name": "python3"
  },
  "language_info": {
   "codemirror_mode": {
    "name": "ipython",
    "version": 3
   },
   "file_extension": ".py",
   "mimetype": "text/x-python",
   "name": "python",
   "nbconvert_exporter": "python",
   "pygments_lexer": "ipython3",
   "version": "3.8.8"
  }
 },
 "nbformat": 4,
 "nbformat_minor": 5
}
