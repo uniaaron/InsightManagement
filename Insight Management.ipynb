{
 "cells": [
  {
   "cell_type": "code",
   "execution_count": 1,
   "id": "50035fcd",
   "metadata": {},
   "outputs": [],
   "source": [
    "import pandas as pd\n",
    "import pandasql as ps\n",
    "import numpy as np\n",
    "import matplotlib.pyplot as plt"
   ]
  },
  {
   "cell_type": "code",
   "execution_count": 22,
   "id": "682f7712",
   "metadata": {},
   "outputs": [
    {
     "name": "stderr",
     "output_type": "stream",
     "text": [
      "C:\\Users\\FiercePC\\anaconda3\\lib\\site-packages\\IPython\\core\\interactiveshell.py:3165: DtypeWarning: Columns (25,36,39,44) have mixed types.Specify dtype option on import or set low_memory=False.\n",
      "  has_raised = await self.run_ast_nodes(code_ast.body, cell_name,\n"
     ]
    },
    {
     "data": {
      "text/html": [
       "<div>\n",
       "<style scoped>\n",
       "    .dataframe tbody tr th:only-of-type {\n",
       "        vertical-align: middle;\n",
       "    }\n",
       "\n",
       "    .dataframe tbody tr th {\n",
       "        vertical-align: top;\n",
       "    }\n",
       "\n",
       "    .dataframe thead th {\n",
       "        text-align: right;\n",
       "    }\n",
       "</style>\n",
       "<table border=\"1\" class=\"dataframe\">\n",
       "  <thead>\n",
       "    <tr style=\"text-align: right;\">\n",
       "      <th></th>\n",
       "      <th>id</th>\n",
       "      <th>asins</th>\n",
       "      <th>brand</th>\n",
       "      <th>...</th>\n",
       "      <th>upc</th>\n",
       "      <th>websiteIDs</th>\n",
       "      <th>weight</th>\n",
       "    </tr>\n",
       "  </thead>\n",
       "  <tbody>\n",
       "    <tr>\n",
       "      <th>0</th>\n",
       "      <td>AVpfBXx21cnluZ0-cKxs</td>\n",
       "      <td>NaN</td>\n",
       "      <td>Zoot</td>\n",
       "      <td>...</td>\n",
       "      <td>NaN</td>\n",
       "      <td>NaN</td>\n",
       "      <td>NaN</td>\n",
       "    </tr>\n",
       "    <tr>\n",
       "      <th>1</th>\n",
       "      <td>AVpfBXx21cnluZ0-cKxs</td>\n",
       "      <td>NaN</td>\n",
       "      <td>Zoot</td>\n",
       "      <td>...</td>\n",
       "      <td>NaN</td>\n",
       "      <td>NaN</td>\n",
       "      <td>NaN</td>\n",
       "    </tr>\n",
       "    <tr>\n",
       "      <th>2</th>\n",
       "      <td>AVpfBXx21cnluZ0-cKxs</td>\n",
       "      <td>NaN</td>\n",
       "      <td>Zoot</td>\n",
       "      <td>...</td>\n",
       "      <td>NaN</td>\n",
       "      <td>NaN</td>\n",
       "      <td>NaN</td>\n",
       "    </tr>\n",
       "    <tr>\n",
       "      <th>3</th>\n",
       "      <td>AVpfBXx21cnluZ0-cKxs</td>\n",
       "      <td>NaN</td>\n",
       "      <td>Zoot</td>\n",
       "      <td>...</td>\n",
       "      <td>NaN</td>\n",
       "      <td>NaN</td>\n",
       "      <td>NaN</td>\n",
       "    </tr>\n",
       "    <tr>\n",
       "      <th>4</th>\n",
       "      <td>AVpfEqFRLJeJML431x7w</td>\n",
       "      <td>NaN</td>\n",
       "      <td>Wild Pair</td>\n",
       "      <td>...</td>\n",
       "      <td>7.63181E+11</td>\n",
       "      <td>NaN</td>\n",
       "      <td>NaN</td>\n",
       "    </tr>\n",
       "  </tbody>\n",
       "</table>\n",
       "<p>5 rows × 47 columns</p>\n",
       "</div>"
      ],
      "text/plain": [
       "                     id asins      brand  ...          upc websiteIDs  weight\n",
       "0  AVpfBXx21cnluZ0-cKxs   NaN       Zoot  ...          NaN        NaN     NaN\n",
       "1  AVpfBXx21cnluZ0-cKxs   NaN       Zoot  ...          NaN        NaN     NaN\n",
       "2  AVpfBXx21cnluZ0-cKxs   NaN       Zoot  ...          NaN        NaN     NaN\n",
       "3  AVpfBXx21cnluZ0-cKxs   NaN       Zoot  ...          NaN        NaN     NaN\n",
       "4  AVpfEqFRLJeJML431x7w   NaN  Wild Pair  ...  7.63181E+11        NaN     NaN\n",
       "\n",
       "[5 rows x 47 columns]"
      ]
     },
     "execution_count": 22,
     "metadata": {},
     "output_type": "execute_result"
    }
   ],
   "source": [
    "df = pd.read_csv(\"desktop/7003_1.csv\")\n",
    "pd.set_option('display.max_columns', 7)\n",
    "pd.set_option('display.max_rows', 10)\n",
    "df.head()"
   ]
  },
  {
   "cell_type": "markdown",
   "id": "216f5ff2",
   "metadata": {},
   "source": [
    "## Removing Irrelevant Columns"
   ]
  },
  {
   "cell_type": "code",
   "execution_count": 23,
   "id": "53c2b920",
   "metadata": {
    "scrolled": false
   },
   "outputs": [
    {
     "data": {
      "text/html": [
       "<div>\n",
       "<style scoped>\n",
       "    .dataframe tbody tr th:only-of-type {\n",
       "        vertical-align: middle;\n",
       "    }\n",
       "\n",
       "    .dataframe tbody tr th {\n",
       "        vertical-align: top;\n",
       "    }\n",
       "\n",
       "    .dataframe thead th {\n",
       "        text-align: right;\n",
       "    }\n",
       "</style>\n",
       "<table border=\"1\" class=\"dataframe\">\n",
       "  <thead>\n",
       "    <tr style=\"text-align: right;\">\n",
       "      <th></th>\n",
       "      <th>id</th>\n",
       "      <th>brand</th>\n",
       "      <th>categories</th>\n",
       "      <th>...</th>\n",
       "      <th>prices.currency</th>\n",
       "      <th>prices.merchant</th>\n",
       "      <th>sizes</th>\n",
       "    </tr>\n",
       "  </thead>\n",
       "  <tbody>\n",
       "    <tr>\n",
       "      <th>0</th>\n",
       "      <td>AVpfBXx21cnluZ0-cKxs</td>\n",
       "      <td>Zoot</td>\n",
       "      <td>Shoes,Clothing,Women's Shoes,All Women's Shoes</td>\n",
       "      <td>...</td>\n",
       "      <td>USD</td>\n",
       "      <td>NaN</td>\n",
       "      <td>10,9</td>\n",
       "    </tr>\n",
       "    <tr>\n",
       "      <th>1</th>\n",
       "      <td>AVpfBXx21cnluZ0-cKxs</td>\n",
       "      <td>Zoot</td>\n",
       "      <td>Shoes,Clothing,Women's Shoes,All Women's Shoes</td>\n",
       "      <td>...</td>\n",
       "      <td>USD</td>\n",
       "      <td>ApparelSave - Walmart.com</td>\n",
       "      <td>10,9</td>\n",
       "    </tr>\n",
       "    <tr>\n",
       "      <th>2</th>\n",
       "      <td>AVpfBXx21cnluZ0-cKxs</td>\n",
       "      <td>Zoot</td>\n",
       "      <td>Shoes,Clothing,Women's Shoes,All Women's Shoes</td>\n",
       "      <td>...</td>\n",
       "      <td>USD</td>\n",
       "      <td>ApparelSave - Walmart.com</td>\n",
       "      <td>10,9</td>\n",
       "    </tr>\n",
       "    <tr>\n",
       "      <th>3</th>\n",
       "      <td>AVpfBXx21cnluZ0-cKxs</td>\n",
       "      <td>Zoot</td>\n",
       "      <td>Shoes,Clothing,Women's Shoes,All Women's Shoes</td>\n",
       "      <td>...</td>\n",
       "      <td>USD</td>\n",
       "      <td>ApparelSave - Walmart.com</td>\n",
       "      <td>10,9</td>\n",
       "    </tr>\n",
       "    <tr>\n",
       "      <th>4</th>\n",
       "      <td>AVpfEqFRLJeJML431x7w</td>\n",
       "      <td>Wild Pair</td>\n",
       "      <td>Shoes,Women's Shoes,Clothing,All Women's Shoes</td>\n",
       "      <td>...</td>\n",
       "      <td>USD</td>\n",
       "      <td>NaN</td>\n",
       "      <td>8.5,7,7.5,8</td>\n",
       "    </tr>\n",
       "  </tbody>\n",
       "</table>\n",
       "<p>5 rows × 12 columns</p>\n",
       "</div>"
      ],
      "text/plain": [
       "                     id      brand  \\\n",
       "0  AVpfBXx21cnluZ0-cKxs       Zoot   \n",
       "1  AVpfBXx21cnluZ0-cKxs       Zoot   \n",
       "2  AVpfBXx21cnluZ0-cKxs       Zoot   \n",
       "3  AVpfBXx21cnluZ0-cKxs       Zoot   \n",
       "4  AVpfEqFRLJeJML431x7w  Wild Pair   \n",
       "\n",
       "                                       categories  ... prices.currency  \\\n",
       "0  Shoes,Clothing,Women's Shoes,All Women's Shoes  ...             USD   \n",
       "1  Shoes,Clothing,Women's Shoes,All Women's Shoes  ...             USD   \n",
       "2  Shoes,Clothing,Women's Shoes,All Women's Shoes  ...             USD   \n",
       "3  Shoes,Clothing,Women's Shoes,All Women's Shoes  ...             USD   \n",
       "4  Shoes,Women's Shoes,Clothing,All Women's Shoes  ...             USD   \n",
       "\n",
       "             prices.merchant        sizes  \n",
       "0                        NaN         10,9  \n",
       "1  ApparelSave - Walmart.com         10,9  \n",
       "2  ApparelSave - Walmart.com         10,9  \n",
       "3  ApparelSave - Walmart.com         10,9  \n",
       "4                        NaN  8.5,7,7.5,8  \n",
       "\n",
       "[5 rows x 12 columns]"
      ]
     },
     "execution_count": 23,
     "metadata": {},
     "output_type": "execute_result"
    }
   ],
   "source": [
    "FILTERED_DATA = df[[\n",
    "    \"id\",\n",
    "    \"brand\",\n",
    "    \"categories\",\n",
    "    \"colors\",\n",
    "    \"descriptions\",\n",
    "    \"features\",\n",
    "    \"merchants\",\n",
    "    \"name\",\n",
    "    \"prices.amountMax\",\n",
    "    \"prices.currency\",\n",
    "    \"prices.merchant\",\n",
    "    \"sizes\",\n",
    "]]\n",
    "test.head()"
   ]
  },
  {
   "cell_type": "code",
   "execution_count": 29,
   "id": "1535c7c0",
   "metadata": {},
   "outputs": [
    {
     "data": {
      "text/plain": [
       "10000"
      ]
     },
     "execution_count": 29,
     "metadata": {},
     "output_type": "execute_result"
    }
   ],
   "source": [
    "len(df[\"id\"].unique())"
   ]
  },
  {
   "cell_type": "code",
   "execution_count": 30,
   "id": "fe9ca965",
   "metadata": {},
   "outputs": [
    {
     "data": {
      "text/plain": [
       "array(['USD', 'CAD', 'AUD', 'EUR', nan, 'GBP',\n",
       "       'Off Price Direct - Walmart.com', 'new'], dtype=object)"
      ]
     },
     "execution_count": 30,
     "metadata": {},
     "output_type": "execute_result"
    }
   ],
   "source": [
    "df[\"prices.currency\"].unique()"
   ]
  },
  {
   "cell_type": "markdown",
   "id": "a593bca5",
   "metadata": {},
   "source": [
    "## Specific Analysis (Nike)"
   ]
  },
  {
   "cell_type": "code",
   "execution_count": 36,
   "id": "cf09ee0a",
   "metadata": {},
   "outputs": [],
   "source": [
    "nike_df = ps.sqldf(\"select * from df where lower(brand) = 'nike'\")\n",
    "nike_price_list = nike_df[\"prices.amountMax\"]"
   ]
  },
  {
   "cell_type": "code",
   "execution_count": 34,
   "id": "77a053fb",
   "metadata": {},
   "outputs": [],
   "source": [
    "npl = []\n",
    "\n",
    "for item in nike_price_list:\n",
    "    npl.append(float(item))\n",
    "\n",
    "npl = sorted(npl)"
   ]
  },
  {
   "cell_type": "code",
   "execution_count": 35,
   "id": "5ced4feb",
   "metadata": {},
   "outputs": [
    {
     "data": {
      "image/png": "[encoded data removed]",
      "text/plain": [
       "<Figure size 432x288 with 1 Axes>"
      ]
     },
     "metadata": {
      "needs_background": "light"
     },
     "output_type": "display_data"
    }
   ],
   "source": [
    "\n",
    "nike_price_list = np.array(nike_price_list)\n",
    "\n",
    "plt.scatter(range(len(npl)), npl)\n",
    "plt.show()"
   ]
  },
  {
   "cell_type": "code",
   "execution_count": 98,
   "id": "f5ed6015",
   "metadata": {},
   "outputs": [
    {
     "data": {
      "text/plain": [
       "(array([ 6., 19., 25., 25., 26., 35., 43., 42., 32., 23., 21., 16., 19.,\n",
       "         6., 12.,  4.,  0.,  4.,  1.,  4.,  0.,  1.,  1.,  0.,  2.,  0.,\n",
       "         0.,  0.,  0.,  0.,  0.,  0.,  0.,  0.,  0.,  0.,  0.,  0.,  0.,\n",
       "         2.]),\n",
       " array([  9.5    ,  19.26225,  29.0245 ,  38.78675,  48.549  ,  58.31125,\n",
       "         68.0735 ,  77.83575,  87.598  ,  97.36025, 107.1225 , 116.88475,\n",
       "        126.647  , 136.40925, 146.1715 , 155.93375, 165.696  , 175.45825,\n",
       "        185.2205 , 194.98275, 204.745  , 214.50725, 224.2695 , 234.03175,\n",
       "        243.794  , 253.55625, 263.3185 , 273.08075, 282.843  , 292.60525,\n",
       "        302.3675 , 312.12975, 321.892  , 331.65425, 341.4165 , 351.17875,\n",
       "        360.941  , 370.70325, 380.4655 , 390.22775, 399.99   ]),\n",
       " <BarContainer object of 40 artists>)"
      ]
     },
     "execution_count": 98,
     "metadata": {},
     "output_type": "execute_result"
    },
    {
     "data": {
      "image/png": "[encoded data removed]",
      "text/plain": [
       "<Figure size 432x288 with 1 Axes>"
      ]
     },
     "metadata": {
      "needs_background": "light"
     },
     "output_type": "display_data"
    }
   ],
   "source": [
    "plt.hist(npl, bins=40)"
   ]
  },
  {
   "cell_type": "code",
   "execution_count": 94,
   "id": "4880a3ca",
   "metadata": {},
   "outputs": [
    {
     "data": {
      "text/plain": [
       "{'whiskers': [<matplotlib.lines.Line2D at 0x13f37694250>,\n",
       "  <matplotlib.lines.Line2D at 0x13f376945b0>],\n",
       " 'caps': [<matplotlib.lines.Line2D at 0x13f37694910>,\n",
       "  <matplotlib.lines.Line2D at 0x13f37694c70>],\n",
       " 'boxes': [<matplotlib.lines.Line2D at 0x13f376a2eb0>],\n",
       " 'medians': [<matplotlib.lines.Line2D at 0x13f37694fd0>],\n",
       " 'fliers': [<matplotlib.lines.Line2D at 0x13f3764e370>],\n",
       " 'means': []}"
      ]
     },
     "execution_count": 94,
     "metadata": {},
     "output_type": "execute_result"
    },
    {
     "data": {
      "image/png": "[encoded data removed]",
      "text/plain": [
       "<Figure size 432x288 with 1 Axes>"
      ]
     },
     "metadata": {
      "needs_background": "light"
     },
     "output_type": "display_data"
    }
   ],
   "source": [
    "plt.boxplot(npl)"
   ]
  },
  {
   "cell_type": "code",
   "execution_count": 49,
   "id": "69deb530",
   "metadata": {},
   "outputs": [
    {
     "data": {
      "text/html": [
       "<div>\n",
       "<style scoped>\n",
       "    .dataframe tbody tr th:only-of-type {\n",
       "        vertical-align: middle;\n",
       "    }\n",
       "\n",
       "    .dataframe tbody tr th {\n",
       "        vertical-align: top;\n",
       "    }\n",
       "\n",
       "    .dataframe thead th {\n",
       "        text-align: right;\n",
       "    }\n",
       "</style>\n",
       "<table border=\"1\" class=\"dataframe\">\n",
       "  <thead>\n",
       "    <tr style=\"text-align: right;\">\n",
       "      <th></th>\n",
       "      <th>brand</th>\n",
       "      <th>prices.amountMax</th>\n",
       "    </tr>\n",
       "  </thead>\n",
       "  <tbody>\n",
       "    <tr>\n",
       "      <th>0</th>\n",
       "      <td>Zoot</td>\n",
       "      <td>71.99</td>\n",
       "    </tr>\n",
       "    <tr>\n",
       "      <th>1</th>\n",
       "      <td>Zoot</td>\n",
       "      <td>250</td>\n",
       "    </tr>\n",
       "    <tr>\n",
       "      <th>2</th>\n",
       "      <td>Zoot</td>\n",
       "      <td>75.99</td>\n",
       "    </tr>\n",
       "    <tr>\n",
       "      <th>3</th>\n",
       "      <td>Zoot</td>\n",
       "      <td>79.98</td>\n",
       "    </tr>\n",
       "    <tr>\n",
       "      <th>4</th>\n",
       "      <td>Wild Pair</td>\n",
       "      <td>26.98</td>\n",
       "    </tr>\n",
       "    <tr>\n",
       "      <th>...</th>\n",
       "      <td>...</td>\n",
       "      <td>...</td>\n",
       "    </tr>\n",
       "    <tr>\n",
       "      <th>19040</th>\n",
       "      <td>NIXON</td>\n",
       "      <td>130</td>\n",
       "    </tr>\n",
       "    <tr>\n",
       "      <th>19041</th>\n",
       "      <td>Tundra</td>\n",
       "      <td>39.99</td>\n",
       "    </tr>\n",
       "    <tr>\n",
       "      <th>19042</th>\n",
       "      <td>Tundra</td>\n",
       "      <td>66</td>\n",
       "    </tr>\n",
       "    <tr>\n",
       "      <th>19043</th>\n",
       "      <td>Tundra</td>\n",
       "      <td>49.98</td>\n",
       "    </tr>\n",
       "    <tr>\n",
       "      <th>19044</th>\n",
       "      <td>Tundra</td>\n",
       "      <td>33.99</td>\n",
       "    </tr>\n",
       "  </tbody>\n",
       "</table>\n",
       "<p>19045 rows × 2 columns</p>\n",
       "</div>"
      ],
      "text/plain": [
       "           brand prices.amountMax\n",
       "0           Zoot            71.99\n",
       "1           Zoot              250\n",
       "2           Zoot            75.99\n",
       "3           Zoot            79.98\n",
       "4      Wild Pair            26.98\n",
       "...          ...              ...\n",
       "19040      NIXON              130\n",
       "19041     Tundra            39.99\n",
       "19042     Tundra               66\n",
       "19043     Tundra            49.98\n",
       "19044     Tundra            33.99\n",
       "\n",
       "[19045 rows x 2 columns]"
      ]
     },
     "execution_count": 49,
     "metadata": {},
     "output_type": "execute_result"
    }
   ],
   "source": [
    "df[[\"brand\", \"prices.amountMax\"]]"
   ]
  },
  {
   "cell_type": "code",
   "execution_count": 10,
   "id": "a6a5aae7",
   "metadata": {
    "scrolled": true
   },
   "outputs": [
    {
     "data": {
      "text/html": [
       "<div>\n",
       "<style scoped>\n",
       "    .dataframe tbody tr th:only-of-type {\n",
       "        vertical-align: middle;\n",
       "    }\n",
       "\n",
       "    .dataframe tbody tr th {\n",
       "        vertical-align: top;\n",
       "    }\n",
       "\n",
       "    .dataframe thead th {\n",
       "        text-align: right;\n",
       "    }\n",
       "</style>\n",
       "<table border=\"1\" class=\"dataframe\">\n",
       "  <thead>\n",
       "    <tr style=\"text-align: right;\">\n",
       "      <th></th>\n",
       "      <th>id</th>\n",
       "      <th>asins</th>\n",
       "      <th>brand</th>\n",
       "      <th>categories</th>\n",
       "      <th>colors</th>\n",
       "      <th>count</th>\n",
       "      <th>dateAdded</th>\n",
       "      <th>dateUpdated</th>\n",
       "      <th>descriptions</th>\n",
       "      <th>dimension</th>\n",
       "      <th>...</th>\n",
       "      <th>prices.sourceURLs</th>\n",
       "      <th>prices.warranty</th>\n",
       "      <th>quantities</th>\n",
       "      <th>reviews</th>\n",
       "      <th>sizes</th>\n",
       "      <th>skus</th>\n",
       "      <th>sourceURLs</th>\n",
       "      <th>upc</th>\n",
       "      <th>websiteIDs</th>\n",
       "      <th>weight</th>\n",
       "    </tr>\n",
       "  </thead>\n",
       "  <tbody>\n",
       "  </tbody>\n",
       "</table>\n",
       "<p>0 rows × 47 columns</p>\n",
       "</div>"
      ],
      "text/plain": [
       "Empty DataFrame\n",
       "Columns: [id, asins, brand, categories, colors, count, dateAdded, dateUpdated, descriptions, dimension, ean, features, flavors, imageURLs, isbn, keys, manufacturer, manufacturerNumber, merchants, name, prices.amountMin, prices.amountMax, prices.availability, prices.color, prices.condition, prices.count, prices.currency, prices.dateAdded, prices.dateSeen, prices.flavor, prices.isSale, prices.merchant, prices.offer, prices.returnPolicy, prices.shipping, prices.size, prices.source, prices.sourceURLs, prices.warranty, quantities, reviews, sizes, skus, sourceURLs, upc, websiteIDs, weight]\n",
       "Index: []\n",
       "\n",
       "[0 rows x 47 columns]"
      ]
     },
     "execution_count": 10,
     "metadata": {},
     "output_type": "execute_result"
    }
   ],
   "source": [
    "df.dropna() # no data which has every column filled"
   ]
  }
 ],
 "metadata": {
  "kernelspec": {
   "display_name": "Python 3",
   "language": "python",
   "name": "python3"
  },
  "language_info": {
   "codemirror_mode": {
    "name": "ipython",
    "version": 3
   },
   "file_extension": ".py",
   "mimetype": "text/x-python",
   "name": "python",
   "nbconvert_exporter": "python",
   "pygments_lexer": "ipython3",
   "version": "3.8.8"
  }
 },
 "nbformat": 4,
 "nbformat_minor": 5
}
