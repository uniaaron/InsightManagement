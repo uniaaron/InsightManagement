{
 "cells": [
  {
   "cell_type": "code",
   "execution_count": 96,
   "id": "50035fcd",
   "metadata": {},
   "outputs": [],
   "source": [
    "import pandas as pd\n",
    "import pandasql as sqldf\n",
    "import numpy as np\n",
    "import matplotlib.pyplot as plt\n",
    "import seaborn as sns\n",
    "import scipy.stats as sp \n",
    "\n",
    "sns.set_theme(style=\"darkgrid\")"
   ]
  },
  {
   "cell_type": "code",
   "execution_count": 3,
   "id": "682f7712",
   "metadata": {},
   "outputs": [],
   "source": [
    "w_df = pd.read_csv(\"7003_1.csv\")\n",
    "m_df = pd.read_excel(\"7004_1.xlsx\")\n",
    "\n",
    "pd.set_option('display.max_columns', 8)\n",
    "pd.set_option('display.max_rows', 10)"
   ]
  },
  {
   "cell_type": "code",
   "execution_count": 4,
   "id": "53b5a2bc",
   "metadata": {},
   "outputs": [],
   "source": [
    "w_df[\"gender\"] = \"female\"\n",
    "m_df[\"gender\"] = \"male\""
   ]
  },
  {
   "cell_type": "markdown",
   "id": "216f5ff2",
   "metadata": {},
   "source": [
    "# CLEANING"
   ]
  },
  {
   "cell_type": "code",
   "execution_count": 6,
   "id": "53c2b920",
   "metadata": {
    "scrolled": false
   },
   "outputs": [],
   "source": [
    "w_df = w_df[[\n",
    "    \"id\",\n",
    "    \"brand\",\n",
    "    \"categories\",\n",
    "    \"colors\",\n",
    "    \"descriptions\",\n",
    "    \"features\",\n",
    "    \"name\",\n",
    "    \"prices.amountMax\",\n",
    "    \"prices.currency\",\n",
    "    \"prices.merchant\",\n",
    "    \"prices.isSale\",\n",
    "    \"gender\"\n",
    "]]\n",
    "\n",
    "m_df = m_df[[\n",
    "    \"id\",\n",
    "    \"brand\",\n",
    "    \"categories\",\n",
    "    \"colors\",\n",
    "    \"descriptions\",\n",
    "    \"features\",\n",
    "    \"name\",\n",
    "    \"prices.amountMax\",\n",
    "    \"prices.currency\",\n",
    "    \"prices.merchant\",\n",
    "    \"prices.isSale\",\n",
    "    \"gender\"\n",
    "]]"
   ]
  },
  {
   "cell_type": "code",
   "execution_count": 7,
   "id": "e39e6bcc",
   "metadata": {},
   "outputs": [
    {
     "data": {
      "text/html": [
       "<div>\n",
       "<style scoped>\n",
       "    .dataframe tbody tr th:only-of-type {\n",
       "        vertical-align: middle;\n",
       "    }\n",
       "\n",
       "    .dataframe tbody tr th {\n",
       "        vertical-align: top;\n",
       "    }\n",
       "\n",
       "    .dataframe thead th {\n",
       "        text-align: right;\n",
       "    }\n",
       "</style>\n",
       "<table border=\"1\" class=\"dataframe\">\n",
       "  <thead>\n",
       "    <tr style=\"text-align: right;\">\n",
       "      <th></th>\n",
       "      <th>id</th>\n",
       "      <th>brand</th>\n",
       "      <th>categories</th>\n",
       "      <th>colors</th>\n",
       "      <th>...</th>\n",
       "      <th>prices.currency</th>\n",
       "      <th>prices.merchant</th>\n",
       "      <th>prices.isSale</th>\n",
       "      <th>gender</th>\n",
       "    </tr>\n",
       "  </thead>\n",
       "  <tbody>\n",
       "    <tr>\n",
       "      <th>0</th>\n",
       "      <td>AVpfHrJ6ilAPnD_xVXOI</td>\n",
       "      <td>Josmo</td>\n",
       "      <td>Clothing,Shoes,Men's Shoes,All Men's Shoes</td>\n",
       "      <td>NaN</td>\n",
       "      <td>...</td>\n",
       "      <td>USD</td>\n",
       "      <td>NaN</td>\n",
       "      <td>True</td>\n",
       "      <td>male</td>\n",
       "    </tr>\n",
       "    <tr>\n",
       "      <th>1</th>\n",
       "      <td>AVpfHrJ6ilAPnD_xVXOI</td>\n",
       "      <td>Josmo</td>\n",
       "      <td>Clothing,Shoes,Men's Shoes,All Men's Shoes</td>\n",
       "      <td>NaN</td>\n",
       "      <td>...</td>\n",
       "      <td>USD</td>\n",
       "      <td>UnbeatableSale - Walmart.com</td>\n",
       "      <td>False</td>\n",
       "      <td>male</td>\n",
       "    </tr>\n",
       "    <tr>\n",
       "      <th>2</th>\n",
       "      <td>AVpfHsWP1cnluZ0-eVZ7</td>\n",
       "      <td>SERVUS BY HONEYWELL</td>\n",
       "      <td>All Men's Shoes,Shoes,Men's Shoes,Clothing</td>\n",
       "      <td>NaN</td>\n",
       "      <td>...</td>\n",
       "      <td>USD</td>\n",
       "      <td>SIM Supply Inc - Walmart.com</td>\n",
       "      <td>False</td>\n",
       "      <td>male</td>\n",
       "    </tr>\n",
       "    <tr>\n",
       "      <th>3</th>\n",
       "      <td>AVpfHsWP1cnluZ0-eVZ7</td>\n",
       "      <td>SERVUS BY HONEYWELL</td>\n",
       "      <td>All Men's Shoes,Shoes,Men's Shoes,Clothing</td>\n",
       "      <td>NaN</td>\n",
       "      <td>...</td>\n",
       "      <td>USD</td>\n",
       "      <td>SIM Supply Inc - Walmart.com</td>\n",
       "      <td>False</td>\n",
       "      <td>male</td>\n",
       "    </tr>\n",
       "    <tr>\n",
       "      <th>4</th>\n",
       "      <td>AVpfHsWP1cnluZ0-eVZ7</td>\n",
       "      <td>SERVUS BY HONEYWELL</td>\n",
       "      <td>All Men's Shoes,Shoes,Men's Shoes,Clothing</td>\n",
       "      <td>NaN</td>\n",
       "      <td>...</td>\n",
       "      <td>USD</td>\n",
       "      <td>SIM Supply Inc - Walmart.com</td>\n",
       "      <td>False</td>\n",
       "      <td>male</td>\n",
       "    </tr>\n",
       "    <tr>\n",
       "      <th>...</th>\n",
       "      <td>...</td>\n",
       "      <td>...</td>\n",
       "      <td>...</td>\n",
       "      <td>...</td>\n",
       "      <td>...</td>\n",
       "      <td>...</td>\n",
       "      <td>...</td>\n",
       "      <td>...</td>\n",
       "      <td>...</td>\n",
       "    </tr>\n",
       "    <tr>\n",
       "      <th>19040</th>\n",
       "      <td>AVpe6e3f1cnluZ0-Zsk7</td>\n",
       "      <td>NIXON</td>\n",
       "      <td>Watches,Clothing, Shoes &amp; Jewelry,Women,Wrist ...</td>\n",
       "      <td>Black</td>\n",
       "      <td>...</td>\n",
       "      <td>USD</td>\n",
       "      <td>NaN</td>\n",
       "      <td>FALSE</td>\n",
       "      <td>female</td>\n",
       "    </tr>\n",
       "    <tr>\n",
       "      <th>19041</th>\n",
       "      <td>AVpfXLGG1cnluZ0-jY7B</td>\n",
       "      <td>Tundra</td>\n",
       "      <td>Shoes,Clothing,Women's Shoes,All Women's Shoes</td>\n",
       "      <td>Black</td>\n",
       "      <td>...</td>\n",
       "      <td>USD</td>\n",
       "      <td>NaN</td>\n",
       "      <td>TRUE</td>\n",
       "      <td>female</td>\n",
       "    </tr>\n",
       "    <tr>\n",
       "      <th>19042</th>\n",
       "      <td>AVpfXLGG1cnluZ0-jY7B</td>\n",
       "      <td>Tundra</td>\n",
       "      <td>Shoes,Clothing,Women's Shoes,All Women's Shoes</td>\n",
       "      <td>Black</td>\n",
       "      <td>...</td>\n",
       "      <td>USD</td>\n",
       "      <td>ApparelSave - Walmart.com</td>\n",
       "      <td>FALSE</td>\n",
       "      <td>female</td>\n",
       "    </tr>\n",
       "    <tr>\n",
       "      <th>19043</th>\n",
       "      <td>AVpfXLGG1cnluZ0-jY7B</td>\n",
       "      <td>Tundra</td>\n",
       "      <td>Shoes,Clothing,Women's Shoes,All Women's Shoes</td>\n",
       "      <td>Black</td>\n",
       "      <td>...</td>\n",
       "      <td>USD</td>\n",
       "      <td>ApparelSave - Walmart.com</td>\n",
       "      <td>TRUE</td>\n",
       "      <td>female</td>\n",
       "    </tr>\n",
       "    <tr>\n",
       "      <th>19044</th>\n",
       "      <td>AVpfXLGG1cnluZ0-jY7B</td>\n",
       "      <td>Tundra</td>\n",
       "      <td>Shoes,Clothing,Women's Shoes,All Women's Shoes</td>\n",
       "      <td>Black</td>\n",
       "      <td>...</td>\n",
       "      <td>USD</td>\n",
       "      <td>ApparelSave - Walmart.com</td>\n",
       "      <td>TRUE</td>\n",
       "      <td>female</td>\n",
       "    </tr>\n",
       "  </tbody>\n",
       "</table>\n",
       "<p>38432 rows × 12 columns</p>\n",
       "</div>"
      ],
      "text/plain": [
       "                         id                brand  \\\n",
       "0      AVpfHrJ6ilAPnD_xVXOI                Josmo   \n",
       "1      AVpfHrJ6ilAPnD_xVXOI                Josmo   \n",
       "2      AVpfHsWP1cnluZ0-eVZ7  SERVUS BY HONEYWELL   \n",
       "3      AVpfHsWP1cnluZ0-eVZ7  SERVUS BY HONEYWELL   \n",
       "4      AVpfHsWP1cnluZ0-eVZ7  SERVUS BY HONEYWELL   \n",
       "...                     ...                  ...   \n",
       "19040  AVpe6e3f1cnluZ0-Zsk7                NIXON   \n",
       "19041  AVpfXLGG1cnluZ0-jY7B               Tundra   \n",
       "19042  AVpfXLGG1cnluZ0-jY7B               Tundra   \n",
       "19043  AVpfXLGG1cnluZ0-jY7B               Tundra   \n",
       "19044  AVpfXLGG1cnluZ0-jY7B               Tundra   \n",
       "\n",
       "                                              categories colors  ...  \\\n",
       "0             Clothing,Shoes,Men's Shoes,All Men's Shoes    NaN  ...   \n",
       "1             Clothing,Shoes,Men's Shoes,All Men's Shoes    NaN  ...   \n",
       "2             All Men's Shoes,Shoes,Men's Shoes,Clothing    NaN  ...   \n",
       "3             All Men's Shoes,Shoes,Men's Shoes,Clothing    NaN  ...   \n",
       "4             All Men's Shoes,Shoes,Men's Shoes,Clothing    NaN  ...   \n",
       "...                                                  ...    ...  ...   \n",
       "19040  Watches,Clothing, Shoes & Jewelry,Women,Wrist ...  Black  ...   \n",
       "19041     Shoes,Clothing,Women's Shoes,All Women's Shoes  Black  ...   \n",
       "19042     Shoes,Clothing,Women's Shoes,All Women's Shoes  Black  ...   \n",
       "19043     Shoes,Clothing,Women's Shoes,All Women's Shoes  Black  ...   \n",
       "19044     Shoes,Clothing,Women's Shoes,All Women's Shoes  Black  ...   \n",
       "\n",
       "      prices.currency               prices.merchant prices.isSale  gender  \n",
       "0                 USD                           NaN          True    male  \n",
       "1                 USD  UnbeatableSale - Walmart.com         False    male  \n",
       "2                 USD  SIM Supply Inc - Walmart.com         False    male  \n",
       "3                 USD  SIM Supply Inc - Walmart.com         False    male  \n",
       "4                 USD  SIM Supply Inc - Walmart.com         False    male  \n",
       "...               ...                           ...           ...     ...  \n",
       "19040             USD                           NaN         FALSE  female  \n",
       "19041             USD                           NaN          TRUE  female  \n",
       "19042             USD     ApparelSave - Walmart.com         FALSE  female  \n",
       "19043             USD     ApparelSave - Walmart.com          TRUE  female  \n",
       "19044             USD     ApparelSave - Walmart.com          TRUE  female  \n",
       "\n",
       "[38432 rows x 12 columns]"
      ]
     },
     "execution_count": 7,
     "metadata": {},
     "output_type": "execute_result"
    }
   ],
   "source": [
    "frames = [m_df, w_df]\n",
    "df = pd.concat(frames)\n",
    "df"
   ]
  },
  {
   "cell_type": "code",
   "execution_count": 8,
   "id": "9040120c",
   "metadata": {},
   "outputs": [],
   "source": [
    "df = df.drop_duplicates() # subset=[\"id\"])\n",
    "df = df.dropna()"
   ]
  },
  {
   "cell_type": "code",
   "execution_count": 9,
   "id": "ac6111d4",
   "metadata": {},
   "outputs": [],
   "source": [
    "df = df.rename(columns={\n",
    "    \"id\": \"ID\", \n",
    "    \"prices.amountMax\": \"price\",\n",
    "    \"prices.currency\": \"currency\",\n",
    "    \"prices.merchant\": \"merchant\",\n",
    "    \"prices.isSale\": \"sale\"\n",
    "})"
   ]
  },
  {
   "cell_type": "code",
   "execution_count": 10,
   "id": "25976fb6",
   "metadata": {},
   "outputs": [],
   "source": [
    "# This will coerce all non-numeric values to NaN, which will then be flagged as False using notnull(). \n",
    "# Other numeric values will be converted to True.\n",
    "\n",
    "df = df[pd.to_numeric(df['price'], errors='coerce').notnull()]\n",
    "df['price'] = pd.to_numeric(df['price'])\n",
    "# df['price']"
   ]
  },
  {
   "cell_type": "code",
   "execution_count": 12,
   "id": "94ae224a",
   "metadata": {},
   "outputs": [],
   "source": [
    "df = df[df[\"currency\"] == \"USD\"]"
   ]
  },
  {
   "cell_type": "code",
   "execution_count": 13,
   "id": "e6d18c11",
   "metadata": {},
   "outputs": [],
   "source": [
    "m_df = df[df[\"gender\"] == \"male\"]\n",
    "w_df = df[df[\"gender\"] == \"female\"]"
   ]
  },
  {
   "cell_type": "markdown",
   "id": "1cfc96e4",
   "metadata": {},
   "source": [
    "# ANALYSIS"
   ]
  },
  {
   "cell_type": "markdown",
   "id": "2f5b24dc",
   "metadata": {},
   "source": [
    "## Categories"
   ]
  },
  {
   "cell_type": "code",
   "execution_count": 18,
   "id": "2004dae2",
   "metadata": {
    "collapsed": true
   },
   "outputs": [
    {
     "data": {
      "text/plain": [
       "array([\"Shoes,Clothing,Women's Shoes,All Women's Shoes\",\n",
       "       \"Shoes,Women's Shoes,Clothing,All Women's Shoes\",\n",
       "       \"Shoes,Clothing,Women's Shoes,All Women's Shoes,Sneakers & Athletic Shoes\",\n",
       "       \"Clothing,Shoes,Women's Shoes,All Women's Shoes\",\n",
       "       \"Clothing,Shoes,Women's Shoes,Women's Slippers\",\n",
       "       \"Women's Dress Shoes,Shoes,Women's Shoes,Clothing\",\n",
       "       \"Women's Sandals,Shoes,Women's Shoes,Clothing\",\n",
       "       \"Women's Casual Shoes,Shoes,Clothing,Women's Shoes\",\n",
       "       \"Clothing,Shoes,Women's Shoes,Women's Boots\",\n",
       "       \"Clothing,Shoes,Women's Shoes,Women's Athletic Shoes\",\n",
       "       \"Clothing,Shoes,Women's Shoes,Women's Sandals\",\n",
       "       \"Women's Casual Shoes,Shoes,Women's Shoes,Clothing\",\n",
       "       \"Shoes,Women's Boots,Women's Shoes,Clothing\",\n",
       "       \"Women's Casual Shoes,Shoes,Clothing,Women's Shoes,All Women's Shoes\",\n",
       "       \"Clothing,Shoes,Women's Shoes,Women's Casual Shoes\",\n",
       "       \"Women's Sandals,Shoes,Clothing,Women's Shoes\",\n",
       "       \"Women's Slippers,Shoes,Women's Shoes,Clothing\",\n",
       "       \"Clothing,Shoes,Women's Shoes,Women's Dress Shoes\",\n",
       "       \"Clothing, Shoes & Accessories,Hair Accessories,Hair Care,Hair Brushes & Styling Accessories,Beauty,Women's Accessories,Health & Beauty\",\n",
       "       \"Women's Athletic Shoes,Shoes,Women's Shoes,Clothing,Clothing, Shoes & Jewelry,Women,Athletic,Fitness & Cross-Training\",\n",
       "       \"Women's Dress Shoes,Shoes,Clothing,Women's Shoes\",\n",
       "       \"Shoes,Women's Boots,Clothing,Women's Shoes\",\n",
       "       \"Women's Athletic Shoes,Fitness Gear,Exercise & Fitness,Shoes,Sports & Outdoors,Clothing,Women's Shoes,All Women's Shoes\",\n",
       "       \"Clothing, Shoes & Accessories,Adult Halloween Costumes,Halloween,Costumes, Reenactment, Theater,Women,All Costumes,Costumes,Women's Halloween Costumes,Party & Occasions\",\n",
       "       \"Clothing, Shoes & Accessories,Women's Clothing,Intimates & Sleep,Teddies,See more Mesh Halter Neck Teddy Hearts Print Cutout Ruf...\",\n",
       "       'Clothing, Shoes & Accessories,Costumes, Reenactment, Theater,Pretend Play & Dress Up,Women,Costumes,Toys',\n",
       "       \"Adult Halloween Costumes,Clothing, Shoes & Accessories,Halloween,Costumes, Reenactment, Theater,Women,All Costumes,Costumes,Women's Halloween Costumes,Party & Occasions\",\n",
       "       \"Women's Sandals,Shoes,Women's Shoes,Clothing,All Women's Shoes\",\n",
       "       \"Women's Slippers,Shoes,Clothing,Women's Shoes\",\n",
       "       \"Access.,Clothing,Shoes,Women's Clothing\",\n",
       "       \"All Men's Shoes,Shoes,Men's Shoes,Clothing,Women's Shoes,All Women's Shoes\",\n",
       "       \"Home Improvement,Shoes,Work Safety Clothing and Equipment,Women's Shoes,Clothing,All Women's Shoes,Safety Equipment & Gear\",\n",
       "       \"Women's Dress Shoes,Shoes,Clothing,Women's Shoes,All Women's Shoes\",\n",
       "       \"Braces & Supports,Orthopedics & Supports,Clothing, Shoes & Accessories,Orthotics, Braces & Sleeves,Women's Clothing,Intimates & Sleep,Medical, Mobility & Disability,Health & Beauty,Shapewear\",\n",
       "       \"Women's Athletic Shoes,Shoes,Clothing,Women's Shoes\",\n",
       "       \"Shoes,Women's Boots,Clothing,Women's Shoes,All Women's Shoes\",\n",
       "       \"Women's Athletic Shoes,Shoes,Women's Shoes,Clothing\",\n",
       "       \"Women's Lingerie, Intimates,Clothing, Shoes, Accessories,Lingerie Solutions,Clothing,Intimates & Sleepwear,Bras\",\n",
       "       \"Shoes,Women's Boots,Women's Shoes,Clothing,All Women's Shoes\",\n",
       "       \"All Men's Shoes,Shoes,Men's Shoes,Women's Shoes,Clothing,All Women's Shoes\",\n",
       "       \"Halloween,Accessories,#99214 in,#3580 in,Shoes,#23880 in,Clothing,Women's Shoes,Party & Occasions,All Women's Shoes\",\n",
       "       \"Women's Slippers,Shoes,Men's Slippers,Men's Shoes,Clothing,Women's Shoes\",\n",
       "       \"Home Improvement,Men's Work & Safety Shoes,Women's Work & Safety Shoes,Work Safety Clothing and Equipment\",\n",
       "       \"See more Cherokee Women's Workwear Scrubs 4020 Low Rise...,Clothing, Shoes & Accessories,Uniforms & Work Clothing,Bottoms,Scrubs\",\n",
       "       \"Women's Casual Shoes,Shoes,Women's Shoes,Clothing,All Women's Shoes\",\n",
       "       \"Women's Dress Shoes,Shoes,Women's Shoes,Clothing,Women's Clothing,Costumes\",\n",
       "       \"Unisex,Men's Halloween Costumes,Clothing, Shoes & Accessories,Adult Halloween Costumes,Halloween,Holiday Shops,Costumes, Reenactment, Theater,See more Adult Funny Animal Comical Cow Humorous Bull C...,Halloween Store,All Costumes,Costumes,Party & Occasions,Womens Costumes\",\n",
       "       \"Clothing, Shoes & Accessories,Sunglasses,Sunglasses & Fashion Eyewear,Women's Accessories\",\n",
       "       \"Motorcycle Apparel,Auto & Tires,Shoes,Motorcycle,Motorcycle and ATV,Motorcycle Boots,Women's Shoes,Clothing,All Women's Shoes\",\n",
       "       \"Sneakers & Athletic Shoes,Shoes,Clothing,Women's Shoes,All Women's Shoes\",\n",
       "       \"Socks & Hosiery,Shoes,Women's Shoes,Clothing,All Women's Shoes,Intimates & Sleepwear\",\n",
       "       \"Adult Halloween Costumes,Halloween,All Costumes,Women's Halloween Costumes,Party & Occasions,Clothing, Shoes & Accessories\",\n",
       "       \"Clothing, Shoes & Accessories,Women's Clothing,Intimates & Sleep,Bras & Bra Sets,See more Lilyette 38ddd White Comfort Lace Minimizer Br...,Women\",\n",
       "       \"Shoes & Handbags,Shoes,Women's Shoes,Clothing,All Women's Shoes\",\n",
       "       \"Women's Slippers,Socks & Hosiery,Shoes,Women's Shoes,Clothing,Intimates & Sleepwear\",\n",
       "       \"Boots,Clothing,Shoes,Women's Shoes,Women's Boots\",\n",
       "       \"Men's Boots,Shoes,Men's Shoes,Clothing,Women's Shoes,All Women's Shoes\",\n",
       "       \"Clothing, Shoes & Accessories,Shoes,Boots,Clothing,Women's Shoes,All Women's Shoes\",\n",
       "       \"Clogs,Shoes,Clothing,Women's Shoes,All Women's Shoes\",\n",
       "       \"Girls' Shoes,Shoes,Baby & Kids Shoes,Clothing,Women's Shoes,Women's Casual Shoes\",\n",
       "       \"Clothing, Shoes & Accessories,Women's Clothing,Intimates & Sleep,Shapewear\",\n",
       "       \"Clothing, Shoes & Accessories,Sunglasses,Walmart Vision Centers,Sunglasses & Fashion Eyewear,Ralph,Health,4004,Women's Accessories\",\n",
       "       \"Clothing, Shoes & Accessories,Sunglasses,Walmart Vision Centers,Sunglasses & Fashion Eyewear,Health,Women's Accessories\",\n",
       "       \"Women's Sandals,Shoes,Clothing,Women's Shoes,All Women's Shoes\",\n",
       "       \"Halloween,Accessories,#125027 in,Halloween Accessories,Shoes,Halloween Shoes,#4029 in,Clothing,Women's Shoes,Party & Occasions,#27273 in,All Women's Shoes\",\n",
       "       \"Shoes,Clothing,Women's Shoes,All Women's Shoes,Women\",\n",
       "       \"Clothing, Shoes & Accessories,Scarves, Wraps,Accessories,Women's Accessories, Handbags,Wholesale, Large & Small Lots,Bags & Accessories,Cold Weather Accessories,Clothing\",\n",
       "       \"#175 in,#4,521 in,#491 in,#11551 in,#1493 in,Shoes,#672 in,Clothing,Women's Shoes,All Women's Shoes\",\n",
       "       \"Heels,Clothing, Shoes & Accessories,Women's Casual Shoes,Shoes,Clothing,Women's Shoes\",\n",
       "       \"Clothing, Shoes & Accessories,Sunglasses,Sunglasses & Fashion Eyewear,Walmart Vision Centers,Men's Accessories,Health,Women's Accessories\",\n",
       "       \"Women's Plus Size Halloween Costumes,Clothing, Shoes & Accessories,Adult Halloween Costumes,Halloween,Costumes, Reenactment, Theater,Women,All Costumes,Costumes,Party & Occasions\",\n",
       "       \"Clothing, Shoes & Accessories,Sunglasses,Sunglasses & Fashion Eyewear,Walmart Vision Centers,Health,Women's Accessories\",\n",
       "       'Sports Bras,All Bras,Lingerie, Sleep & Lounge,Women,Clothing, Shoes & Jewelry,Lingerie,Clothing,Intimates & Sleepwear,Bras',\n",
       "       \"Accessories,Gloves,Bags & Accessories,Clothing, Shoes & Jewelry,Women's Accessories,Women's Gloves & Mittens,Clothing\",\n",
       "       \"Boat Shoes,Women's Athletic Shoes,Shoes,Women's Shoes,Clothing\",\n",
       "       \"Shoes,Clothing,Women's Shoes,All Women's Shoes,Women's Boots\",\n",
       "       \"Women's Sandals,Women's Dress Shoes,Shoes,Women's Shoes,Clothing\",\n",
       "       \"Girls' Shoes,Women's Sandals,Shoes,Baby & Kids Shoes,Clothing,Women's Shoes\",\n",
       "       \"Clothing, Shoes & Accessories,Women's Shoes,Athletic,See more VANS Authentic Lo Pro Cosmic Galaxy Black Blue...\",\n",
       "       \"Home Improvement,Women's Work & Safety Shoes,Work Safety Clothing and Equipment\",\n",
       "       \"Women's Athletic Shoes,Shoes,Clothing,Women's Shoes,Running Shoes\",\n",
       "       \"All Men's Shoes,Shoes,Men's Shoes,Women's Boots,Women's Shoes,Clothing\",\n",
       "       \"Clothing, Shoes & Accessories,Bags Fan Shop,Sports Fan Shop,Travel & Shopping Bags,Women's Handbags & Bags,Clothing Fan Shop,Sports & Outdoors,Reusable Eco Bags\",\n",
       "       'Clothing, Shoes & Accessories,Costumes, Reenactment, Theater,Costumes,Women',\n",
       "       \"Sandals,Shoes,Women's Shoes,Clothing,All Women's Shoes\",\n",
       "       'Clothing, Shoes & Accessories,Halloween,All Halloween Costumes,Costumes, Reenactment, Theater,Women,All Costumes,Costumes,Party & Occasions',\n",
       "       \"Clothing, Shoes & Accessories,Hair Accessories,Hair Care,Hair Brushes & Styling Accessories,Beauty,Women's Accessories\",\n",
       "       \"#5058 in,#29262 in,#2616 in,Shoes,Women's Boots,Women's Shoes,Clothing,All Women's Shoes\",\n",
       "       \"Adult Halloween Costumes,Halloween,All Costumes,Shoes,Women's Halloween Costumes,Party & Occasions,Women's Shoes,Clothing,All Women's Shoes\",\n",
       "       \"Clothing, Shoes & Accessories,Shoes,Boots,Women's Shoes,Clothing,All Women's Shoes\",\n",
       "       \"Clothing,Shoes,Women's Shoes,Women's Boots,Cowboy Boots\",\n",
       "       \"Women's Slippers,Shoes,Women's Shoes\",\n",
       "       'Clothing, Shoes & Accessories,Team Sports,Women,Soccer,Shoes & Cleats,Sporting Goods',\n",
       "       \"Shoes,Clothing,Women's Shoes,All Women's Shoes,Moccasins\",\n",
       "       \"Clothing, Shoes & Accessories,Adult Halloween Costumes,Halloween,Costumes, Reenactment, Theater,Girls,All Costumes,Costumes,Women's Halloween Costumes,Party & Occasions\",\n",
       "       \"Loafers,Women's Casual Shoes,Shoes,Clothing,Women's Shoes\",\n",
       "       \"Shoes,Clothing,Women's Shoes,All Women's Shoes,Clogs\",\n",
       "       \"Women's Dress Shoes,Shoes,Women's Shoes,Clothing,All Women's Shoes\",\n",
       "       \"Scarves,Clothing, Shoes & Accessories,Scarves, Wraps,Accessories,Women's Accessories, Handbags,Wholesale, Large & Small Lots,Bags & Accessories,Cold Weather Accessories,Clothing\",\n",
       "       \"Clothing, Shoes & Accessories,Women's Clothing,Pants,See more Jolt Beige Size 1 Junior Flat-front Seamed Cro...\",\n",
       "       \"Clothing, Shoes & Accessories,Women's Accessories,Sunglasses & Fashion Eyewear,Sunglasses\",\n",
       "       \"Clothing, Shoes & Accessories,Women's Clothing,Swimwear\",\n",
       "       \"Shoes,Women's Shoes,Clothing,All Women's Shoes,Flats\",\n",
       "       \"Clothing, Shoes & Accessories,Sunglasses,See more BWT Michael Kors Mk5005 Sunglasses Gold Brown ...,Sunglasses & Fashion Eyewear,Women's Accessories\",\n",
       "       \"Clothing, Shoes & Accessories,Women's Shoes,Boots,See more Frye Jenna Cut Stud Short Distressed Stonewash...\",\n",
       "       \"Clothing,Shoes,Women's Shoes,All Women's Shoes,Pumps\",\n",
       "       \"Shoes,Women's Shoes,Clothing,All Women's Shoes,Women\",\n",
       "       \"Booties,Shoes,Women's Shoes\",\n",
       "       \"All Men's Shoes,Shoes,Men's Shoes,Women's Shoes,Clothing,All Women's Shoes,Sneakers & Athletic Shoes\",\n",
       "       \"Unisex,Adult Halloween Costumes,Clothing, Shoes & Accessories,Halloween,See more Adult Lemon Citrus Fruit Healthy Food Costume ...,Costumes, Reenactment, Theater,All Costumes,Costumes,Women's Halloween Costumes,Party & Occasions\",\n",
       "       \"Shoes,Women's Shoes,Clothing,All Women's Shoes,Walking Shoes\",\n",
       "       \"Clothing,Shoes,Women's Shoes,All Women's Shoes,Slip-On Slippers\",\n",
       "       \"Clothing,Shoes,Women's Shoes,All Women's Shoes,Sandals\",\n",
       "       \"Women's Character Shop,Character Shop,Shoes,Women's Shoes,Clothing,All Women's Shoes\",\n",
       "       \"Clothing,Shoes,Men's Shoes,All Men's Shoes,Women's Shoes,All Women's Shoes\",\n",
       "       \"Shoe Care & Accessories,Shoes,Women's Shoes,Clothing,All Women's Shoes\",\n",
       "       \"Women's Clothing,Clothing and Apparel,Safety,Women's Pants & Leggings,Work Pants,All Women's Clothing,Clothing, Shoes & Jewelry,Clothing,Women's Jeans\",\n",
       "       \"Women's Casual Shoes,All Men's Shoes,Shoes,Men's Shoes,Clothing,Women's Shoes\",\n",
       "       \"Clothing, Shoes & Accessories,Women's Clothing,Sleepwear & Robes,Intimates & Sleep\",\n",
       "       \"Clothing, Shoes & Accessories,Women's Clothing,Suits & Blazers\",\n",
       "       \"Accessories,Bags & Accessories,Gloves,Shoes,Women's Shoes,Clothing,All Women's Shoes\",\n",
       "       \"Clothing,Shoes,Women's Shoes,All Women's Shoes,Espadrilles\",\n",
       "       \"Clothing, Shoes & Accessories,Women's Clothing,Intimates & Sleep,Panties\",\n",
       "       \"Clothing,Shoes,Women's Shoes,All Women's Shoes,Men's Casual Shoes,Men's Shoes\",\n",
       "       \"Women's Clothing,Safety,Clothing and Apparel,Women's Pants & Leggings,All Women's Clothing,Work Pants,Clothing, Shoes & Jewelry,Women's Jeans,Clothing\",\n",
       "       \"Clothing, Shoes & Accessories,Bras & Bra Sets,All Bras,Women's Clothing,Intimates & Sleep,Clothing,Intimates & Sleepwear,Bras\",\n",
       "       \"Fitness Gear,Exercise & Fitness,Shoes,Sports & Outdoors,Clothing,Women's Shoes,All Women's Shoes\",\n",
       "       \"Clothing, Shoes & Accessories,Adult Halloween Costumes,Halloween,Costumes, Reenactment, Theater,See more Deluxe Arwen Gown Lord of the Rings Adult Wome...,Women,All Costumes,Costumes,Women's Halloween Costumes,Party & Occasions\",\n",
       "       \"Heels,Clothing, Shoes & Accessories,Shoes,Women's Shoes,Clothing,All Women's Shoes\",\n",
       "       \"Clothing, Shoes & Accessories,Women's Clothing,Skirts\",\n",
       "       \"Athletic,Clothing, Shoes & Accessories,Women's Shoes\",\n",
       "       \"Clothing, Shoes & Accessories,Athletic,Shoes,Women's Shoes,Clothing,All Women's Shoes\",\n",
       "       \"Clothing,Shoes,Women's Shoes,All Women's Shoes,Rain Boots\",\n",
       "       \"Clothing, Shoes & Accessories,Women's Shoes,Athletic\",\n",
       "       \"Athletic,Skateboarding,Women,Shoes,Clothing, Shoes & Jewelry,Clothing,Women's Shoes,All Women's Shoes\",\n",
       "       \"Clothing, Shoes & Accessories,See more Gucci Women's Aviator Sunglasses,Sunglasses,Walmart Vision Centers,Sunglasses & Fashion Eyewear,Unisex Accessories,Unisex Clothing, Shoes & Accs,Health\",\n",
       "       \"Home,Kitchen & Dining,Women's Athletic Shoes,Cookware, Bakeware & Tools,Shoes,Kitchen Tools & Gadgets,Clothing,Women's Shoes,All Women's Shoes\",\n",
       "       \"#5111 in,#50297 in,Shoes,#10000 in,Women's Shoes,Clothing,All Women's Shoes\",\n",
       "       \"Clothing, Shoes & Accessories,Sunglasses,Walmart Vision Centers,Sunglasses & Fashion Eyewear,Health,Men's Accessories,Women's Accessories\",\n",
       "       \"Men,Shoes,Men's Socks,Clothing,Women's Shoes,All Women's Shoes\",\n",
       "       \"Adult Halloween Costumes,Halloween,All Costumes,Shoes,Women's Halloween Costumes,Clothing,Women's Shoes,Party & Occasions,All Women's Shoes\",\n",
       "       \"Women's Casual Shoes,Women's Athletic Shoes,Shoes,Clothing,Women's Shoes\",\n",
       "       \"Clothing, Shoes & Accessories,Women's Clothing,Intimates & Sleep,Bras & Bra Sets,See more Glamorise Bra 52b 52c 52 B-c Stretch Lace Supp...\",\n",
       "       \"Women's Casual Shoes,Women's Dress Shoes,Shoes,Women's Shoes,Clothing\",\n",
       "       \"Women's Casual Shoes,Women's Sandals,Shoes,Clothing,Women's Shoes\",\n",
       "       \"Women's Clothing,Access.,Shoes,Clothing\",\n",
       "       \"Bags & Accessories,Shoes,Handbags,Women's Boots,Women's Shoes,Clothing\",\n",
       "       \"Active,Active Pants,Women's Activewear,Women,Clothing, Shoes & Jewelry,Clothing\",\n",
       "       \"#51626 in,#12257 in,#6796 in,Shoes,Women's Boots,Clothing,Women's Shoes,All Women's Shoes\",\n",
       "       \"Women's Sunglasses,Sunglasses,Clothing, Shoes, Accessories,Walmart Vision Centers,Health,Men's Sunglasses\",\n",
       "       \"Clothing & Accessories,Novelty, Costumes & More,Adult Halloween Costumes,Clothing, Shoes & Accessories,Halloween,Costumes, Reenactment, Theater,Women,All Costumes,Costumes,Women's Halloween Costumes,Party & Occasions\",\n",
       "       \"Girls' Shoes,Women's Slippers,Shoes,Baby & Kids Shoes,Clothing,Women's Shoes\",\n",
       "       \"Women's Slippers,Shoes,Clothing,Women's Shoes,All Women's Shoes\",\n",
       "       \"Shoes,Boots,Women's Shoes\",\n",
       "       \"Women's Athletic Shoes,Shoes,Women's Shoes,Clothing,All Women's Shoes\",\n",
       "       \"Women's Casual Shoes,Women's Sandals,Shoes,Women's Shoes,Clothing\",\n",
       "       \"Clothing,Shoes,Women's Shoes,All Women's Shoes,Low Slide Sandals\",\n",
       "       \"Girls' Shoes,Shoes,Baby & Kids Shoes,Clothing,Women's Shoes,All Women's Shoes\",\n",
       "       \"Loafers,Clothing,Shoes,Women's Shoes,All Women's Shoes\",\n",
       "       \"Shoes,Women's Shoes,Clothing,All Women's Shoes,Mary Jane Flats\",\n",
       "       \"Women's Casual Shoes,#4,592 in,#177 in,Socks & Hosiery,Shoes,#514 in,Clothing,Women's Shoes,Intimates & Sleepwear\",\n",
       "       \"Adult Halloween Costumes,Clothing, Shoes & Accessories,Halloween,Men,Costumes, Reenactment, Theater,All Costumes,Costumes,Women's Halloween Costumes,Party & Occasions\",\n",
       "       \"Clothing, Shoes & Accessories,Adult Halloween Costumes,Halloween,See more SPOILED FAIRY ADULT WOMENS COSTUME Magical Fai...,Costumes, Reenactment, Theater,Women,All Costumes,Costumes,Women's Halloween Costumes,Party & Occasions\",\n",
       "       \"Key Chains, Rings & Finders,Clothing, Shoes & Accessories,Accessories,Key Rings & Organizers,Bags & Accessories,Women's Accessories,Clothing\",\n",
       "       \"Sports,Clothing, Shoes & Jewelry,Women,Shoes,Fashion Sneakers,Women's Shoes,Clothing,All Women's Shoes\",\n",
       "       \"Clothing,Shoes,Women's Shoes,Women's Sandals,All Women's Shoes\",\n",
       "       \"Clothing, Shoes, Accessories,Women's Sunglasses,Men's Sunglasses\",\n",
       "       'Sporting Goods,Team Sports,Soccer,Clothing, Shoes & Accessories,Shoes & Cleats,Women',\n",
       "       \"Girls' Shoes,Women's Slippers,Baby & Kids Shoes,Shoes,Clothing,Women's Shoes\",\n",
       "       \"Clothing, Shoes & Accessories,Women's Clothing,Intimates & Sleep,Bras & Bra Sets\",\n",
       "       \"Clothing, Shoes & Accessories,Women's Clothing,Suits & Blazers,See more Tahari ASL Asymmetrical Buttons Pant Suit Set ...\",\n",
       "       \"Shoes,Women's Shoes,Clothing,All Women's Shoes,Pumps\",\n",
       "       \"Women's Casual Shoes,Shoes,Baby & Kids Shoes,Baby & Toddler Shoes,Clothing,Women's Shoes\",\n",
       "       \"Shoes,Clothing,Women's Shoes,All Women's Shoes,Women's Sandals\",\n",
       "       \"Women's Athletic Shoes,Shoes,Clothing,Women's Shoes,All Women's Shoes\",\n",
       "       \"Clothing,Shoes,Women's Shoes,All Women's Shoes,Sports & Outdoors,Sports Fan Shop,Clothing Fan Shop\",\n",
       "       \"Sandals,Shoes,Clothing,Women's Shoes,All Women's Shoes\",\n",
       "       \"Clothing, Shoes & Accessories,Women's Clothing,Intimates & Sleep,Bras & Bra Sets,See more Wonderbra Plus 1983 Full Figured No Poke Under...\",\n",
       "       \"Boots,Clothing,Shoes,Women's Shoes,All Women's Shoes\",\n",
       "       'Sports Bras,All Bras,Lingerie, Sleep & Lounge,Women,Clothing, Shoes & Jewelry,Clothing,Lingerie,Bras,Intimates & Sleepwear',\n",
       "       \"Clothing, Shoes & Accessories,Women's Clothing,Stockings & Thigh-Highs,Hosiery & Socks,Socks & Hosiery,See more Leg Avenue 6600 Acrylic Neon Rainbow Thigh Hig...,Clothing,Intimates & Sleepwear\",\n",
       "       \"Women's Activewear,Women,Shoes,Clothing,Women's Shoes,All Women's Shoes\",\n",
       "       \"Running Shoes,Shoes,Clothing,Women's Shoes,All Women's Shoes\",\n",
       "       \"Designer Women's Shoes,Designer Store,Designer Shoes\",\n",
       "       \"Women's Shoes,Clothing,Shoes,Women's Dress Shoes\",\n",
       "       \"Women's Character Shop,Character Shop,Shoes,Clothing,Women's Shoes,All Women's Shoes\"],\n",
       "      dtype=object)"
      ]
     },
     "execution_count": 18,
     "metadata": {},
     "output_type": "execute_result"
    }
   ],
   "source": [
    "df[\"categories\"].unique()"
   ]
  },
  {
   "cell_type": "markdown",
   "id": "b8ff5f16",
   "metadata": {},
   "source": [
    "## Merchants"
   ]
  },
  {
   "cell_type": "code",
   "execution_count": 5,
   "id": "c83a519f",
   "metadata": {
    "collapsed": true
   },
   "outputs": [
    {
     "name": "stdout",
     "output_type": "stream",
     "text": [
      "{'walmart': 3961, 'ebay': 85, 'amazon': 389, 'sears': 854, 'unbeatablesale': 261, 'nan': 3125, 'la leela': 12, 'diligentbuy': 34, 'yutin jia': 155, 'undefined': 120, 'nilima online stores': 54, 'blancho bedding': 45, 'unique bargains': 61, 'fastmedia': 9, 'liquidators': 19, 'ami ventures inc': 31, 'overstock.com': 22, 'prosales': 42, 'wristwatch': 5, 'mirranme': 8, 'exotic express (haruna)': 5, 'closeout zone': 3, 'false': 3, 'neonblond jewelry & accessories': 3, 'bjc products, llc': 42, 'ergode': 20, \"lands' end\": 8, 'british orchard home fashions': 13, 'www.ralphlauren.com': 58, 'purchase pals': 23, 'fuse optics': 32, 'digituniform': 5, 'whimsical gifts': 1, 'outdoorequipped': 1, 'place stores': 15, 'usaetail': 9, 'arvaco': 2, 'humble brothers llc': 4, 'media mogul': 15, 'sgifashion': 9, 'bidlessnow': 35, 'finejewelryvault': 2, 'all glitters': 1, '2017-01-27t01:37:21z': 1, 'vistabella inc.': 4, 'gleader': 5, 'princetonwatches.com': 3, 'premier sports': 2, 'shablool jewelry design ltd': 7, 'onestopfanshop': 2, 'iptravelers': 4, 'fair top--ships from hongkong': 13, 'satin boutique store': 12, 'the primrose lane': 7, 'socksmax.com': 3, 'factory advantage llc': 11, 'true': 1, 'drhotdeal': 2, 'bigsales': 10, 'homedepot.com': 1, 'choosy shopper': 1, \"dj's market place\": 1, 'shuwish uk - ships from uk in 5 - 10 days': 8, 'new occidental': 22, 'itshot jewelry watches': 8, 'movaz trade': 5, 'stepani style': 2, 'bigsavingz': 2, 'kmart': 18, 'shoes.com': 16, 'savingshub': 1, 'sohogirl.com': 14, 'yu qian': 9, 'etailsuperstore': 19, 'dapper world inc.': 3, 'shore trendz': 4, 'ice gems': 1, 'shoemetro ca': 3, 'ipc store': 1, 'amoretu': 1, 'native-bay': 1, 'oh!dreamy': 27, 'opticsplanet.com': 2, 'sunglasses shop': 6, 'shoesbyclaire': 1, 'big red toolbox': 1, 'seek optics, inc': 8, 'zay outlet': 1, 'shopzeus': 1, 'sunglass hut': 2, 'amber direct': 1, 'cali chic': 1, 'salefolks': 4, 'vkwear': 1, 'shopfarmandcity.com': 4, 'shopbop | east dane': 1, 'vistabella': 3, 'gadgetsnmorestore': 1, 'the bejeweled egg': 1, 'nitro gadget': 3, 'fashion destination': 3, 'wayfair.com': 2, 'treasurehunter': 1, 'brookstone': 2, 'walk into fashion': 8, 'sockbin': 7, 'bellaochio': 1, 'haoseng': 6, 'jewelsobsession': 2, 'suntimez': 1, 'mocp': 2, 'luxury divas': 17, 'lulu collections': 14, 'harvey & haley': 2, 'seaofdiamonds.com': 5, '5th avenue fashion': 1, 'galactics canada': 1, 'zappos retail, inc.': 1, 'outdoor shopping': 1, 'stand up ranchers': 29, 'meoestore': 3, 'racketguys': 3, 'freakyweblinks': 1, 'bling jewelry': 1, 's.e.g': 2, 'dahlia': 1, 'sondoongmart.com': 3, 'jive24 - bags & accessoires': 1, 'inventory adjusters': 5, 'asogear': 2, 'est jewelry': 2, 'choku': 2, 'spectrumsuperstore': 2, 'ankko-ca': 1, 'lanbaosi��(us trademark)': 1, 'pinelawns': 5, 'ayyara': 1, 'urbaninspirations': 1, 'bare necessities': 1, 'watchgrabber': 1, 'less emf, inc.': 1, 'frenchchimp': 2, 'hypnotik': 1, '6pm, llc': 1, 'unieyewear': 1, 'lifeandhome.com - life and home': 1, 'pear-jiw': 2, 'kailee jewelry box': 1, 'the internet department store': 1, 'primetech components': 1, 'neobits.com': 1, 'fashionjewelryforeveryone.com': 1, 'top one international corp.': 6, 'tbr intel inc': 1, 'pds online ca': 1, 'shoebrandscanada': 1, 'the nayborhood': 1, 'sexy smart': 3, 'savvywatch.com': 1, 'pirineu international': 1, 'meimei shop': 3, 'nowells clothiers': 1, 'jewelplus': 1, 'alliancesupply.com': 1, 'justemily': 1, 'dreamway trading, llc': 1, \"marilyn & dean's fashion exchange\": 1, 'eshades': 1, 'perceptive eye': 1, 'shopitfashion': 1, 'the_fashion_hotel': 1, 'ashford.com': 1, 'diva trading': 4, \"what's hot\": 1, 'one super bargain': 1, 'bestpricecenter.com': 1, 'opticsfast inc': 2, 'j.ann fashion': 1, 'worldofwatches': 3, 'luxorgift': 1, 'drill spot': 1, 'weixinbuy': 1, 'clocks 4 less': 1, 'liangdong shop': 1, 'costumes4less': 38, 'timex': 1, 'everest ventures': 2, 'saleaxis': 1, 'eyesave': 1, 'pdctrading': 1, 'hoops & loops': 1, 'mogul interior': 1, 'edealszone llc': 2, 'dly supplies': 1, 'birthday & costume in a box': 1, 'mama knows best': 1, 'keep up life': 1, \"unique's shop\": 2, 'newegg': 1, 'jarrolds department store': 1, 'yesufashions.com': 1, 'fifty one': 1, 'bic warehouse - (includes all tax and duties)': 1, 'pin it on buttons': 1, 'framesdirect.com': 1, 'silverhooks.com': 1, 'artofdeals': 1, 'morrison outdoor power equipment llc.': 1, 'timepiece trading': 1, 'omni cheer': 1, 'zhongyuanhengjing': 1, 'online sports': 1, 'rialto deals': 1, 'veil entertainment': 1, 'crazy4tank': 1}\n"
     ]
    }
   ],
   "source": [
    "# df[\"prices.merchant\"]\n",
    "\n",
    "merchant_count = {\n",
    "    \"walmart\": 0,\n",
    "    \"ebay\": 0,\n",
    "    \"amazon\": 0,\n",
    "    \"sears\": 0,\n",
    "    \"unbeatablesale\": 0\n",
    "}\n",
    "\n",
    "for merchant in df[\"merchant\"]:\n",
    "    try:\n",
    "        merchant = merchant.lower()\n",
    "    except:\n",
    "        if str(merchant) == \"nan\":\n",
    "            merchant = str(merchant)\n",
    "        \n",
    "    found = False\n",
    "    \n",
    "    for mer in merchant_count.keys():\n",
    "        if mer in merchant:\n",
    "            merchant_count[mer] += 1\n",
    "            found = True\n",
    "    \n",
    "    if not found:\n",
    "        merchant_count[merchant] = merchant_count.get(merchant, 0) + 1\n",
    "    \n",
    "\n",
    "print(merchant_count)"
   ]
  },
  {
   "cell_type": "code",
   "execution_count": 6,
   "id": "f47890f5",
   "metadata": {},
   "outputs": [
    {
     "data": {
      "text/plain": [
       "<BarContainer object of 4 artists>"
      ]
     },
     "execution_count": 6,
     "metadata": {},
     "output_type": "execute_result"
    },
    {
     "data": {
      "image/png": "[encoded data removed]",
      "text/plain": [
       "<Figure size 432x288 with 1 Axes>"
      ]
     },
     "metadata": {
      "needs_background": "light"
     },
     "output_type": "display_data"
    }
   ],
   "source": [
    "dc = {k: v for k, v in merchant_count.items() if v > 200}\n",
    "dc.pop(\"nan\")\n",
    "dc = dict(sorted(dc.items(), key=lambda x:x[1]))\n",
    "\n",
    "col_labels = []\n",
    "for i in dc.keys():\n",
    "    col_labels.append(i)\n",
    "    \n",
    "plt.barh(col_labels, dc.values())"
   ]
  },
  {
   "cell_type": "code",
   "execution_count": 61,
   "id": "8bdbb178",
   "metadata": {},
   "outputs": [
    {
     "data": {
      "text/html": [
       "<div>\n",
       "<style scoped>\n",
       "    .dataframe tbody tr th:only-of-type {\n",
       "        vertical-align: middle;\n",
       "    }\n",
       "\n",
       "    .dataframe tbody tr th {\n",
       "        vertical-align: top;\n",
       "    }\n",
       "\n",
       "    .dataframe thead th {\n",
       "        text-align: right;\n",
       "    }\n",
       "</style>\n",
       "<table border=\"1\" class=\"dataframe\">\n",
       "  <thead>\n",
       "    <tr style=\"text-align: right;\">\n",
       "      <th></th>\n",
       "      <th>ID</th>\n",
       "      <th>brand</th>\n",
       "      <th>categories</th>\n",
       "      <th>colors</th>\n",
       "      <th>...</th>\n",
       "      <th>currency</th>\n",
       "      <th>merchant</th>\n",
       "      <th>sale</th>\n",
       "      <th>gender</th>\n",
       "    </tr>\n",
       "  </thead>\n",
       "  <tbody>\n",
       "    <tr>\n",
       "      <th>13</th>\n",
       "      <td>AVpfFCHeilAPnD_xUeS0</td>\n",
       "      <td>MAUI AND SONS</td>\n",
       "      <td>All Men's Shoes,Shoes,Men's Shoes,Clothing</td>\n",
       "      <td>Red,Black,Sketchy Slant,Yellow,BlackBlue,Black...</td>\n",
       "      <td>...</td>\n",
       "      <td>USD</td>\n",
       "      <td>BHFO, Inc. - Walmart.com</td>\n",
       "      <td>False</td>\n",
       "      <td>male</td>\n",
       "    </tr>\n",
       "    <tr>\n",
       "      <th>14</th>\n",
       "      <td>AVpfFCHeilAPnD_xUeS0</td>\n",
       "      <td>MAUI AND SONS</td>\n",
       "      <td>All Men's Shoes,Shoes,Men's Shoes,Clothing</td>\n",
       "      <td>Red,Black,Sketchy Slant,Yellow,BlackBlue,Black...</td>\n",
       "      <td>...</td>\n",
       "      <td>USD</td>\n",
       "      <td>BHFO, Inc. - Walmart.com</td>\n",
       "      <td>True</td>\n",
       "      <td>male</td>\n",
       "    </tr>\n",
       "    <tr>\n",
       "      <th>15</th>\n",
       "      <td>AVpfFCHeilAPnD_xUeS0</td>\n",
       "      <td>MAUI AND SONS</td>\n",
       "      <td>All Men's Shoes,Shoes,Men's Shoes,Clothing</td>\n",
       "      <td>Red,Black,Sketchy Slant,Yellow,BlackBlue,Black...</td>\n",
       "      <td>...</td>\n",
       "      <td>USD</td>\n",
       "      <td>ApparelSave - Walmart.com</td>\n",
       "      <td>False</td>\n",
       "      <td>male</td>\n",
       "    </tr>\n",
       "    <tr>\n",
       "      <th>16</th>\n",
       "      <td>AVpfFCHeilAPnD_xUeS0</td>\n",
       "      <td>MAUI AND SONS</td>\n",
       "      <td>All Men's Shoes,Shoes,Men's Shoes,Clothing</td>\n",
       "      <td>Red,Black,Sketchy Slant,Yellow,BlackBlue,Black...</td>\n",
       "      <td>...</td>\n",
       "      <td>USD</td>\n",
       "      <td>ApparelSave - Walmart.com</td>\n",
       "      <td>True</td>\n",
       "      <td>male</td>\n",
       "    </tr>\n",
       "    <tr>\n",
       "      <th>17</th>\n",
       "      <td>AVpfFCHeilAPnD_xUeS0</td>\n",
       "      <td>MAUI AND SONS</td>\n",
       "      <td>All Men's Shoes,Shoes,Men's Shoes,Clothing</td>\n",
       "      <td>Red,Black,Sketchy Slant,Yellow,BlackBlue,Black...</td>\n",
       "      <td>...</td>\n",
       "      <td>USD</td>\n",
       "      <td>ApparelSave - Walmart.com</td>\n",
       "      <td>True</td>\n",
       "      <td>male</td>\n",
       "    </tr>\n",
       "    <tr>\n",
       "      <th>...</th>\n",
       "      <td>...</td>\n",
       "      <td>...</td>\n",
       "      <td>...</td>\n",
       "      <td>...</td>\n",
       "      <td>...</td>\n",
       "      <td>...</td>\n",
       "      <td>...</td>\n",
       "      <td>...</td>\n",
       "      <td>...</td>\n",
       "    </tr>\n",
       "    <tr>\n",
       "      <th>19023</th>\n",
       "      <td>AVpfW7QgilAPnD_xaVJY</td>\n",
       "      <td>Mia Limited Edition</td>\n",
       "      <td>Shoes,Clothing,Women's Shoes,All Women's Shoes</td>\n",
       "      <td>Brown</td>\n",
       "      <td>...</td>\n",
       "      <td>USD</td>\n",
       "      <td>ApparelSave - Walmart.com</td>\n",
       "      <td>TRUE</td>\n",
       "      <td>female</td>\n",
       "    </tr>\n",
       "    <tr>\n",
       "      <th>19039</th>\n",
       "      <td>AVpfmTLMilAPnD_xeu4l</td>\n",
       "      <td>Hi-Tec</td>\n",
       "      <td>Shoes,Women's Shoes,Clothing,All Women's Shoes</td>\n",
       "      <td>AzeleaGraphite</td>\n",
       "      <td>...</td>\n",
       "      <td>USD</td>\n",
       "      <td>AreaTrend - Walmart.com</td>\n",
       "      <td>FALSE</td>\n",
       "      <td>female</td>\n",
       "    </tr>\n",
       "    <tr>\n",
       "      <th>19042</th>\n",
       "      <td>AVpfXLGG1cnluZ0-jY7B</td>\n",
       "      <td>Tundra</td>\n",
       "      <td>Shoes,Clothing,Women's Shoes,All Women's Shoes</td>\n",
       "      <td>Black</td>\n",
       "      <td>...</td>\n",
       "      <td>USD</td>\n",
       "      <td>ApparelSave - Walmart.com</td>\n",
       "      <td>FALSE</td>\n",
       "      <td>female</td>\n",
       "    </tr>\n",
       "    <tr>\n",
       "      <th>19043</th>\n",
       "      <td>AVpfXLGG1cnluZ0-jY7B</td>\n",
       "      <td>Tundra</td>\n",
       "      <td>Shoes,Clothing,Women's Shoes,All Women's Shoes</td>\n",
       "      <td>Black</td>\n",
       "      <td>...</td>\n",
       "      <td>USD</td>\n",
       "      <td>ApparelSave - Walmart.com</td>\n",
       "      <td>TRUE</td>\n",
       "      <td>female</td>\n",
       "    </tr>\n",
       "    <tr>\n",
       "      <th>19044</th>\n",
       "      <td>AVpfXLGG1cnluZ0-jY7B</td>\n",
       "      <td>Tundra</td>\n",
       "      <td>Shoes,Clothing,Women's Shoes,All Women's Shoes</td>\n",
       "      <td>Black</td>\n",
       "      <td>...</td>\n",
       "      <td>USD</td>\n",
       "      <td>ApparelSave - Walmart.com</td>\n",
       "      <td>TRUE</td>\n",
       "      <td>female</td>\n",
       "    </tr>\n",
       "  </tbody>\n",
       "</table>\n",
       "<p>10525 rows × 12 columns</p>\n",
       "</div>"
      ],
      "text/plain": [
       "                         ID                brand  \\\n",
       "13     AVpfFCHeilAPnD_xUeS0        MAUI AND SONS   \n",
       "14     AVpfFCHeilAPnD_xUeS0        MAUI AND SONS   \n",
       "15     AVpfFCHeilAPnD_xUeS0        MAUI AND SONS   \n",
       "16     AVpfFCHeilAPnD_xUeS0        MAUI AND SONS   \n",
       "17     AVpfFCHeilAPnD_xUeS0        MAUI AND SONS   \n",
       "...                     ...                  ...   \n",
       "19023  AVpfW7QgilAPnD_xaVJY  Mia Limited Edition   \n",
       "19039  AVpfmTLMilAPnD_xeu4l               Hi-Tec   \n",
       "19042  AVpfXLGG1cnluZ0-jY7B               Tundra   \n",
       "19043  AVpfXLGG1cnluZ0-jY7B               Tundra   \n",
       "19044  AVpfXLGG1cnluZ0-jY7B               Tundra   \n",
       "\n",
       "                                           categories  \\\n",
       "13         All Men's Shoes,Shoes,Men's Shoes,Clothing   \n",
       "14         All Men's Shoes,Shoes,Men's Shoes,Clothing   \n",
       "15         All Men's Shoes,Shoes,Men's Shoes,Clothing   \n",
       "16         All Men's Shoes,Shoes,Men's Shoes,Clothing   \n",
       "17         All Men's Shoes,Shoes,Men's Shoes,Clothing   \n",
       "...                                               ...   \n",
       "19023  Shoes,Clothing,Women's Shoes,All Women's Shoes   \n",
       "19039  Shoes,Women's Shoes,Clothing,All Women's Shoes   \n",
       "19042  Shoes,Clothing,Women's Shoes,All Women's Shoes   \n",
       "19043  Shoes,Clothing,Women's Shoes,All Women's Shoes   \n",
       "19044  Shoes,Clothing,Women's Shoes,All Women's Shoes   \n",
       "\n",
       "                                                  colors  ... currency  \\\n",
       "13     Red,Black,Sketchy Slant,Yellow,BlackBlue,Black...  ...      USD   \n",
       "14     Red,Black,Sketchy Slant,Yellow,BlackBlue,Black...  ...      USD   \n",
       "15     Red,Black,Sketchy Slant,Yellow,BlackBlue,Black...  ...      USD   \n",
       "16     Red,Black,Sketchy Slant,Yellow,BlackBlue,Black...  ...      USD   \n",
       "17     Red,Black,Sketchy Slant,Yellow,BlackBlue,Black...  ...      USD   \n",
       "...                                                  ...  ...      ...   \n",
       "19023                                              Brown  ...      USD   \n",
       "19039                                     AzeleaGraphite  ...      USD   \n",
       "19042                                              Black  ...      USD   \n",
       "19043                                              Black  ...      USD   \n",
       "19044                                              Black  ...      USD   \n",
       "\n",
       "                        merchant   sale  gender  \n",
       "13      BHFO, Inc. - Walmart.com  False    male  \n",
       "14      BHFO, Inc. - Walmart.com   True    male  \n",
       "15     ApparelSave - Walmart.com  False    male  \n",
       "16     ApparelSave - Walmart.com   True    male  \n",
       "17     ApparelSave - Walmart.com   True    male  \n",
       "...                          ...    ...     ...  \n",
       "19023  ApparelSave - Walmart.com   TRUE  female  \n",
       "19039    AreaTrend - Walmart.com  FALSE  female  \n",
       "19042  ApparelSave - Walmart.com  FALSE  female  \n",
       "19043  ApparelSave - Walmart.com   TRUE  female  \n",
       "19044  ApparelSave - Walmart.com   TRUE  female  \n",
       "\n",
       "[10525 rows x 12 columns]"
      ]
     },
     "execution_count": 61,
     "metadata": {},
     "output_type": "execute_result"
    }
   ],
   "source": [
    "merchant = df[\"merchant\"]\n",
    "df[merchant.str.contains(\"Walmart\")]"
   ]
  },
  {
   "cell_type": "markdown",
   "id": "57ccb118",
   "metadata": {},
   "source": [
    "## Colours"
   ]
  },
  {
   "cell_type": "code",
   "execution_count": 91,
   "id": "a60f41e8",
   "metadata": {},
   "outputs": [],
   "source": [
    "colour_count = {}\n",
    "i = 0\n",
    "\n",
    "for colour in df[\"colors\"]:\n",
    "    try:\n",
    "        colour = colour.lower()\n",
    "        colour = colour.split(\",\")\n",
    "        for col in colour:        \n",
    "            colour_count[col] = colour_count.get(col, 0) + 1\n",
    "    except:\n",
    "        if str(colour) == \"nan\":\n",
    "            colour = str(colour)\n",
    "        colour_count[colour] = colour_count.get(colour, 0) + 1"
   ]
  },
  {
   "cell_type": "code",
   "execution_count": 93,
   "id": "0c84b4a1",
   "metadata": {
    "scrolled": true
   },
   "outputs": [
    {
     "data": {
      "text/plain": [
       "<BarContainer object of 15 artists>"
      ]
     },
     "execution_count": 93,
     "metadata": {},
     "output_type": "execute_result"
    },
    {
     "data": {
      "image/png": "[encoded data removed]",
      "text/plain": [
       "<Figure size 432x288 with 1 Axes>"
      ]
     },
     "metadata": {},
     "output_type": "display_data"
    }
   ],
   "source": [
    "dc = {k: v for k, v in colour_count.items() if v > 200}\n",
    "dc = dict(sorted(dc.items(), key=lambda x:x[1]))\n",
    "\n",
    "col_labels = []\n",
    "for i in dc.keys():\n",
    "    col_labels.append(i)\n",
    "    \n",
    "plt.barh(col_labels, dc.values())\n",
    "# sns.barplot(data=colour_count)"
   ]
  },
  {
   "cell_type": "code",
   "execution_count": 119,
   "id": "64d9b170",
   "metadata": {
    "scrolled": false
   },
   "outputs": [
    {
     "data": {
      "image/png": "[encoded data removed]",
      "text/plain": [
       "<Figure size 432x288 with 1 Axes>"
      ]
     },
     "metadata": {},
     "output_type": "display_data"
    },
    {
     "data": {
      "image/png": "[encoded data removed]",
      "text/plain": [
       "<Figure size 432x288 with 1 Axes>"
      ]
     },
     "metadata": {},
     "output_type": "display_data"
    },
    {
     "name": "stdout",
     "output_type": "stream",
     "text": [
      "8.878514360056071\n"
     ]
    }
   ],
   "source": [
    "avg_price = []\n",
    "\n",
    "for col in col_labels:\n",
    "    prices = sorted(df.query(f'colors.str.lower() in \"{col}\"')[\"price\"])\n",
    "    floated = []\n",
    "\n",
    "    for i in prices:\n",
    "        floated.append(float(i))\n",
    "\n",
    "    avg_price.append(sum(floated)/len(floated))\n",
    "    \n",
    "plt.barh(col_labels, avg_price)\n",
    "plt.show()\n",
    "\n",
    "plt.boxplot(avg_price)\n",
    "plt.show()\n",
    "\n",
    "print(np.std(avg_price))"
   ]
  },
  {
   "cell_type": "code",
   "execution_count": 188,
   "id": "8ec620ac",
   "metadata": {},
   "outputs": [
    {
     "data": {
      "text/plain": [
       "SignificanceResult(statistic=0.04285031834801419, pvalue=0.0008737841315488765)"
      ]
     },
     "execution_count": 188,
     "metadata": {},
     "output_type": "execute_result"
    }
   ],
   "source": [
    "top_brand_df\n",
    "\n",
    "# test = df[df[\"colors\"].str.contains(\"Blue\")][[\"colors\", \"price\"]]\n",
    "# test = df[[\"colors\", \"price\"]]\n",
    "\n",
    "sp.spearmanr(w_df[\"brand\"], w_df[\"price\"])"
   ]
  },
  {
   "cell_type": "markdown",
   "id": "3af7d3e4",
   "metadata": {},
   "source": [
    "## Price"
   ]
  },
  {
   "cell_type": "markdown",
   "id": "a726610d",
   "metadata": {},
   "source": [
    "top brands for women (count):\n",
    "    1. nike\n",
    "    2. toms\n",
    "    3. pleaserusa\n",
    "    4. nine west\n",
    "    5. easy spirit\n",
    "    6. vans\n",
    "    \n",
    "top brands for men (count):\n",
    "    1. nike\n",
    "    2. puma\n",
    "    3. reebok\n",
    "    4. vans\n",
    "    5. adidas\n",
    "    6. (no data)\n",
    "    7. new balance"
   ]
  },
  {
   "cell_type": "code",
   "execution_count": 159,
   "id": "8c8904b7",
   "metadata": {},
   "outputs": [
    {
     "name": "stderr",
     "output_type": "stream",
     "text": [
      "<ipython-input-159-797c098a914f>:5: SettingWithCopyWarning: \n",
      "A value is trying to be set on a copy of a slice from a DataFrame.\n",
      "Try using .loc[row_indexer,col_indexer] = value instead\n",
      "\n",
      "See the caveats in the documentation: https://pandas.pydata.org/pandas-docs/stable/user_guide/indexing.html#returning-a-view-versus-a-copy\n",
      "  top_brand_df[\"brand\"] = top_brand_df[\"brand\"].str.lower()\n"
     ]
    }
   ],
   "source": [
    "# SELECT lower(brand), count(DISTINCT(id)) FROM 7003_1 GROUP BY lower(brand);\n",
    "\n",
    "top_women_brands = [\"nike\", \"toms\", \"pleaserusa\", \"nine west\", \"easy spirit\", \"vans\"]\n",
    "top_brand_df = w_df.query(f'brand.str.lower() == {top_women_brands}')\n",
    "top_brand_df[\"brand\"] = top_brand_df[\"brand\"].str.lower()\n",
    "\n",
    "nike_df = df.query('brand.str.lower() == \"nike\"')\n",
    "toms_df = df.query('brand.str.lower() == \"toms\"')\n",
    "pleaserusa_df = df.query('brand.str.lower() == \"pleaserusa\"')\n",
    "ninewest_df = df.query('brand.str.lower() == \"nine west\"')\n",
    "easyspirit_df = df.query('brand.str.lower() == \"easy spirit\"')\n",
    "vans_df = df.query('brand.str.lower() == \"vans\"')\n",
    "\n",
    "all_df = [nike_df, toms_df, pleaserusa_df, ninewest_df, easyspirit_df, vans_df]"
   ]
  },
  {
   "cell_type": "code",
   "execution_count": 161,
   "id": "20915a32",
   "metadata": {},
   "outputs": [
    {
     "data": {
      "text/plain": [
       "<seaborn.axisgrid.FacetGrid at 0x1f4e3bb3d30>"
      ]
     },
     "execution_count": 161,
     "metadata": {},
     "output_type": "execute_result"
    },
    {
     "data": {
      "image/png": "[encoded data removed]",
      "text/plain": [
       "<Figure size 432x288 with 1 Axes>"
      ]
     },
     "metadata": {},
     "output_type": "display_data"
    },
    {
     "data": {
      "image/png": "[encoded data removed]",
      "text/plain": [
       "<Figure size 720x360 with 1 Axes>"
      ]
     },
     "metadata": {},
     "output_type": "display_data"
    }
   ],
   "source": [
    "sns.boxplot(y=\"price\", data=df)\n",
    "sns.displot(df, x=\"price\", binwidth=3, height=5, aspect=2)"
   ]
  },
  {
   "cell_type": "code",
   "execution_count": 162,
   "id": "8aa85c68",
   "metadata": {},
   "outputs": [
    {
     "data": {
      "text/plain": [
       "<AxesSubplot:xlabel='gender', ylabel='price'>"
      ]
     },
     "execution_count": 162,
     "metadata": {},
     "output_type": "execute_result"
    },
    {
     "data": {
      "image/png": "[encoded data removed]",
      "text/plain": [
       "<Figure size 432x288 with 1 Axes>"
      ]
     },
     "metadata": {},
     "output_type": "display_data"
    }
   ],
   "source": [
    "sns.boxplot(x=\"gender\", y=\"price\", data=df)"
   ]
  },
  {
   "cell_type": "code",
   "execution_count": 163,
   "id": "b43a4e18",
   "metadata": {
    "scrolled": false
   },
   "outputs": [
    {
     "data": {
      "text/plain": [
       "<AxesSubplot:xlabel='gender', ylabel='price'>"
      ]
     },
     "execution_count": 163,
     "metadata": {},
     "output_type": "execute_result"
    },
    {
     "data": {
      "image/png": "[encoded data removed]",
      "text/plain": [
       "<Figure size 432x288 with 1 Axes>"
      ]
     },
     "metadata": {},
     "output_type": "display_data"
    }
   ],
   "source": [
    "removed_outliers_df = df[df[\"price\"] <= 200.00]\n",
    "sns.boxplot(x=\"gender\", y=\"price\", data=removed_outliers_df)\n",
    "# sns.displot(removed_outliers_df, x=\"price\", kind=\"kde\", hue=\"gender\", height=5, aspect=2)"
   ]
  },
  {
   "cell_type": "code",
   "execution_count": 173,
   "id": "f8ddafe2",
   "metadata": {},
   "outputs": [
    {
     "name": "stdout",
     "output_type": "stream",
     "text": [
      "62.267333333333355\n"
     ]
    },
    {
     "data": {
      "text/plain": [
       "<seaborn.axisgrid.FacetGrid at 0x1f4e9fb15b0>"
      ]
     },
     "execution_count": 173,
     "metadata": {},
     "output_type": "execute_result"
    },
    {
     "data": {
      "image/png": "[encoded data removed]",
      "text/plain": [
       "<Figure size 813.35x360 with 1 Axes>"
      ]
     },
     "metadata": {},
     "output_type": "display_data"
    },
    {
     "data": {
      "image/png": "[encoded data removed]",
      "text/plain": [
       "<Figure size 720x360 with 1 Axes>"
      ]
     },
     "metadata": {},
     "output_type": "display_data"
    }
   ],
   "source": [
    "sns.displot(top_brand_df, x=\"price\", hue=\"brand\", kind=\"kde\", height=5, aspect=2)\n",
    "plt.axvline(25, 0, 1, c=\"black\", linestyle=\"--\")\n",
    "plt.axvline(75, 0, 1, c=\"black\", linestyle=\"--\")\n",
    "\n",
    "avg_price = sum(top_brand_df[\"price\"]) / len(top_brand_df[\"price\"])\n",
    "print(avg_price)\n",
    "\n",
    "sns.displot(top_brand_df, x=\"price\", height=5, aspect=2)"
   ]
  },
  {
   "cell_type": "code",
   "execution_count": 169,
   "id": "819f9a04",
   "metadata": {
    "scrolled": false
   },
   "outputs": [
    {
     "data": {
      "text/plain": [
       "<seaborn.axisgrid.FacetGrid at 0x1f4e43d2b20>"
      ]
     },
     "execution_count": 169,
     "metadata": {},
     "output_type": "execute_result"
    },
    {
     "data": {
      "image/png": "[encoded data removed]",
      "text/plain": [
       "<Figure size 950.1x432 with 2 Axes>"
      ]
     },
     "metadata": {},
     "output_type": "display_data"
    }
   ],
   "source": [
    "toms_nine_west_df = top_brand_df.query('brand.str.lower() in [\"toms\", \"nine west\"]')\n",
    "\n",
    "sns.displot(toms_nine_west_df, x=\"price\", hue=\"brand\", col=\"brand\", height=6, aspect=1)"
   ]
  },
  {
   "cell_type": "markdown",
   "id": "0fe3db9e",
   "metadata": {},
   "source": [
    "## Niche"
   ]
  },
  {
   "cell_type": "code",
   "execution_count": 8,
   "id": "79670df2",
   "metadata": {
    "collapsed": true
   },
   "outputs": [
    {
     "name": "stdout",
     "output_type": "stream",
     "text": [
      "[{\"dateSeen\":[\"2016-11-11T09:49:00Z\"],\"sourceURLs\":[\"https://www.walmart.com/ip/Zoot-TT-TRAINER-2.0-Women-US-9-Blue-Sneakers/51270891\"],\"value\":\"Important Made in USA Origin Disclaimer: For certain items sold by Walmart on Walmart.com, the displayed country of origin information may not be accurate or consistent with manufacturer information. For updated, accurate country of origin data, it is recommended that you rely on product packaging or manufacturer information. Brand & Style - Zoot TT Trainer 2.0 Width - Medium (B, M) True Color - Green Flash/Atomic Blue/Safety Yellow Outsole Material - Man-Made Heel Height - 1 Inches Brand & Style - Zoot TT Trainer 2.0 Width - Medium (B, M) True Color - Green Flash/Atomic Blue/Safety Yellow Outsole Material - Man-Made Heel Height - 1 Inches Find high-quality Zoot shoes with great prices at our store. We carry the very best shoes, boots, and sandals ranging from dress to casual to athletic while offering fast shipping to almost anywhere in the world. Included in our selection are the excellent Zoot shoes. These feature the ideal combination of style, comfort, and lasting wear available anywhere. You can depend on us for exceptional footwear. ps6276112\"}]\n",
      "\n",
      "{'dateSeen': ['2016-11-11T09:49:00Z'], 'sourceURLs': ['https://www.walmart.com/ip/Zoot-TT-TRAINER-2.0-Women-US-9-Blue-Sneakers/51270891'], 'value': 'Important Made in USA Origin Disclaimer: For certain items sold by Walmart on Walmart.com, the displayed country of origin information may not be accurate or consistent with manufacturer information. For updated, accurate country of origin data, it is recommended that you rely on product packaging or manufacturer information. Brand & Style - Zoot TT Trainer 2.0 Width - Medium (B, M) True Color - Green Flash/Atomic Blue/Safety Yellow Outsole Material - Man-Made Heel Height - 1 Inches Brand & Style - Zoot TT Trainer 2.0 Width - Medium (B, M) True Color - Green Flash/Atomic Blue/Safety Yellow Outsole Material - Man-Made Heel Height - 1 Inches Find high-quality Zoot shoes with great prices at our store. We carry the very best shoes, boots, and sandals ranging from dress to casual to athletic while offering fast shipping to almost anywhere in the world. Included in our selection are the excellent Zoot shoes. These feature the ideal combination of style, comfort, and lasting wear available anywhere. You can depend on us for exceptional footwear. ps6276112'}\n",
      "\n",
      "{'sneaker': 300, 'boot': 1129, 'heel': 745, 'sandal': 1132, 'running': 131, 'train': 35, 'flat': 407, 'loaf': 108, 'walk': 93, 'clog': 52, 'other': 1530}\n"
     ]
    }
   ],
   "source": [
    "import json\n",
    "\n",
    "index = 0\n",
    "\n",
    "# example of women shoe description\n",
    "print(df[\"descriptions\"].dropna().unique()[index])\n",
    "\n",
    "print(\"\")\n",
    "\n",
    "# convert dirty data into json format for simplier processing\n",
    "print(json.loads(df[\"descriptions\"].dropna().unique()[index])[0])\n",
    "\n",
    "print(\"\")\n",
    "\n",
    "categories = {\n",
    "    \"sneaker\": 0, \n",
    "    \"boot\" : 0, \n",
    "    \"heel\" : 0,\n",
    "    \"sandal\" : 0,\n",
    "    \"running\": 0,\n",
    "    \"train\": 0,\n",
    "    \"flat\": 0,\n",
    "    \"loaf\": 0,\n",
    "    \"walk\": 0,\n",
    "    \"clog\": 0,\n",
    "    \"other\": 0\n",
    "}\n",
    "\n",
    "unknown_cat = []\n",
    "\n",
    "# identify shoe categories using their URL\n",
    "for i in range(10000):\n",
    "    try:\n",
    "        URL = json.loads(df[\"descriptions\"].dropna().unique()[i])[0][\"sourceURLs\"][0].lower()\n",
    "        found = False\n",
    "        for cat in categories.keys():\n",
    "            if cat in URL:\n",
    "                categories[cat] += 1\n",
    "                found = True\n",
    "        if not found:\n",
    "            categories[\"other\"] += 1\n",
    "            unknown_cat.append(URL)\n",
    "    except:\n",
    "        pass\n",
    "    \n",
    "print(categories)"
   ]
  },
  {
   "cell_type": "code",
   "execution_count": 68,
   "id": "05ac9796",
   "metadata": {},
   "outputs": [
    {
     "data": {
      "text/plain": [
       "'https://www.walmart.com/ip/nike-womens-wmns-roshe-one-winter-brigade-blue-sail-685286-441/162269548'"
      ]
     },
     "execution_count": 68,
     "metadata": {},
     "output_type": "execute_result"
    }
   ],
   "source": [
    "unknown_cat[1202]"
   ]
  },
  {
   "cell_type": "code",
   "execution_count": 9,
   "id": "4a03db5b",
   "metadata": {
    "scrolled": false
   },
   "outputs": [
    {
     "data": {
      "text/plain": [
       "<BarContainer object of 11 artists>"
      ]
     },
     "execution_count": 9,
     "metadata": {},
     "output_type": "execute_result"
    },
    {
     "data": {
      "image/png": "[encoded data removed]",
      "text/plain": [
       "<Figure size 640x480 with 1 Axes>"
      ]
     },
     "metadata": {},
     "output_type": "display_data"
    }
   ],
   "source": [
    "plt.bar(categories.keys(), categories.values())"
   ]
  },
  {
   "cell_type": "code",
   "execution_count": 46,
   "id": "cf09ee0a",
   "metadata": {
    "scrolled": true
   },
   "outputs": [
    {
     "data": {
      "text/plain": [
       "94          88\n",
       "134        9.5\n",
       "456        150\n",
       "477         75\n",
       "838         70\n",
       "         ...  \n",
       "18064    79.98\n",
       "18080    23.99\n",
       "18472       75\n",
       "18793    62.05\n",
       "18830    51.52\n",
       "Name: prices.amountMax, Length: 209, dtype: object"
      ]
     },
     "execution_count": 46,
     "metadata": {},
     "output_type": "execute_result"
    }
   ],
   "source": [
    "nike_df = df.query('brand.str.lower() == \"nike\"')\n",
    "nike_df[\"prices.amountMax\"]"
   ]
  },
  {
   "cell_type": "code",
   "execution_count": 47,
   "id": "77a053fb",
   "metadata": {},
   "outputs": [],
   "source": [
    "npl = []\n",
    "\n",
    "for item in nike_df[\"prices.amountMax\"]:\n",
    "    npl.append(float(item))\n",
    "\n",
    "npl = sorted(npl)"
   ]
  },
  {
   "cell_type": "code",
   "execution_count": 53,
   "id": "f5ed6015",
   "metadata": {
    "scrolled": true
   },
   "outputs": [
    {
     "data": {
      "text/plain": [
       "(array([ 4.,  6., 11., 12., 17., 19., 28., 21., 17., 11., 13., 11., 14.,\n",
       "         5.,  8.,  4.,  0.,  2.,  0.,  2.,  0.,  1.,  1.,  0.,  1.,  0.,\n",
       "         0.,  0.,  0.,  0.,  0.,  0.,  0.,  0.,  0.,  0.,  0.,  0.,  0.,\n",
       "         1.]),\n",
       " array([  9.5    ,  19.26225,  29.0245 ,  38.78675,  48.549  ,  58.31125,\n",
       "         68.0735 ,  77.83575,  87.598  ,  97.36025, 107.1225 , 116.88475,\n",
       "        126.647  , 136.40925, 146.1715 , 155.93375, 165.696  , 175.45825,\n",
       "        185.2205 , 194.98275, 204.745  , 214.50725, 224.2695 , 234.03175,\n",
       "        243.794  , 253.55625, 263.3185 , 273.08075, 282.843  , 292.60525,\n",
       "        302.3675 , 312.12975, 321.892  , 331.65425, 341.4165 , 351.17875,\n",
       "        360.941  , 370.70325, 380.4655 , 390.22775, 399.99   ]),\n",
       " <BarContainer object of 40 artists>)"
      ]
     },
     "execution_count": 53,
     "metadata": {},
     "output_type": "execute_result"
    },
    {
     "data": {
      "image/png": "[encoded data removed]",
      "text/plain": [
       "<Figure size 432x288 with 1 Axes>"
      ]
     },
     "metadata": {
      "needs_background": "light"
     },
     "output_type": "display_data"
    }
   ],
   "source": [
    "plt.hist(npl, bins=40)"
   ]
  },
  {
   "cell_type": "code",
   "execution_count": 49,
   "id": "4880a3ca",
   "metadata": {},
   "outputs": [
    {
     "data": {
      "text/plain": [
       "{'whiskers': [<matplotlib.lines.Line2D at 0x1ce0284cc10>,\n",
       "  <matplotlib.lines.Line2D at 0x1ce0284cf70>],\n",
       " 'caps': [<matplotlib.lines.Line2D at 0x1ce0285c310>,\n",
       "  <matplotlib.lines.Line2D at 0x1ce0285c670>],\n",
       " 'boxes': [<matplotlib.lines.Line2D at 0x1ce0284c8b0>],\n",
       " 'medians': [<matplotlib.lines.Line2D at 0x1ce0285c9d0>],\n",
       " 'fliers': [<matplotlib.lines.Line2D at 0x1ce0285cd30>],\n",
       " 'means': []}"
      ]
     },
     "execution_count": 49,
     "metadata": {},
     "output_type": "execute_result"
    },
    {
     "data": {
      "image/png": "[encoded data removed]",
      "text/plain": [
       "<Figure size 432x288 with 1 Axes>"
      ]
     },
     "metadata": {
      "needs_background": "light"
     },
     "output_type": "display_data"
    }
   ],
   "source": [
    "plt.boxplot(npl)"
   ]
  }
 ],
 "metadata": {
  "kernelspec": {
   "display_name": "Python 3",
   "language": "python",
   "name": "python3"
  },
  "language_info": {
   "codemirror_mode": {
    "name": "ipython",
    "version": 3
   },
   "file_extension": ".py",
   "mimetype": "text/x-python",
   "name": "python",
   "nbconvert_exporter": "python",
   "pygments_lexer": "ipython3",
   "version": "3.8.8"
  }
 },
 "nbformat": 4,
 "nbformat_minor": 5
}
