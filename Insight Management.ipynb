{
 "cells": [
  {
   "cell_type": "code",
   "execution_count": 2,
   "id": "fb907263",
   "metadata": {
    "collapsed": true
   },
   "outputs": [
    {
     "name": "stdout",
     "output_type": "stream",
     "text": [
      "Collecting pandasql\n",
      "  Downloading pandasql-0.7.3.tar.gz (26 kB)\n",
      "Requirement already satisfied: numpy in c:\\users\\benhamaaron\\anaconda3\\lib\\site-packages (from pandasql) (1.22.4)\n",
      "Requirement already satisfied: pandas in c:\\users\\benhamaaron\\anaconda3\\lib\\site-packages (from pandasql) (1.2.4)\n",
      "Requirement already satisfied: sqlalchemy in c:\\users\\benhamaaron\\anaconda3\\lib\\site-packages (from pandasql) (1.4.7)\n",
      "Requirement already satisfied: python-dateutil>=2.7.3 in c:\\users\\benhamaaron\\anaconda3\\lib\\site-packages (from pandas->pandasql) (2.8.1)\n",
      "Requirement already satisfied: pytz>=2017.3 in c:\\users\\benhamaaron\\anaconda3\\lib\\site-packages (from pandas->pandasql) (2021.1)\n",
      "Requirement already satisfied: six>=1.5 in c:\\users\\benhamaaron\\anaconda3\\lib\\site-packages (from python-dateutil>=2.7.3->pandas->pandasql) (1.15.0)\n",
      "Requirement already satisfied: greenlet!=0.4.17 in c:\\users\\benhamaaron\\anaconda3\\lib\\site-packages (from sqlalchemy->pandasql) (1.0.0)\n",
      "Building wheels for collected packages: pandasql\n",
      "  Building wheel for pandasql (setup.py): started\n",
      "  Building wheel for pandasql (setup.py): finished with status 'done'\n",
      "  Created wheel for pandasql: filename=pandasql-0.7.3-py3-none-any.whl size=26767 sha256=7668e583ecc353a3f61d47286d1b2121e71ed95bfbe4e0bba3ccc0aa6b961ac8\n",
      "  Stored in directory: c:\\users\\benhamaaron\\appdata\\local\\pip\\cache\\wheels\\ed\\8f\\46\\a383923333728744f01ba24adbd8e364f2cb9470a8b8e5b9ff\n",
      "Successfully built pandasql\n",
      "Installing collected packages: pandasql\n",
      "Successfully installed pandasql-0.7.3\n"
     ]
    }
   ],
   "source": [
    "!pip install pandasql"
   ]
  },
  {
   "cell_type": "code",
   "execution_count": 1,
   "id": "50035fcd",
   "metadata": {},
   "outputs": [],
   "source": [
    "import pandas as pd\n",
    "import pandasql as ps\n",
    "import numpy as np\n",
    "import matplotlib.pyplot as plt"
   ]
  },
  {
   "cell_type": "code",
   "execution_count": 2,
   "id": "682f7712",
   "metadata": {},
   "outputs": [
    {
     "name": "stderr",
     "output_type": "stream",
     "text": [
      "C:\\Users\\BenhamAaron\\anaconda3\\lib\\site-packages\\IPython\\core\\interactiveshell.py:3165: DtypeWarning: Columns (25,36,39,44) have mixed types.Specify dtype option on import or set low_memory=False.\n",
      "  has_raised = await self.run_ast_nodes(code_ast.body, cell_name,\n"
     ]
    },
    {
     "data": {
      "text/html": [
       "<div>\n",
       "<style scoped>\n",
       "    .dataframe tbody tr th:only-of-type {\n",
       "        vertical-align: middle;\n",
       "    }\n",
       "\n",
       "    .dataframe tbody tr th {\n",
       "        vertical-align: top;\n",
       "    }\n",
       "\n",
       "    .dataframe thead th {\n",
       "        text-align: right;\n",
       "    }\n",
       "</style>\n",
       "<table border=\"1\" class=\"dataframe\">\n",
       "  <thead>\n",
       "    <tr style=\"text-align: right;\">\n",
       "      <th></th>\n",
       "      <th>id</th>\n",
       "      <th>asins</th>\n",
       "      <th>brand</th>\n",
       "      <th>...</th>\n",
       "      <th>upc</th>\n",
       "      <th>websiteIDs</th>\n",
       "      <th>weight</th>\n",
       "    </tr>\n",
       "  </thead>\n",
       "  <tbody>\n",
       "    <tr>\n",
       "      <th>0</th>\n",
       "      <td>AVpfBXx21cnluZ0-cKxs</td>\n",
       "      <td>NaN</td>\n",
       "      <td>Zoot</td>\n",
       "      <td>...</td>\n",
       "      <td>NaN</td>\n",
       "      <td>NaN</td>\n",
       "      <td>NaN</td>\n",
       "    </tr>\n",
       "    <tr>\n",
       "      <th>1</th>\n",
       "      <td>AVpfBXx21cnluZ0-cKxs</td>\n",
       "      <td>NaN</td>\n",
       "      <td>Zoot</td>\n",
       "      <td>...</td>\n",
       "      <td>NaN</td>\n",
       "      <td>NaN</td>\n",
       "      <td>NaN</td>\n",
       "    </tr>\n",
       "    <tr>\n",
       "      <th>2</th>\n",
       "      <td>AVpfBXx21cnluZ0-cKxs</td>\n",
       "      <td>NaN</td>\n",
       "      <td>Zoot</td>\n",
       "      <td>...</td>\n",
       "      <td>NaN</td>\n",
       "      <td>NaN</td>\n",
       "      <td>NaN</td>\n",
       "    </tr>\n",
       "    <tr>\n",
       "      <th>3</th>\n",
       "      <td>AVpfBXx21cnluZ0-cKxs</td>\n",
       "      <td>NaN</td>\n",
       "      <td>Zoot</td>\n",
       "      <td>...</td>\n",
       "      <td>NaN</td>\n",
       "      <td>NaN</td>\n",
       "      <td>NaN</td>\n",
       "    </tr>\n",
       "    <tr>\n",
       "      <th>4</th>\n",
       "      <td>AVpfEqFRLJeJML431x7w</td>\n",
       "      <td>NaN</td>\n",
       "      <td>Wild Pair</td>\n",
       "      <td>...</td>\n",
       "      <td>7.63181E+11</td>\n",
       "      <td>NaN</td>\n",
       "      <td>NaN</td>\n",
       "    </tr>\n",
       "  </tbody>\n",
       "</table>\n",
       "<p>5 rows × 47 columns</p>\n",
       "</div>"
      ],
      "text/plain": [
       "                     id asins      brand  ...          upc websiteIDs  weight\n",
       "0  AVpfBXx21cnluZ0-cKxs   NaN       Zoot  ...          NaN        NaN     NaN\n",
       "1  AVpfBXx21cnluZ0-cKxs   NaN       Zoot  ...          NaN        NaN     NaN\n",
       "2  AVpfBXx21cnluZ0-cKxs   NaN       Zoot  ...          NaN        NaN     NaN\n",
       "3  AVpfBXx21cnluZ0-cKxs   NaN       Zoot  ...          NaN        NaN     NaN\n",
       "4  AVpfEqFRLJeJML431x7w   NaN  Wild Pair  ...  7.63181E+11        NaN     NaN\n",
       "\n",
       "[5 rows x 47 columns]"
      ]
     },
     "execution_count": 2,
     "metadata": {},
     "output_type": "execute_result"
    }
   ],
   "source": [
    "df = pd.read_csv(\"7003_1.csv\")\n",
    "pd.set_option('display.max_columns', 7)\n",
    "pd.set_option('display.max_rows', 10)\n",
    "df.head()"
   ]
  },
  {
   "cell_type": "markdown",
   "id": "216f5ff2",
   "metadata": {},
   "source": [
    "# CLEANING"
   ]
  },
  {
   "cell_type": "code",
   "execution_count": 3,
   "id": "53c2b920",
   "metadata": {
    "scrolled": false
   },
   "outputs": [
    {
     "data": {
      "text/html": [
       "<div>\n",
       "<style scoped>\n",
       "    .dataframe tbody tr th:only-of-type {\n",
       "        vertical-align: middle;\n",
       "    }\n",
       "\n",
       "    .dataframe tbody tr th {\n",
       "        vertical-align: top;\n",
       "    }\n",
       "\n",
       "    .dataframe thead th {\n",
       "        text-align: right;\n",
       "    }\n",
       "</style>\n",
       "<table border=\"1\" class=\"dataframe\">\n",
       "  <thead>\n",
       "    <tr style=\"text-align: right;\">\n",
       "      <th></th>\n",
       "      <th>id</th>\n",
       "      <th>brand</th>\n",
       "      <th>categories</th>\n",
       "      <th>...</th>\n",
       "      <th>prices.currency</th>\n",
       "      <th>prices.merchant</th>\n",
       "      <th>sizes</th>\n",
       "    </tr>\n",
       "  </thead>\n",
       "  <tbody>\n",
       "    <tr>\n",
       "      <th>0</th>\n",
       "      <td>AVpfBXx21cnluZ0-cKxs</td>\n",
       "      <td>Zoot</td>\n",
       "      <td>Shoes,Clothing,Women's Shoes,All Women's Shoes</td>\n",
       "      <td>...</td>\n",
       "      <td>USD</td>\n",
       "      <td>NaN</td>\n",
       "      <td>10,9</td>\n",
       "    </tr>\n",
       "    <tr>\n",
       "      <th>1</th>\n",
       "      <td>AVpfBXx21cnluZ0-cKxs</td>\n",
       "      <td>Zoot</td>\n",
       "      <td>Shoes,Clothing,Women's Shoes,All Women's Shoes</td>\n",
       "      <td>...</td>\n",
       "      <td>USD</td>\n",
       "      <td>ApparelSave - Walmart.com</td>\n",
       "      <td>10,9</td>\n",
       "    </tr>\n",
       "    <tr>\n",
       "      <th>2</th>\n",
       "      <td>AVpfBXx21cnluZ0-cKxs</td>\n",
       "      <td>Zoot</td>\n",
       "      <td>Shoes,Clothing,Women's Shoes,All Women's Shoes</td>\n",
       "      <td>...</td>\n",
       "      <td>USD</td>\n",
       "      <td>ApparelSave - Walmart.com</td>\n",
       "      <td>10,9</td>\n",
       "    </tr>\n",
       "    <tr>\n",
       "      <th>3</th>\n",
       "      <td>AVpfBXx21cnluZ0-cKxs</td>\n",
       "      <td>Zoot</td>\n",
       "      <td>Shoes,Clothing,Women's Shoes,All Women's Shoes</td>\n",
       "      <td>...</td>\n",
       "      <td>USD</td>\n",
       "      <td>ApparelSave - Walmart.com</td>\n",
       "      <td>10,9</td>\n",
       "    </tr>\n",
       "    <tr>\n",
       "      <th>4</th>\n",
       "      <td>AVpfEqFRLJeJML431x7w</td>\n",
       "      <td>Wild Pair</td>\n",
       "      <td>Shoes,Women's Shoes,Clothing,All Women's Shoes</td>\n",
       "      <td>...</td>\n",
       "      <td>USD</td>\n",
       "      <td>NaN</td>\n",
       "      <td>8.5,7,7.5,8</td>\n",
       "    </tr>\n",
       "  </tbody>\n",
       "</table>\n",
       "<p>5 rows × 12 columns</p>\n",
       "</div>"
      ],
      "text/plain": [
       "                     id      brand  \\\n",
       "0  AVpfBXx21cnluZ0-cKxs       Zoot   \n",
       "1  AVpfBXx21cnluZ0-cKxs       Zoot   \n",
       "2  AVpfBXx21cnluZ0-cKxs       Zoot   \n",
       "3  AVpfBXx21cnluZ0-cKxs       Zoot   \n",
       "4  AVpfEqFRLJeJML431x7w  Wild Pair   \n",
       "\n",
       "                                       categories  ... prices.currency  \\\n",
       "0  Shoes,Clothing,Women's Shoes,All Women's Shoes  ...             USD   \n",
       "1  Shoes,Clothing,Women's Shoes,All Women's Shoes  ...             USD   \n",
       "2  Shoes,Clothing,Women's Shoes,All Women's Shoes  ...             USD   \n",
       "3  Shoes,Clothing,Women's Shoes,All Women's Shoes  ...             USD   \n",
       "4  Shoes,Women's Shoes,Clothing,All Women's Shoes  ...             USD   \n",
       "\n",
       "             prices.merchant        sizes  \n",
       "0                        NaN         10,9  \n",
       "1  ApparelSave - Walmart.com         10,9  \n",
       "2  ApparelSave - Walmart.com         10,9  \n",
       "3  ApparelSave - Walmart.com         10,9  \n",
       "4                        NaN  8.5,7,7.5,8  \n",
       "\n",
       "[5 rows x 12 columns]"
      ]
     },
     "execution_count": 3,
     "metadata": {},
     "output_type": "execute_result"
    }
   ],
   "source": [
    "df = df[[\n",
    "    \"id\",\n",
    "    \"brand\",\n",
    "    \"categories\",\n",
    "    \"colors\",\n",
    "    \"descriptions\",\n",
    "    \"features\",\n",
    "    \"merchants\",\n",
    "    \"name\",\n",
    "    \"prices.amountMax\",\n",
    "    \"prices.currency\",\n",
    "    \"prices.merchant\",\n",
    "    \"sizes\",\n",
    "]]\n",
    "df.head()"
   ]
  },
  {
   "cell_type": "code",
   "execution_count": 4,
   "id": "1535c7c0",
   "metadata": {},
   "outputs": [
    {
     "data": {
      "text/plain": [
       "10000"
      ]
     },
     "execution_count": 4,
     "metadata": {},
     "output_type": "execute_result"
    }
   ],
   "source": [
    "len(df[\"id\"].unique())"
   ]
  },
  {
   "cell_type": "code",
   "execution_count": 5,
   "id": "9040120c",
   "metadata": {},
   "outputs": [
    {
     "data": {
      "text/html": [
       "<div>\n",
       "<style scoped>\n",
       "    .dataframe tbody tr th:only-of-type {\n",
       "        vertical-align: middle;\n",
       "    }\n",
       "\n",
       "    .dataframe tbody tr th {\n",
       "        vertical-align: top;\n",
       "    }\n",
       "\n",
       "    .dataframe thead th {\n",
       "        text-align: right;\n",
       "    }\n",
       "</style>\n",
       "<table border=\"1\" class=\"dataframe\">\n",
       "  <thead>\n",
       "    <tr style=\"text-align: right;\">\n",
       "      <th></th>\n",
       "      <th>id</th>\n",
       "      <th>brand</th>\n",
       "      <th>categories</th>\n",
       "      <th>...</th>\n",
       "      <th>prices.currency</th>\n",
       "      <th>prices.merchant</th>\n",
       "      <th>sizes</th>\n",
       "    </tr>\n",
       "  </thead>\n",
       "  <tbody>\n",
       "    <tr>\n",
       "      <th>0</th>\n",
       "      <td>AVpfBXx21cnluZ0-cKxs</td>\n",
       "      <td>Zoot</td>\n",
       "      <td>Shoes,Clothing,Women's Shoes,All Women's Shoes</td>\n",
       "      <td>...</td>\n",
       "      <td>USD</td>\n",
       "      <td>NaN</td>\n",
       "      <td>10,9</td>\n",
       "    </tr>\n",
       "    <tr>\n",
       "      <th>4</th>\n",
       "      <td>AVpfEqFRLJeJML431x7w</td>\n",
       "      <td>Wild Pair</td>\n",
       "      <td>Shoes,Women's Shoes,Clothing,All Women's Shoes</td>\n",
       "      <td>...</td>\n",
       "      <td>USD</td>\n",
       "      <td>NaN</td>\n",
       "      <td>8.5,7,7.5,8</td>\n",
       "    </tr>\n",
       "    <tr>\n",
       "      <th>7</th>\n",
       "      <td>AVpfFCfi1cnluZ0-dcCZ</td>\n",
       "      <td>Sutton Studio</td>\n",
       "      <td>Women's Suits &amp; Sets,Women's Clothing,All Wome...</td>\n",
       "      <td>...</td>\n",
       "      <td>USD</td>\n",
       "      <td>Sears.com</td>\n",
       "      <td>8</td>\n",
       "    </tr>\n",
       "    <tr>\n",
       "      <th>9</th>\n",
       "      <td>AVpfBZCAilAPnD_xTN_K</td>\n",
       "      <td>LaLeela.com</td>\n",
       "      <td>Women's Clothing,All Women's Clothing,Clothing...</td>\n",
       "      <td>...</td>\n",
       "      <td>USD</td>\n",
       "      <td>La Leela</td>\n",
       "      <td>NaN</td>\n",
       "    </tr>\n",
       "    <tr>\n",
       "      <th>11</th>\n",
       "      <td>AVpfHscY1cnluZ0-eVb6</td>\n",
       "      <td>Reebok</td>\n",
       "      <td>Shoes,Clothing,Women's Shoes,All Women's Shoes...</td>\n",
       "      <td>...</td>\n",
       "      <td>USD</td>\n",
       "      <td>ApparelSave - Walmart.com</td>\n",
       "      <td>5.5M,6.5M,7M,7.5M,8.5M,6M,11M,9M,10M,8M,9.5M,5...</td>\n",
       "    </tr>\n",
       "  </tbody>\n",
       "</table>\n",
       "<p>5 rows × 12 columns</p>\n",
       "</div>"
      ],
      "text/plain": [
       "                      id          brand  \\\n",
       "0   AVpfBXx21cnluZ0-cKxs           Zoot   \n",
       "4   AVpfEqFRLJeJML431x7w      Wild Pair   \n",
       "7   AVpfFCfi1cnluZ0-dcCZ  Sutton Studio   \n",
       "9   AVpfBZCAilAPnD_xTN_K    LaLeela.com   \n",
       "11  AVpfHscY1cnluZ0-eVb6         Reebok   \n",
       "\n",
       "                                           categories  ... prices.currency  \\\n",
       "0      Shoes,Clothing,Women's Shoes,All Women's Shoes  ...             USD   \n",
       "4      Shoes,Women's Shoes,Clothing,All Women's Shoes  ...             USD   \n",
       "7   Women's Suits & Sets,Women's Clothing,All Wome...  ...             USD   \n",
       "9   Women's Clothing,All Women's Clothing,Clothing...  ...             USD   \n",
       "11  Shoes,Clothing,Women's Shoes,All Women's Shoes...  ...             USD   \n",
       "\n",
       "              prices.merchant  \\\n",
       "0                         NaN   \n",
       "4                         NaN   \n",
       "7                   Sears.com   \n",
       "9                    La Leela   \n",
       "11  ApparelSave - Walmart.com   \n",
       "\n",
       "                                                sizes  \n",
       "0                                                10,9  \n",
       "4                                         8.5,7,7.5,8  \n",
       "7                                                   8  \n",
       "9                                                 NaN  \n",
       "11  5.5M,6.5M,7M,7.5M,8.5M,6M,11M,9M,10M,8M,9.5M,5...  \n",
       "\n",
       "[5 rows x 12 columns]"
      ]
     },
     "execution_count": 5,
     "metadata": {},
     "output_type": "execute_result"
    }
   ],
   "source": [
    "df = df.drop_duplicates(subset=[\"id\"])\n",
    "df.head()"
   ]
  },
  {
   "cell_type": "code",
   "execution_count": 6,
   "id": "fe9ca965",
   "metadata": {},
   "outputs": [
    {
     "data": {
      "text/plain": [
       "array(['USD', 'CAD', 'AUD', 'EUR', nan, 'GBP',\n",
       "       'Off Price Direct - Walmart.com', 'new'], dtype=object)"
      ]
     },
     "execution_count": 6,
     "metadata": {},
     "output_type": "execute_result"
    }
   ],
   "source": [
    "df[\"prices.currency\"].unique()"
   ]
  },
  {
   "cell_type": "code",
   "execution_count": 9,
   "id": "bc8f0f9e",
   "metadata": {},
   "outputs": [
    {
     "data": {
      "text/html": [
       "<div>\n",
       "<style scoped>\n",
       "    .dataframe tbody tr th:only-of-type {\n",
       "        vertical-align: middle;\n",
       "    }\n",
       "\n",
       "    .dataframe tbody tr th {\n",
       "        vertical-align: top;\n",
       "    }\n",
       "\n",
       "    .dataframe thead th {\n",
       "        text-align: right;\n",
       "    }\n",
       "</style>\n",
       "<table border=\"1\" class=\"dataframe\">\n",
       "  <thead>\n",
       "    <tr style=\"text-align: right;\">\n",
       "      <th></th>\n",
       "      <th>id</th>\n",
       "      <th>brand</th>\n",
       "      <th>categories</th>\n",
       "      <th>...</th>\n",
       "      <th>prices.currency</th>\n",
       "      <th>prices.merchant</th>\n",
       "      <th>sizes</th>\n",
       "    </tr>\n",
       "  </thead>\n",
       "  <tbody>\n",
       "    <tr>\n",
       "      <th>94</th>\n",
       "      <td>AVpfEsduLJeJML431ywi</td>\n",
       "      <td>Nike</td>\n",
       "      <td>Women's Athletic Shoes,Shoes,Clothing,Women's ...</td>\n",
       "      <td>...</td>\n",
       "      <td>USD</td>\n",
       "      <td>New York Deals - Walmart.com</td>\n",
       "      <td>10,8.5,7,7.5,9,8</td>\n",
       "    </tr>\n",
       "    <tr>\n",
       "      <th>134</th>\n",
       "      <td>AVpe8h0DilAPnD_xRe3b</td>\n",
       "      <td>Nike</td>\n",
       "      <td>Clothing, Shoes &amp; Accessories,Athletic Apparel...</td>\n",
       "      <td>...</td>\n",
       "      <td>USD</td>\n",
       "      <td>NaN</td>\n",
       "      <td>NaN</td>\n",
       "    </tr>\n",
       "    <tr>\n",
       "      <th>456</th>\n",
       "      <td>AVpfDQMgilAPnD_xT2c0</td>\n",
       "      <td>Nike</td>\n",
       "      <td>Shoes,Clothing,Women's Shoes,All Women's Shoes</td>\n",
       "      <td>...</td>\n",
       "      <td>USD</td>\n",
       "      <td>ApparelSave - Walmart.com</td>\n",
       "      <td>10,8.5,7,9.5,7.5,9,8,11</td>\n",
       "    </tr>\n",
       "    <tr>\n",
       "      <th>477</th>\n",
       "      <td>AVpfDr__ilAPnD_xUAJK</td>\n",
       "      <td>Nike</td>\n",
       "      <td>Running Shoes,Women's Running Shoes,Running Ge...</td>\n",
       "      <td>...</td>\n",
       "      <td>USD</td>\n",
       "      <td>NaN</td>\n",
       "      <td>NaN</td>\n",
       "    </tr>\n",
       "    <tr>\n",
       "      <th>838</th>\n",
       "      <td>AVpe_3d11cnluZ0-boUh</td>\n",
       "      <td>Nike</td>\n",
       "      <td>Running Shoes,Women's Running Shoes,Running Ge...</td>\n",
       "      <td>...</td>\n",
       "      <td>USD</td>\n",
       "      <td>NaN</td>\n",
       "      <td>NaN</td>\n",
       "    </tr>\n",
       "    <tr>\n",
       "      <th>...</th>\n",
       "      <td>...</td>\n",
       "      <td>...</td>\n",
       "      <td>...</td>\n",
       "      <td>...</td>\n",
       "      <td>...</td>\n",
       "      <td>...</td>\n",
       "      <td>...</td>\n",
       "    </tr>\n",
       "    <tr>\n",
       "      <th>18064</th>\n",
       "      <td>AVpfKjr6LJeJML433xMp</td>\n",
       "      <td>Nike</td>\n",
       "      <td>Running Shoes,Athletic &amp; Running Shoes,Women's...</td>\n",
       "      <td>...</td>\n",
       "      <td>USD</td>\n",
       "      <td>NaN</td>\n",
       "      <td>NaN</td>\n",
       "    </tr>\n",
       "    <tr>\n",
       "      <th>18080</th>\n",
       "      <td>AVpfN_n_1cnluZ0-gbTv</td>\n",
       "      <td>Nike</td>\n",
       "      <td>Sporting Goods,Team Sports,Soccer,Clothing, Sh...</td>\n",
       "      <td>...</td>\n",
       "      <td>USD</td>\n",
       "      <td>NaN</td>\n",
       "      <td>NaN</td>\n",
       "    </tr>\n",
       "    <tr>\n",
       "      <th>18472</th>\n",
       "      <td>AVpfbdYyLJeJML439ES5</td>\n",
       "      <td>Nike</td>\n",
       "      <td>Clothing,Shoes,Women's Shoes,Women's Athletic ...</td>\n",
       "      <td>...</td>\n",
       "      <td>USD</td>\n",
       "      <td>Shoenerds - Walmart.com</td>\n",
       "      <td>10,6.5,7.5,8</td>\n",
       "    </tr>\n",
       "    <tr>\n",
       "      <th>18793</th>\n",
       "      <td>AVpfoQT1LJeJML43AyJ_</td>\n",
       "      <td>Nike</td>\n",
       "      <td>Women's Athletic Shoes,Shoes,Women's Shoes,Clo...</td>\n",
       "      <td>...</td>\n",
       "      <td>USD</td>\n",
       "      <td>shoezoo - Walmart.com</td>\n",
       "      <td>NaN</td>\n",
       "    </tr>\n",
       "    <tr>\n",
       "      <th>18830</th>\n",
       "      <td>AVpffLjH1cnluZ0-lmKh</td>\n",
       "      <td>Nike</td>\n",
       "      <td>Women's Athletic Shoes,Shoes,Women's Shoes,Clo...</td>\n",
       "      <td>...</td>\n",
       "      <td>USD</td>\n",
       "      <td>shoezoo - Walmart.com</td>\n",
       "      <td>NaN</td>\n",
       "    </tr>\n",
       "  </tbody>\n",
       "</table>\n",
       "<p>209 rows × 12 columns</p>\n",
       "</div>"
      ],
      "text/plain": [
       "                         id brand  \\\n",
       "94     AVpfEsduLJeJML431ywi  Nike   \n",
       "134    AVpe8h0DilAPnD_xRe3b  Nike   \n",
       "456    AVpfDQMgilAPnD_xT2c0  Nike   \n",
       "477    AVpfDr__ilAPnD_xUAJK  Nike   \n",
       "838    AVpe_3d11cnluZ0-boUh  Nike   \n",
       "...                     ...   ...   \n",
       "18064  AVpfKjr6LJeJML433xMp  Nike   \n",
       "18080  AVpfN_n_1cnluZ0-gbTv  Nike   \n",
       "18472  AVpfbdYyLJeJML439ES5  Nike   \n",
       "18793  AVpfoQT1LJeJML43AyJ_  Nike   \n",
       "18830  AVpffLjH1cnluZ0-lmKh  Nike   \n",
       "\n",
       "                                              categories  ... prices.currency  \\\n",
       "94     Women's Athletic Shoes,Shoes,Clothing,Women's ...  ...             USD   \n",
       "134    Clothing, Shoes & Accessories,Athletic Apparel...  ...             USD   \n",
       "456       Shoes,Clothing,Women's Shoes,All Women's Shoes  ...             USD   \n",
       "477    Running Shoes,Women's Running Shoes,Running Ge...  ...             USD   \n",
       "838    Running Shoes,Women's Running Shoes,Running Ge...  ...             USD   \n",
       "...                                                  ...  ...             ...   \n",
       "18064  Running Shoes,Athletic & Running Shoes,Women's...  ...             USD   \n",
       "18080  Sporting Goods,Team Sports,Soccer,Clothing, Sh...  ...             USD   \n",
       "18472  Clothing,Shoes,Women's Shoes,Women's Athletic ...  ...             USD   \n",
       "18793  Women's Athletic Shoes,Shoes,Women's Shoes,Clo...  ...             USD   \n",
       "18830  Women's Athletic Shoes,Shoes,Women's Shoes,Clo...  ...             USD   \n",
       "\n",
       "                    prices.merchant                    sizes  \n",
       "94     New York Deals - Walmart.com         10,8.5,7,7.5,9,8  \n",
       "134                             NaN                      NaN  \n",
       "456       ApparelSave - Walmart.com  10,8.5,7,9.5,7.5,9,8,11  \n",
       "477                             NaN                      NaN  \n",
       "838                             NaN                      NaN  \n",
       "...                             ...                      ...  \n",
       "18064                           NaN                      NaN  \n",
       "18080                           NaN                      NaN  \n",
       "18472       Shoenerds - Walmart.com             10,6.5,7.5,8  \n",
       "18793         shoezoo - Walmart.com                      NaN  \n",
       "18830         shoezoo - Walmart.com                      NaN  \n",
       "\n",
       "[209 rows x 12 columns]"
      ]
     },
     "execution_count": 9,
     "metadata": {},
     "output_type": "execute_result"
    }
   ],
   "source": []
  },
  {
   "cell_type": "markdown",
   "id": "1cfc96e4",
   "metadata": {},
   "source": [
    "# ANALYSIS"
   ]
  },
  {
   "cell_type": "markdown",
   "id": "0fe3db9e",
   "metadata": {},
   "source": [
    "## Niche"
   ]
  },
  {
   "cell_type": "code",
   "execution_count": 8,
   "id": "79670df2",
   "metadata": {},
   "outputs": [
    {
     "name": "stdout",
     "output_type": "stream",
     "text": [
      "[{\"dateSeen\":[\"2016-11-11T09:49:00Z\"],\"sourceURLs\":[\"https://www.walmart.com/ip/Zoot-TT-TRAINER-2.0-Women-US-9-Blue-Sneakers/51270891\"],\"value\":\"Important Made in USA Origin Disclaimer: For certain items sold by Walmart on Walmart.com, the displayed country of origin information may not be accurate or consistent with manufacturer information. For updated, accurate country of origin data, it is recommended that you rely on product packaging or manufacturer information. Brand & Style - Zoot TT Trainer 2.0 Width - Medium (B, M) True Color - Green Flash/Atomic Blue/Safety Yellow Outsole Material - Man-Made Heel Height - 1 Inches Brand & Style - Zoot TT Trainer 2.0 Width - Medium (B, M) True Color - Green Flash/Atomic Blue/Safety Yellow Outsole Material - Man-Made Heel Height - 1 Inches Find high-quality Zoot shoes with great prices at our store. We carry the very best shoes, boots, and sandals ranging from dress to casual to athletic while offering fast shipping to almost anywhere in the world. Included in our selection are the excellent Zoot shoes. These feature the ideal combination of style, comfort, and lasting wear available anywhere. You can depend on us for exceptional footwear. ps6276112\"}]\n",
      "\n",
      "{'dateSeen': ['2016-11-11T09:49:00Z'], 'sourceURLs': ['https://www.walmart.com/ip/Zoot-TT-TRAINER-2.0-Women-US-9-Blue-Sneakers/51270891'], 'value': 'Important Made in USA Origin Disclaimer: For certain items sold by Walmart on Walmart.com, the displayed country of origin information may not be accurate or consistent with manufacturer information. For updated, accurate country of origin data, it is recommended that you rely on product packaging or manufacturer information. Brand & Style - Zoot TT Trainer 2.0 Width - Medium (B, M) True Color - Green Flash/Atomic Blue/Safety Yellow Outsole Material - Man-Made Heel Height - 1 Inches Brand & Style - Zoot TT Trainer 2.0 Width - Medium (B, M) True Color - Green Flash/Atomic Blue/Safety Yellow Outsole Material - Man-Made Heel Height - 1 Inches Find high-quality Zoot shoes with great prices at our store. We carry the very best shoes, boots, and sandals ranging from dress to casual to athletic while offering fast shipping to almost anywhere in the world. Included in our selection are the excellent Zoot shoes. These feature the ideal combination of style, comfort, and lasting wear available anywhere. You can depend on us for exceptional footwear. ps6276112'}\n",
      "\n",
      "{'sneaker': 300, 'boot': 1129, 'heel': 745, 'sandal': 1132, 'running': 131}\n"
     ]
    }
   ],
   "source": [
    "import json\n",
    "\n",
    "index = 0\n",
    "\n",
    "# example of women shoe description\n",
    "print(df[\"descriptions\"].dropna().unique()[index])\n",
    "\n",
    "print(\"\")\n",
    "\n",
    "# convert dirty data into json format for simplier processing\n",
    "print(json.loads(df[\"descriptions\"].dropna().unique()[index])[0])\n",
    "\n",
    "print(\"\")\n",
    "\n",
    "categories = {\n",
    "    \"sneaker\": 0, \n",
    "    \"boot\" : 0, \n",
    "    \"heel\" : 0,\n",
    "    \"sandal\" : 0,\n",
    "    \"running\": 0,\n",
    "}\n",
    "\n",
    "# identify shoe categories using their URL\n",
    "for i in range(10000):\n",
    "    try:\n",
    "        URL = json.loads(df[\"descriptions\"].dropna().unique()[i])[0][\"sourceURLs\"][0].lower()\n",
    "        for cat in categories.keys():\n",
    "            if cat in URL:\n",
    "                categories[cat] += 1\n",
    "    except:\n",
    "        pass\n",
    "    \n",
    "print(categories)"
   ]
  },
  {
   "cell_type": "code",
   "execution_count": 21,
   "id": "4a03db5b",
   "metadata": {},
   "outputs": [
    {
     "data": {
      "text/plain": [
       "<BarContainer object of 5 artists>"
      ]
     },
     "execution_count": 21,
     "metadata": {},
     "output_type": "execute_result"
    },
    {
     "data": {
      "image/png": "[encoded data removed]",
      "text/plain": [
       "<Figure size 432x288 with 1 Axes>"
      ]
     },
     "metadata": {
      "needs_background": "light"
     },
     "output_type": "display_data"
    }
   ],
   "source": [
    "plt.bar(categories.keys(), categories.values())"
   ]
  },
  {
   "cell_type": "markdown",
   "id": "a593bca5",
   "metadata": {},
   "source": [
    "## Specific Analysis (Nike)"
   ]
  },
  {
   "cell_type": "code",
   "execution_count": 11,
   "id": "cf09ee0a",
   "metadata": {},
   "outputs": [
    {
     "data": {
      "text/plain": [
       "94          88\n",
       "134        9.5\n",
       "456        150\n",
       "477         75\n",
       "838         70\n",
       "         ...  \n",
       "18064    79.98\n",
       "18080    23.99\n",
       "18472       75\n",
       "18793    62.05\n",
       "18830    51.52\n",
       "Name: prices.amountMax, Length: 209, dtype: object"
      ]
     },
     "execution_count": 11,
     "metadata": {},
     "output_type": "execute_result"
    }
   ],
   "source": [
    "nike_df = df.query('brand.str.lower() == \"nike\"')\n",
    "nike_df[\"prices.amountMax\"]"
   ]
  },
  {
   "cell_type": "code",
   "execution_count": 13,
   "id": "77a053fb",
   "metadata": {},
   "outputs": [],
   "source": [
    "npl = []\n",
    "\n",
    "for item in nike_df[\"prices.amountMax\"]:\n",
    "    npl.append(float(item))\n",
    "\n",
    "npl = sorted(npl)"
   ]
  },
  {
   "cell_type": "code",
   "execution_count": 15,
   "id": "5ced4feb",
   "metadata": {},
   "outputs": [
    {
     "data": {
      "image/png": "[encoded data removed]",
      "text/plain": [
       "<Figure size 432x288 with 1 Axes>"
      ]
     },
     "metadata": {
      "needs_background": "light"
     },
     "output_type": "display_data"
    }
   ],
   "source": [
    "plt.scatter(range(len(npl)), npl)\n",
    "plt.show()"
   ]
  },
  {
   "cell_type": "code",
   "execution_count": 16,
   "id": "f5ed6015",
   "metadata": {},
   "outputs": [
    {
     "data": {
      "text/plain": [
       "(array([ 4.,  6., 11., 12., 17., 19., 28., 21., 17., 11., 13., 11., 14.,\n",
       "         5.,  8.,  4.,  0.,  2.,  0.,  2.,  0.,  1.,  1.,  0.,  1.,  0.,\n",
       "         0.,  0.,  0.,  0.,  0.,  0.,  0.,  0.,  0.,  0.,  0.,  0.,  0.,\n",
       "         1.]),\n",
       " array([  9.5    ,  19.26225,  29.0245 ,  38.78675,  48.549  ,  58.31125,\n",
       "         68.0735 ,  77.83575,  87.598  ,  97.36025, 107.1225 , 116.88475,\n",
       "        126.647  , 136.40925, 146.1715 , 155.93375, 165.696  , 175.45825,\n",
       "        185.2205 , 194.98275, 204.745  , 214.50725, 224.2695 , 234.03175,\n",
       "        243.794  , 253.55625, 263.3185 , 273.08075, 282.843  , 292.60525,\n",
       "        302.3675 , 312.12975, 321.892  , 331.65425, 341.4165 , 351.17875,\n",
       "        360.941  , 370.70325, 380.4655 , 390.22775, 399.99   ]),\n",
       " <BarContainer object of 40 artists>)"
      ]
     },
     "execution_count": 16,
     "metadata": {},
     "output_type": "execute_result"
    },
    {
     "data": {
      "image/png": "[encoded data removed]",
      "text/plain": [
       "<Figure size 432x288 with 1 Axes>"
      ]
     },
     "metadata": {
      "needs_background": "light"
     },
     "output_type": "display_data"
    }
   ],
   "source": [
    "plt.hist(npl, bins=40)"
   ]
  },
  {
   "cell_type": "code",
   "execution_count": 17,
   "id": "4880a3ca",
   "metadata": {},
   "outputs": [
    {
     "data": {
      "text/plain": [
       "{'whiskers': [<matplotlib.lines.Line2D at 0x1839cd37250>,\n",
       "  <matplotlib.lines.Line2D at 0x1839cd375b0>],\n",
       " 'caps': [<matplotlib.lines.Line2D at 0x1839cd37910>,\n",
       "  <matplotlib.lines.Line2D at 0x1839cd37c70>],\n",
       " 'boxes': [<matplotlib.lines.Line2D at 0x1839cd28eb0>],\n",
       " 'medians': [<matplotlib.lines.Line2D at 0x1839cd37fd0>],\n",
       " 'fliers': [<matplotlib.lines.Line2D at 0x1839cd433a0>],\n",
       " 'means': []}"
      ]
     },
     "execution_count": 17,
     "metadata": {},
     "output_type": "execute_result"
    },
    {
     "data": {
      "image/png": "[encoded data removed]",
      "text/plain": [
       "<Figure size 432x288 with 1 Axes>"
      ]
     },
     "metadata": {
      "needs_background": "light"
     },
     "output_type": "display_data"
    }
   ],
   "source": [
    "plt.boxplot(npl)"
   ]
  }
 ],
 "metadata": {
  "kernelspec": {
   "display_name": "Python 3",
   "language": "python",
   "name": "python3"
  },
  "language_info": {
   "codemirror_mode": {
    "name": "ipython",
    "version": 3
   },
   "file_extension": ".py",
   "mimetype": "text/x-python",
   "name": "python",
   "nbconvert_exporter": "python",
   "pygments_lexer": "ipython3",
   "version": "3.8.8"
  }
 },
 "nbformat": 4,
 "nbformat_minor": 5
}
