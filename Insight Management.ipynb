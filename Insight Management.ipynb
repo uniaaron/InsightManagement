{
 "cells": [
  {
   "cell_type": "code",
   "execution_count": 144,
   "id": "fb907263",
   "metadata": {},
   "outputs": [
    {
     "name": "stdout",
     "output_type": "stream",
     "text": [
      "Requirement already satisfied: pandasql in c:\\users\\benhamaaron\\anaconda3\\lib\\site-packages (0.7.3)\n",
      "Requirement already satisfied: pandas in c:\\users\\benhamaaron\\anaconda3\\lib\\site-packages (from pandasql) (1.2.4)\n",
      "Requirement already satisfied: numpy in c:\\users\\benhamaaron\\anaconda3\\lib\\site-packages (from pandasql) (1.22.4)\n",
      "Requirement already satisfied: sqlalchemy in c:\\users\\benhamaaron\\anaconda3\\lib\\site-packages (from pandasql) (1.4.7)\n",
      "Requirement already satisfied: pytz>=2017.3 in c:\\users\\benhamaaron\\anaconda3\\lib\\site-packages (from pandas->pandasql) (2021.1)\n",
      "Requirement already satisfied: python-dateutil>=2.7.3 in c:\\users\\benhamaaron\\anaconda3\\lib\\site-packages (from pandas->pandasql) (2.8.1)\n",
      "Requirement already satisfied: six>=1.5 in c:\\users\\benhamaaron\\anaconda3\\lib\\site-packages (from python-dateutil>=2.7.3->pandas->pandasql) (1.15.0)\n",
      "Requirement already satisfied: greenlet!=0.4.17 in c:\\users\\benhamaaron\\anaconda3\\lib\\site-packages (from sqlalchemy->pandasql) (1.0.0)\n"
     ]
    }
   ],
   "source": [
    "!pip install pandasql"
   ]
  },
  {
   "cell_type": "code",
   "execution_count": 145,
   "id": "50035fcd",
   "metadata": {},
   "outputs": [],
   "source": [
    "import pandas as pd\n",
    "import pandasql as sqldf\n",
    "import numpy as np\n",
    "import matplotlib.pyplot as plt"
   ]
  },
  {
   "cell_type": "code",
   "execution_count": 2,
   "id": "682f7712",
   "metadata": {},
   "outputs": [
    {
     "name": "stderr",
     "output_type": "stream",
     "text": [
      "C:\\Users\\BenhamAaron\\anaconda3\\lib\\site-packages\\IPython\\core\\interactiveshell.py:3165: DtypeWarning: Columns (25,36,39,44) have mixed types.Specify dtype option on import or set low_memory=False.\n",
      "  has_raised = await self.run_ast_nodes(code_ast.body, cell_name,\n"
     ]
    },
    {
     "data": {
      "text/html": [
       "<div>\n",
       "<style scoped>\n",
       "    .dataframe tbody tr th:only-of-type {\n",
       "        vertical-align: middle;\n",
       "    }\n",
       "\n",
       "    .dataframe tbody tr th {\n",
       "        vertical-align: top;\n",
       "    }\n",
       "\n",
       "    .dataframe thead th {\n",
       "        text-align: right;\n",
       "    }\n",
       "</style>\n",
       "<table border=\"1\" class=\"dataframe\">\n",
       "  <thead>\n",
       "    <tr style=\"text-align: right;\">\n",
       "      <th></th>\n",
       "      <th>id</th>\n",
       "      <th>asins</th>\n",
       "      <th>brand</th>\n",
       "      <th>...</th>\n",
       "      <th>upc</th>\n",
       "      <th>websiteIDs</th>\n",
       "      <th>weight</th>\n",
       "    </tr>\n",
       "  </thead>\n",
       "  <tbody>\n",
       "    <tr>\n",
       "      <th>0</th>\n",
       "      <td>AVpfBXx21cnluZ0-cKxs</td>\n",
       "      <td>NaN</td>\n",
       "      <td>Zoot</td>\n",
       "      <td>...</td>\n",
       "      <td>NaN</td>\n",
       "      <td>NaN</td>\n",
       "      <td>NaN</td>\n",
       "    </tr>\n",
       "    <tr>\n",
       "      <th>1</th>\n",
       "      <td>AVpfBXx21cnluZ0-cKxs</td>\n",
       "      <td>NaN</td>\n",
       "      <td>Zoot</td>\n",
       "      <td>...</td>\n",
       "      <td>NaN</td>\n",
       "      <td>NaN</td>\n",
       "      <td>NaN</td>\n",
       "    </tr>\n",
       "    <tr>\n",
       "      <th>2</th>\n",
       "      <td>AVpfBXx21cnluZ0-cKxs</td>\n",
       "      <td>NaN</td>\n",
       "      <td>Zoot</td>\n",
       "      <td>...</td>\n",
       "      <td>NaN</td>\n",
       "      <td>NaN</td>\n",
       "      <td>NaN</td>\n",
       "    </tr>\n",
       "    <tr>\n",
       "      <th>3</th>\n",
       "      <td>AVpfBXx21cnluZ0-cKxs</td>\n",
       "      <td>NaN</td>\n",
       "      <td>Zoot</td>\n",
       "      <td>...</td>\n",
       "      <td>NaN</td>\n",
       "      <td>NaN</td>\n",
       "      <td>NaN</td>\n",
       "    </tr>\n",
       "    <tr>\n",
       "      <th>4</th>\n",
       "      <td>AVpfEqFRLJeJML431x7w</td>\n",
       "      <td>NaN</td>\n",
       "      <td>Wild Pair</td>\n",
       "      <td>...</td>\n",
       "      <td>7.63181E+11</td>\n",
       "      <td>NaN</td>\n",
       "      <td>NaN</td>\n",
       "    </tr>\n",
       "  </tbody>\n",
       "</table>\n",
       "<p>5 rows × 47 columns</p>\n",
       "</div>"
      ],
      "text/plain": [
       "                     id asins      brand  ...          upc websiteIDs  weight\n",
       "0  AVpfBXx21cnluZ0-cKxs   NaN       Zoot  ...          NaN        NaN     NaN\n",
       "1  AVpfBXx21cnluZ0-cKxs   NaN       Zoot  ...          NaN        NaN     NaN\n",
       "2  AVpfBXx21cnluZ0-cKxs   NaN       Zoot  ...          NaN        NaN     NaN\n",
       "3  AVpfBXx21cnluZ0-cKxs   NaN       Zoot  ...          NaN        NaN     NaN\n",
       "4  AVpfEqFRLJeJML431x7w   NaN  Wild Pair  ...  7.63181E+11        NaN     NaN\n",
       "\n",
       "[5 rows x 47 columns]"
      ]
     },
     "execution_count": 2,
     "metadata": {},
     "output_type": "execute_result"
    }
   ],
   "source": [
    "df = pd.read_csv(\"7003_1.csv\")\n",
    "pd.set_option('display.max_columns', 7)\n",
    "pd.set_option('display.max_rows', 10)\n",
    "df.head()"
   ]
  },
  {
   "cell_type": "markdown",
   "id": "216f5ff2",
   "metadata": {},
   "source": [
    "# CLEANING"
   ]
  },
  {
   "cell_type": "code",
   "execution_count": 226,
   "id": "53c2b920",
   "metadata": {
    "scrolled": false
   },
   "outputs": [
    {
     "data": {
      "text/html": [
       "<div>\n",
       "<style scoped>\n",
       "    .dataframe tbody tr th:only-of-type {\n",
       "        vertical-align: middle;\n",
       "    }\n",
       "\n",
       "    .dataframe tbody tr th {\n",
       "        vertical-align: top;\n",
       "    }\n",
       "\n",
       "    .dataframe thead th {\n",
       "        text-align: right;\n",
       "    }\n",
       "</style>\n",
       "<table border=\"1\" class=\"dataframe\">\n",
       "  <thead>\n",
       "    <tr style=\"text-align: right;\">\n",
       "      <th></th>\n",
       "      <th>id</th>\n",
       "      <th>brand</th>\n",
       "      <th>categories</th>\n",
       "      <th>...</th>\n",
       "      <th>prices.currency</th>\n",
       "      <th>prices.merchant</th>\n",
       "      <th>sizes</th>\n",
       "    </tr>\n",
       "  </thead>\n",
       "  <tbody>\n",
       "    <tr>\n",
       "      <th>0</th>\n",
       "      <td>AVpfBXx21cnluZ0-cKxs</td>\n",
       "      <td>Zoot</td>\n",
       "      <td>Shoes,Clothing,Women's Shoes,All Women's Shoes</td>\n",
       "      <td>...</td>\n",
       "      <td>USD</td>\n",
       "      <td>NaN</td>\n",
       "      <td>10,9</td>\n",
       "    </tr>\n",
       "    <tr>\n",
       "      <th>4</th>\n",
       "      <td>AVpfEqFRLJeJML431x7w</td>\n",
       "      <td>Wild Pair</td>\n",
       "      <td>Shoes,Women's Shoes,Clothing,All Women's Shoes</td>\n",
       "      <td>...</td>\n",
       "      <td>USD</td>\n",
       "      <td>NaN</td>\n",
       "      <td>8.5,7,7.5,8</td>\n",
       "    </tr>\n",
       "    <tr>\n",
       "      <th>7</th>\n",
       "      <td>AVpfFCfi1cnluZ0-dcCZ</td>\n",
       "      <td>Sutton Studio</td>\n",
       "      <td>Women's Suits &amp; Sets,Women's Clothing,All Wome...</td>\n",
       "      <td>...</td>\n",
       "      <td>USD</td>\n",
       "      <td>Sears.com</td>\n",
       "      <td>8</td>\n",
       "    </tr>\n",
       "    <tr>\n",
       "      <th>9</th>\n",
       "      <td>AVpfBZCAilAPnD_xTN_K</td>\n",
       "      <td>LaLeela.com</td>\n",
       "      <td>Women's Clothing,All Women's Clothing,Clothing...</td>\n",
       "      <td>...</td>\n",
       "      <td>USD</td>\n",
       "      <td>La Leela</td>\n",
       "      <td>NaN</td>\n",
       "    </tr>\n",
       "    <tr>\n",
       "      <th>11</th>\n",
       "      <td>AVpfHscY1cnluZ0-eVb6</td>\n",
       "      <td>Reebok</td>\n",
       "      <td>Shoes,Clothing,Women's Shoes,All Women's Shoes...</td>\n",
       "      <td>...</td>\n",
       "      <td>USD</td>\n",
       "      <td>ApparelSave - Walmart.com</td>\n",
       "      <td>5.5M,6.5M,7M,7.5M,8.5M,6M,11M,9M,10M,8M,9.5M,5...</td>\n",
       "    </tr>\n",
       "  </tbody>\n",
       "</table>\n",
       "<p>5 rows × 12 columns</p>\n",
       "</div>"
      ],
      "text/plain": [
       "                      id          brand  \\\n",
       "0   AVpfBXx21cnluZ0-cKxs           Zoot   \n",
       "4   AVpfEqFRLJeJML431x7w      Wild Pair   \n",
       "7   AVpfFCfi1cnluZ0-dcCZ  Sutton Studio   \n",
       "9   AVpfBZCAilAPnD_xTN_K    LaLeela.com   \n",
       "11  AVpfHscY1cnluZ0-eVb6         Reebok   \n",
       "\n",
       "                                           categories  ... prices.currency  \\\n",
       "0      Shoes,Clothing,Women's Shoes,All Women's Shoes  ...             USD   \n",
       "4      Shoes,Women's Shoes,Clothing,All Women's Shoes  ...             USD   \n",
       "7   Women's Suits & Sets,Women's Clothing,All Wome...  ...             USD   \n",
       "9   Women's Clothing,All Women's Clothing,Clothing...  ...             USD   \n",
       "11  Shoes,Clothing,Women's Shoes,All Women's Shoes...  ...             USD   \n",
       "\n",
       "              prices.merchant  \\\n",
       "0                         NaN   \n",
       "4                         NaN   \n",
       "7                   Sears.com   \n",
       "9                    La Leela   \n",
       "11  ApparelSave - Walmart.com   \n",
       "\n",
       "                                                sizes  \n",
       "0                                                10,9  \n",
       "4                                         8.5,7,7.5,8  \n",
       "7                                                   8  \n",
       "9                                                 NaN  \n",
       "11  5.5M,6.5M,7M,7.5M,8.5M,6M,11M,9M,10M,8M,9.5M,5...  \n",
       "\n",
       "[5 rows x 12 columns]"
      ]
     },
     "execution_count": 226,
     "metadata": {},
     "output_type": "execute_result"
    }
   ],
   "source": [
    "df = df[[\n",
    "    \"id\",\n",
    "    \"brand\",\n",
    "    \"categories\",\n",
    "    \"colors\",\n",
    "    \"descriptions\",\n",
    "    \"features\",\n",
    "    \"merchants\",\n",
    "    \"name\",\n",
    "    \"prices.amountMax\",\n",
    "    \"prices.currency\",\n",
    "    \"prices.merchant\",\n",
    "    \"sizes\",\n",
    "]]\n",
    "df.head()"
   ]
  },
  {
   "cell_type": "code",
   "execution_count": 4,
   "id": "9040120c",
   "metadata": {},
   "outputs": [
    {
     "data": {
      "text/html": [
       "<div>\n",
       "<style scoped>\n",
       "    .dataframe tbody tr th:only-of-type {\n",
       "        vertical-align: middle;\n",
       "    }\n",
       "\n",
       "    .dataframe tbody tr th {\n",
       "        vertical-align: top;\n",
       "    }\n",
       "\n",
       "    .dataframe thead th {\n",
       "        text-align: right;\n",
       "    }\n",
       "</style>\n",
       "<table border=\"1\" class=\"dataframe\">\n",
       "  <thead>\n",
       "    <tr style=\"text-align: right;\">\n",
       "      <th></th>\n",
       "      <th>id</th>\n",
       "      <th>brand</th>\n",
       "      <th>categories</th>\n",
       "      <th>...</th>\n",
       "      <th>prices.currency</th>\n",
       "      <th>prices.merchant</th>\n",
       "      <th>sizes</th>\n",
       "    </tr>\n",
       "  </thead>\n",
       "  <tbody>\n",
       "    <tr>\n",
       "      <th>0</th>\n",
       "      <td>AVpfBXx21cnluZ0-cKxs</td>\n",
       "      <td>Zoot</td>\n",
       "      <td>Shoes,Clothing,Women's Shoes,All Women's Shoes</td>\n",
       "      <td>...</td>\n",
       "      <td>USD</td>\n",
       "      <td>NaN</td>\n",
       "      <td>10,9</td>\n",
       "    </tr>\n",
       "    <tr>\n",
       "      <th>4</th>\n",
       "      <td>AVpfEqFRLJeJML431x7w</td>\n",
       "      <td>Wild Pair</td>\n",
       "      <td>Shoes,Women's Shoes,Clothing,All Women's Shoes</td>\n",
       "      <td>...</td>\n",
       "      <td>USD</td>\n",
       "      <td>NaN</td>\n",
       "      <td>8.5,7,7.5,8</td>\n",
       "    </tr>\n",
       "    <tr>\n",
       "      <th>7</th>\n",
       "      <td>AVpfFCfi1cnluZ0-dcCZ</td>\n",
       "      <td>Sutton Studio</td>\n",
       "      <td>Women's Suits &amp; Sets,Women's Clothing,All Wome...</td>\n",
       "      <td>...</td>\n",
       "      <td>USD</td>\n",
       "      <td>Sears.com</td>\n",
       "      <td>8</td>\n",
       "    </tr>\n",
       "    <tr>\n",
       "      <th>9</th>\n",
       "      <td>AVpfBZCAilAPnD_xTN_K</td>\n",
       "      <td>LaLeela.com</td>\n",
       "      <td>Women's Clothing,All Women's Clothing,Clothing...</td>\n",
       "      <td>...</td>\n",
       "      <td>USD</td>\n",
       "      <td>La Leela</td>\n",
       "      <td>NaN</td>\n",
       "    </tr>\n",
       "    <tr>\n",
       "      <th>11</th>\n",
       "      <td>AVpfHscY1cnluZ0-eVb6</td>\n",
       "      <td>Reebok</td>\n",
       "      <td>Shoes,Clothing,Women's Shoes,All Women's Shoes...</td>\n",
       "      <td>...</td>\n",
       "      <td>USD</td>\n",
       "      <td>ApparelSave - Walmart.com</td>\n",
       "      <td>5.5M,6.5M,7M,7.5M,8.5M,6M,11M,9M,10M,8M,9.5M,5...</td>\n",
       "    </tr>\n",
       "  </tbody>\n",
       "</table>\n",
       "<p>5 rows × 12 columns</p>\n",
       "</div>"
      ],
      "text/plain": [
       "                      id          brand  \\\n",
       "0   AVpfBXx21cnluZ0-cKxs           Zoot   \n",
       "4   AVpfEqFRLJeJML431x7w      Wild Pair   \n",
       "7   AVpfFCfi1cnluZ0-dcCZ  Sutton Studio   \n",
       "9   AVpfBZCAilAPnD_xTN_K    LaLeela.com   \n",
       "11  AVpfHscY1cnluZ0-eVb6         Reebok   \n",
       "\n",
       "                                           categories  ... prices.currency  \\\n",
       "0      Shoes,Clothing,Women's Shoes,All Women's Shoes  ...             USD   \n",
       "4      Shoes,Women's Shoes,Clothing,All Women's Shoes  ...             USD   \n",
       "7   Women's Suits & Sets,Women's Clothing,All Wome...  ...             USD   \n",
       "9   Women's Clothing,All Women's Clothing,Clothing...  ...             USD   \n",
       "11  Shoes,Clothing,Women's Shoes,All Women's Shoes...  ...             USD   \n",
       "\n",
       "              prices.merchant  \\\n",
       "0                         NaN   \n",
       "4                         NaN   \n",
       "7                   Sears.com   \n",
       "9                    La Leela   \n",
       "11  ApparelSave - Walmart.com   \n",
       "\n",
       "                                                sizes  \n",
       "0                                                10,9  \n",
       "4                                         8.5,7,7.5,8  \n",
       "7                                                   8  \n",
       "9                                                 NaN  \n",
       "11  5.5M,6.5M,7M,7.5M,8.5M,6M,11M,9M,10M,8M,9.5M,5...  \n",
       "\n",
       "[5 rows x 12 columns]"
      ]
     },
     "execution_count": 4,
     "metadata": {},
     "output_type": "execute_result"
    }
   ],
   "source": [
    "df = df.drop_duplicates(subset=[\"id\"])\n",
    "df.head()"
   ]
  },
  {
   "cell_type": "markdown",
   "id": "1cfc96e4",
   "metadata": {},
   "source": [
    "# ANALYSIS"
   ]
  },
  {
   "cell_type": "markdown",
   "id": "b8ff5f16",
   "metadata": {},
   "source": [
    "## Merchants"
   ]
  },
  {
   "cell_type": "code",
   "execution_count": 227,
   "id": "c83a519f",
   "metadata": {
    "collapsed": true
   },
   "outputs": [
    {
     "name": "stdout",
     "output_type": "stream",
     "text": [
      "{'walmart': 3961, 'ebay': 85, 'amazon': 389, 'sears': 854, 'unbeatablesale': 261, 'nan': 3125, 'la leela': 12, 'diligentbuy': 34, 'yutin jia': 155, 'undefined': 120, 'nilima online stores': 54, 'blancho bedding': 45, 'unique bargains': 61, 'fastmedia': 9, 'liquidators': 19, 'ami ventures inc': 31, 'overstock.com': 22, 'prosales': 42, 'wristwatch': 5, 'mirranme': 8, 'exotic express (haruna)': 5, 'closeout zone': 3, 'false': 3, 'neonblond jewelry & accessories': 3, 'bjc products, llc': 42, 'ergode': 20, \"lands' end\": 8, 'british orchard home fashions': 13, 'www.ralphlauren.com': 58, 'purchase pals': 23, 'fuse optics': 32, 'digituniform': 5, 'whimsical gifts': 1, 'outdoorequipped': 1, 'place stores': 15, 'usaetail': 9, 'arvaco': 2, 'humble brothers llc': 4, 'media mogul': 15, 'sgifashion': 9, 'bidlessnow': 35, 'finejewelryvault': 2, 'all glitters': 1, '2017-01-27t01:37:21z': 1, 'vistabella inc.': 4, 'gleader': 5, 'princetonwatches.com': 3, 'premier sports': 2, 'shablool jewelry design ltd': 7, 'onestopfanshop': 2, 'iptravelers': 4, 'fair top--ships from hongkong': 13, 'satin boutique store': 12, 'the primrose lane': 7, 'socksmax.com': 3, 'factory advantage llc': 11, 'true': 1, 'drhotdeal': 2, 'bigsales': 10, 'homedepot.com': 1, 'choosy shopper': 1, \"dj's market place\": 1, 'shuwish uk - ships from uk in 5 - 10 days': 8, 'new occidental': 22, 'itshot jewelry watches': 8, 'movaz trade': 5, 'stepani style': 2, 'bigsavingz': 2, 'kmart': 18, 'shoes.com': 16, 'savingshub': 1, 'sohogirl.com': 14, 'yu qian': 9, 'etailsuperstore': 19, 'dapper world inc.': 3, 'shore trendz': 4, 'ice gems': 1, 'shoemetro ca': 3, 'ipc store': 1, 'amoretu': 1, 'native-bay': 1, 'oh!dreamy': 27, 'opticsplanet.com': 2, 'sunglasses shop': 6, 'shoesbyclaire': 1, 'big red toolbox': 1, 'seek optics, inc': 8, 'zay outlet': 1, 'shopzeus': 1, 'sunglass hut': 2, 'amber direct': 1, 'cali chic': 1, 'salefolks': 4, 'vkwear': 1, 'shopfarmandcity.com': 4, 'shopbop | east dane': 1, 'vistabella': 3, 'gadgetsnmorestore': 1, 'the bejeweled egg': 1, 'nitro gadget': 3, 'fashion destination': 3, 'wayfair.com': 2, 'treasurehunter': 1, 'brookstone': 2, 'walk into fashion': 8, 'sockbin': 7, 'bellaochio': 1, 'haoseng': 6, 'jewelsobsession': 2, 'suntimez': 1, 'mocp': 2, 'luxury divas': 17, 'lulu collections': 14, 'harvey & haley': 2, 'seaofdiamonds.com': 5, '5th avenue fashion': 1, 'galactics canada': 1, 'zappos retail, inc.': 1, 'outdoor shopping': 1, 'stand up ranchers': 29, 'meoestore': 3, 'racketguys': 3, 'freakyweblinks': 1, 'bling jewelry': 1, 's.e.g': 2, 'dahlia': 1, 'sondoongmart.com': 3, 'jive24 - bags & accessoires': 1, 'inventory adjusters': 5, 'asogear': 2, 'est jewelry': 2, 'choku': 2, 'spectrumsuperstore': 2, 'ankko-ca': 1, 'lanbaosi��(us trademark)': 1, 'pinelawns': 5, 'ayyara': 1, 'urbaninspirations': 1, 'bare necessities': 1, 'watchgrabber': 1, 'less emf, inc.': 1, 'frenchchimp': 2, 'hypnotik': 1, '6pm, llc': 1, 'unieyewear': 1, 'lifeandhome.com - life and home': 1, 'pear-jiw': 2, 'kailee jewelry box': 1, 'the internet department store': 1, 'primetech components': 1, 'neobits.com': 1, 'fashionjewelryforeveryone.com': 1, 'top one international corp.': 6, 'tbr intel inc': 1, 'pds online ca': 1, 'shoebrandscanada': 1, 'the nayborhood': 1, 'sexy smart': 3, 'savvywatch.com': 1, 'pirineu international': 1, 'meimei shop': 3, 'nowells clothiers': 1, 'jewelplus': 1, 'alliancesupply.com': 1, 'justemily': 1, 'dreamway trading, llc': 1, \"marilyn & dean's fashion exchange\": 1, 'eshades': 1, 'perceptive eye': 1, 'shopitfashion': 1, 'the_fashion_hotel': 1, 'ashford.com': 1, 'diva trading': 4, \"what's hot\": 1, 'one super bargain': 1, 'bestpricecenter.com': 1, 'opticsfast inc': 2, 'j.ann fashion': 1, 'worldofwatches': 3, 'luxorgift': 1, 'drill spot': 1, 'weixinbuy': 1, 'clocks 4 less': 1, 'liangdong shop': 1, 'costumes4less': 38, 'timex': 1, 'everest ventures': 2, 'saleaxis': 1, 'eyesave': 1, 'pdctrading': 1, 'hoops & loops': 1, 'mogul interior': 1, 'edealszone llc': 2, 'dly supplies': 1, 'birthday & costume in a box': 1, 'mama knows best': 1, 'keep up life': 1, \"unique's shop\": 2, 'newegg': 1, 'jarrolds department store': 1, 'yesufashions.com': 1, 'fifty one': 1, 'bic warehouse - (includes all tax and duties)': 1, 'pin it on buttons': 1, 'framesdirect.com': 1, 'silverhooks.com': 1, 'artofdeals': 1, 'morrison outdoor power equipment llc.': 1, 'timepiece trading': 1, 'omni cheer': 1, 'zhongyuanhengjing': 1, 'online sports': 1, 'rialto deals': 1, 'veil entertainment': 1, 'crazy4tank': 1}\n"
     ]
    }
   ],
   "source": [
    "# df[\"prices.merchant\"]\n",
    "\n",
    "merchant_count = {\n",
    "    \"walmart\": 0,\n",
    "    \"ebay\": 0,\n",
    "    \"amazon\": 0,\n",
    "    \"sears\": 0,\n",
    "    \"unbeatablesale\": 0\n",
    "}\n",
    "\n",
    "for merchant in df[\"prices.merchant\"]:\n",
    "    try:\n",
    "        merchant = merchant.lower()\n",
    "    except:\n",
    "        if str(merchant) == \"nan\":\n",
    "            merchant = str(merchant)\n",
    "        \n",
    "    found = False\n",
    "    \n",
    "    for mer in merchant_count.keys():\n",
    "        if mer in merchant:\n",
    "            merchant_count[mer] += 1\n",
    "            found = True\n",
    "    \n",
    "    if not found:\n",
    "        merchant_count[merchant] = merchant_count.get(merchant, 0) + 1\n",
    "    \n",
    "\n",
    "print(merchant_count)"
   ]
  },
  {
   "cell_type": "code",
   "execution_count": 228,
   "id": "f47890f5",
   "metadata": {},
   "outputs": [
    {
     "data": {
      "text/plain": [
       "<BarContainer object of 4 artists>"
      ]
     },
     "execution_count": 228,
     "metadata": {},
     "output_type": "execute_result"
    },
    {
     "data": {
      "image/png": "[encoded data removed]",
      "text/plain": [
       "<Figure size 432x288 with 1 Axes>"
      ]
     },
     "metadata": {
      "needs_background": "light"
     },
     "output_type": "display_data"
    }
   ],
   "source": [
    "dc = {k: v for k, v in merchant_count.items() if v > 200}\n",
    "dc.pop(\"nan\")\n",
    "dc = dict(sorted(dc.items(), key=lambda x:x[1]))\n",
    "\n",
    "col_labels = []\n",
    "for i in dc.keys():\n",
    "    col_labels.append(i)\n",
    "    \n",
    "plt.barh(col_labels, dc.values())"
   ]
  },
  {
   "cell_type": "markdown",
   "id": "57ccb118",
   "metadata": {},
   "source": [
    "## Colours"
   ]
  },
  {
   "cell_type": "code",
   "execution_count": 78,
   "id": "a60f41e8",
   "metadata": {
    "collapsed": true
   },
   "outputs": [
    {
     "name": "stdout",
     "output_type": "stream",
     "text": [
      "{'blue': 340, 'multicolor': 78, 'brown': 643, 'pink': 252, 'nan': 3867, 'pink ribbon': 1, 'beige': 419, 'black': 1811, 'red': 318, 'rinse': 4, 'gold': 190, 'flowers': 2, 'white': 455, 'green': 166, 'dolphin': 1, 'blkblk': 3, 'raspberryoyster': 1, 'multi-color': 159, 'greek  roman': 1, 'bay apache distressed': 1, 'olive': 22, 'orange': 82, 'burgundy': 34, 'taupe': 84, 'tan': 151, 'new saddle': 1, 'shiny copper': 1, 'white gold': 6, 'havana': 5, 'beiges': 5, 'luggage': 18, 'gree mul': 1, 'blue mul': 1, 'pink and white': 2, 'silver': 184, 'tpe tumbled pu': 2, 'dark brown': 31, 'red tumbled pu': 2, 'blue grey': 2, 'smokey taupe': 1, 'charcoal heather grey': 1, 'highlight': 1, 'light natural patent': 1, 'navy': 105, 'flat black': 1, 'natural': 86, 'nude pat': 2, 'red paris': 1, 'pewter': 26, 'white patent': 10, 'navy microsuede': 1, 'chestnut': 48, 'other': 22, 'auburn': 2, 'charcoal': 21, 'bittersweet grapefruit': 1, 'black canvas': 3, 'cognac': 45, 'ivory lace mesh': 2, 'ivory': 46, 'walnut': 3, 'multicolor ': 2, 'multi': 22, 'brunette': 1, 'off-white': 15, 'light natural leather': 4, 'clr': 11, 'b pink flowers': 1, 'h pink flowers': 1, 'red flowers': 1, 'wht flowers': 1, 'gray': 201, 'beigeroyal purple': 1, 'bk': 2, 'grey': 118, 'purple': 109, 'black velvet-pewter pu': 1, 'blk velvet-pewter pu': 1, 'brown velvet-bronze pu': 1, 'sport rust': 1, 'wood': 1, 'clear': 16, 'transparent': 3, 'fuchsia': 31, 'yellow': 118, 'navy stripe': 2, 'brownleopard': 1, 'blue aztec': 2, 'nude': 40, 'blue multi': 3, 'graphite': 5, 'cheetah suede': 1, 'coral': 24, 'silver iridescent': 2, 'blackred': 5, 'caviar': 2, 'dazzling blue': 2, 'beetroot purple': 2, 'graynavy': 1, 'blackhot pink': 2, 'navy shimmers': 1, 'navy weave': 1, 'burgundy shimmers': 1, 'navyaqua': 2, 'white shimmers': 1, 'black weave': 1, 'greymint': 1, 'olive shimmers': 1, 'neon blue': 2, 'neon green': 2, 'natural fiesta': 1, 'poppy multi': 1, 'coralgrey': 1, 'light denim': 3, 'yellow gold': 5, 'mint': 17, 'peach': 10, 'dark wash': 8, 'natural synthetic': 4, 'pink synthetic': 1, 'blackneopulse': 1, 'pinkblack': 1, 'yellowcerise pink': 1, 'turquoiseneon yellow': 1, 'neopulse pink': 1, 'coralgunmetal': 1, 'graphite camo': 1, 'blueyellow': 3, 'dark silver leather': 1, 'dark tan leather': 1, 'blue combo': 1, 'banana bread': 3, 'khaki': 36, 'multi-colored': 9, 'white-fluro yellow co': 2, 'bronze': 44, 'denim blue': 2, 'eclipse': 2, 'winter red': 2, 'as shown': 11, 'namu': 1, 'champagne': 14, 'golden glow': 1, 'moonlight': 4, 'bomberbomber': 1, 'black multi fabric': 2, 'turquoise': 15, 'floral': 3, 'blackpretobronze': 2, 'pnkpnk': 1, 'bordeaux': 4, 'brindle': 6, 'chipmunk': 2, 'nutmeg': 1, 'storm': 2, 'nude smooth': 2, 'dark beige': 3, 'light suntan': 1, 'espresso': 7, 'cream': 16, 'cuoio': 1, 'obsidian black': 2, 'sandstorm brown': 4, 'forest green': 2, 'navy blue': 6, 'natural snake': 8, 'light pink': 9, 'chocolate owl': 2, 'from tag crckry': 1, 'lime': 3, 'l': 2, 'taup': 1, 'm': 2, 'fb': 1, 'chocolate': 35, 'dolphinblue': 1, 'fuschia': 6, 'black patent': 14, 'snake print': 1, 'fiery red patent': 1, 'maple sugar parent': 1, 'bone sport suede': 1, 'rl gold': 4, 'oversized': 1, 'limestonesilverfluro pink': 1, 'sand': 14, 'buckskin': 3, 'gunmetal': 6, 'light blue': 18, 'tortoise smu': 1, 'noisette': 1, 'blackleopard print': 1, 'nude patent': 6, 'cabbage': 1, 'bpink gltrclr': 1, 'gold gltrclr': 1, 'slv gltrclr': 1, 'dark tortoise': 2, 'grey  pink': 3, 'white  yellow': 2, 'cheetah': 6, 'print': 3, 'turqoise': 3, 'tanbeige': 2, 'dark blue': 5, 'hickory': 21, 'dog face': 1, 'sky high giraffe': 1, 'astronaut cat': 1, 'alpaca couples': 1, 'cat  iceberg': 1, 'high giraffe': 1, 'squirrel  icecream': 1, 'space cat': 1, 'cat': 1, 'dog': 1, 'plaid': 1, 'toast': 1, 'stadium': 1, 'clear and black': 8, 'clear and clear': 15, 'blush': 6, 'snake': 2, 'bronze snake leather': 1, 'irid rs': 1, 'red patent': 6, 'brown sugar': 3, 'greens': 5, 'citron': 2, 'lead': 1, 'aqua': 6, 'pnk': 1, 'black microfiber': 3, 'patent': 5, 'black printed fabric': 1, 'navy microfiber': 1, 'denim': 5, 'ivoryblack': 1, 'black dot': 1, 'coffee': 6, 'green dot': 1, 'grid': 2, 'hot pink': 13, 'red dot': 1, 'sorrento': 1, 'marsala': 3, 'gold sequinsgold chrome': 1, 'black pu': 20, 'tan pu': 6, 'denim leather': 1, 'steel leather': 1, 'hologram': 1, 'golden wheatcreambarkgum thermabuck': 1, 'sunlight': 1, 'blackberry': 1, 'blacklime': 1, 'camouflage': 2, 'berryblack': 1, 'medium wash': 10, 'hickory ii': 4, 'medium brown': 11, 'black dollars': 1, 'dusty': 1, 'black burlap': 1, 'black synthetic suede': 2, 'cognac synthetic suede': 2, 'doe synthetic suede': 2, 'hodgepodge': 1, 'shiny tnf black': 1, 'smoked pearl grey': 2, 'bomberbomber leather': 1, 'vino': 2, 'blackdark greypure platinum': 1, 'black croco': 1, 'blacknatural': 3, 'ink exotic': 1, 'rum raisin': 1, 'crackle black': 2, 'chinchilla': 1, 'camo wool': 1, 'dark tan': 3, 'blue wing teal': 2, 'navymulti': 2, 'purple  cockatoo': 1, 'lapis': 1, 'neon magenta': 1, 'blue glitter': 5, 'green glitter': 5, 'bone': 18, 'blackwhite': 26, 'black snake': 4, 'bone snake': 1, 'navywhite': 6, 'stone': 10, 'indigo': 10, 'coffee tooled': 1, 'sangria flower patent': 1, 'black flower tooled': 1, 'camel': 31, 'almond': 23, 'buttero sattle': 1, 'sage green': 1, 'royal blue': 6, 'midnight blue': 1, 'blue crush': 1, 'baby pink': 1, 'white ivory': 1, 'whiskey': 3, 'blackwhite matte': 1, 'geraniumlimeorange': 1, 'navygeraniumturquoise': 1, 'mahogany smooth': 2, 'tigerberry': 2, 'gloss black': 1, 'geraniumteam redmetallic silver': 1, 'dpkdpk su': 1, 'light gold': 9, 'copcop le': 1, 'tautau': 1, 'medium blue': 2, 'tau': 1, 'deep bordeauxwhiteblack': 1, 'black with black': 2, 'tan with tan': 1, 'navy with navy': 1, 'navy with white': 1, 'light tan pink': 1, 'tutu pink': 2, 'light natural': 11, 'burl': 1, 'men - gray': 1, 'women - blue': 1, 'crimson': 2, 'blackhot fuchsia': 1, 'bn': 1, 'bc': 1, 'blk': 18, 'neon yellow patyellow': 1, 'standard': 4, 'browns': 8, 'dark natural': 5, 'greyorange': 2, 'atlantic': 1, 'native ombre blue': 1, 'native': 1, 'pale gold': 1, 'candy coral': 1, 'le': 1, 'blackpatent': 3, 'leather': 1, 'whiteyellowpurple': 1, 'beige snake': 3, 'andorra suede': 1, 'cork': 5, 'flax': 2, 'black  black': 1, 'orange - hotcoraltrwht': 1, 'bone leather': 2, 'cognac leather': 2, 'light purple': 2, 'pumpkin': 1, 'olive pu': 1, 'wheat': 7, 'avio rubber': 1, 'crystal rubber': 1, 'taupe fabric': 1, 'white floral': 3, 'brownblue': 1, 'one size': 1, 'maple sugar r': 1, 'tan green': 1, 'two-tone': 2, 'light sage': 1, 'fog': 2, 'glacier gray': 1, 'orange rust': 1, 'black crocodile pat': 1, 'xl': 2, 's': 2, 'black fuchsia': 1, ' us': 2, 'black co': 1, 'natural fabric': 2, 'blacks': 19, 'stretch': 3, 'sage': 4, 'champagne glitter fabric': 1, 'red fabric': 2, 'mink fabric': 1, 'black fabric': 3, 'fossil': 1, 'baby pink pat': 1, 'cream pat': 2, 'cream pu': 3, 'navy blue pat': 1, 'red pat': 3, 'wht pat': 2, 'bison': 2, 'royalblackwhite': 1, 'argentina': 2, 'australia': 2, 'balloons': 2, 'brazil': 2, 'canada redwhite': 1, 'chile': 2, 'clovers': 2, 'dice': 2, 'hearts': 2, 'heartsdiamondsspadesclubs': 2, 'mexico': 2, 'musical notes': 2, 'peace': 3, 'peacock': 1, 'poker chips': 2, 'platino': 4, 'rio navy': 1, 'large': 7, 'medium': 11, 'smallout of stock': 2, 'reds': 2, 'zinfandel': 2, 'chocolate brown': 2, 'bright cherryleadgreen flash': 1, 'blk str pu': 1, 'blk str pat': 2, 'black and pink': 1, 'cement': 4, 'santa sm': 1, 'blackmetallic silver': 2, 'metallic silvermatte silver': 1, 'matte blackneutral grey': 1, 'tortoise matte': 1, 'black - bktruwht': 1, 'brown ': 4, 'cinnamon': 3, 'grey - pewterblack': 1, 'medium natural': 5, 'bark': 2, 'light brown': 11, 'latte met': 1, 'natm': 1, 'oatmeal': 6, 'black suede': 19, 'leopard': 21, 'tangerine': 1, 'blackpurple': 3, 'spotted violet': 1, 'sapphire': 3, 'nude beige': 1, 'treeline green': 1, 'wine': 11, 'whitemetallic silverdark greyglacier': 1, 'opaline': 1, 'tomato': 1, 'black leather': 27, 'bronze leather': 2, 'natural snake leather': 1, 'purple leather': 1, 'raspberry snake leather': 1, 'teal snake leather': 1, 'tortoise leather': 1, 'white leather': 1, 'yam': 1, 'dusty green': 1, 'green sheen': 1, 'green sheenmineral': 1, 'fogblack': 1, 'dusty greenrubine red': 1, 'rubine red': 1, 'mineral': 1, 'yamfog': 1, 'dusty rose': 2, 'light ivory': 1, 'medpurp sy': 2, 'offwhit': 2, 'medium blue suede': 2, 'light green suede': 2, 'dark blue suede': 2, 'iridescentpinkcapri blue': 1, 'whitepink': 1, 'balticnatural': 1, 'lila': 2, 'optical': 1, 'skimo': 1, 'tibet': 1, 'black silver': 4, 'seafoam': 1, 'gold metallic': 3, 'natural light': 1, 'lct': 1, 'hematite': 1, 'blackpeony': 1, 'whitepeony': 1, 'bronze snake': 1, 'black satin': 8, 'red satin': 3, 'banana': 2, 'red pearlized patent': 2, 'lpk': 2, 'black delux': 1, 'tmoro suede': 1, 'gmetl': 1, 'smokey grey': 2, 'tweed brownblackchalk': 1, 'fairytale and storybook': 1, 'indigo denim fabric': 1, 'natural leather': 2, 'brown pu': 10, 'white pu': 5, 'slate palm lichen': 1, 'redblack': 1, 'redgrey': 1, 'greenwhite': 1, 'maroon': 5, 'navyyellow': 1, 'purplegold': 1, 'greengold': 1, 'maroongold': 1, 'navyorange': 2, 'redwhite': 3, 'light bluewhite': 1, 'navygold': 2, 'bluered': 1, 'green pu': 1, 'red pu': 4, 'whisper satin': 2, 'silver satin': 5, 'charro': 1, 'cognacred': 1, 'pearl': 4, 'blkfx': 1, 'cogfx': 3, 'rose gold': 8, 'blackblack': 16, 'black pat': 4, 'black velvet': 2, 'blk velvet': 1, 'white multi': 3, 'light copper multi': 1, 'black distressed foil': 1, 'black synthetic leather': 1, 'silver glitter': 9, 'bone cloud': 1, 'clear and white': 1, 'clrwht': 1, 'electric purple': 1, 'otter': 1, 'vanilla ice': 1, 'kork microfiber': 1, 'paprika microfiber': 1, 'pewter microfiber': 1, 'cerise pink': 1, 'fabric': 1, 'brown leather': 6, 'navy leather': 6, 'wine leather': 1, 'frame color gold': 1, 'lens color green': 1, 'black polyurethane': 3, 'new navy polyurethane': 1, 'tobacco polyurethane': 2, 'beige polyurethane': 2, 'tan polyurethane': 1, 'black smooth': 3, 'ivory smooth': 1, 'creamblue': 1, 'creamblack': 1, 'grayembossed': 1, 'marble ivory': 2, 'ironstone suede': 1, 'multi floral': 1, 'butterfly crocodile': 1, 'carmel': 1, 'mint dot': 1, 'small': 5, 'dark rinse': 1, 'tan faux leathertan': 1, 'ebano': 2, 'humo': 2, 'cuero': 1, 'mid brown leather': 1, 'spearmintdeep forest': 1, 'a': 4, 'n': 1, 'caramel': 3, 'iris moon': 1, 'rum': 1, 'dark red': 2, 'natural patent': 1, 'teal green': 2, 'plum': 9, 'grey quake': 1, 'multi-coloured': 3, 'saddle': 3, 'sandbar': 2, 'ocean green heather': 1, 'nude blush': 1, 'painted': 1, 'cork pu': 1, 'purple pearlized patent': 1, 'silver pearlized patent': 1, 'dark taupe': 3, 'greypurple': 1, 'cognacocre': 1, 'steelwhite': 1, 'two tone': 3, 'zebra': 7, 'of': 1, 'blk pr': 1, 'blkblk pr': 1, 'wht pr': 1, 'wht': 6, 'whtwht pr': 1, 'celadon': 1, 'colorblock pink grapefruit': 1, 'frame color brown': 1, 'lens color brown': 3, 'honey': 4, 'black nero': 1, 'praline': 2, 'indian maze': 1, 'black suede perforated': 1, 'java': 2, 'light wash': 3, 'lilly white': 1, 'hydrangea': 1, 'sea glass': 1, 'natural snake polyurethane': 1, 'copper gold': 1, 'teal': 8, 'army green': 1, 'blackthunder': 1, 'steel': 4, 'papaya': 1, 'moonstruck': 1, 'blueberry': 1, 'oak': 7, 'black-white': 3, 'virtual pink-fluo pink': 2, 'blueprint-omphalodes': 2, 'black-periscope': 2, 'periscope-purple cactus flower': 2, 'gray wash': 4, 'tulip pink': 2, 'pinkgrey': 1, 'blackgrey': 2, 'brown cheetah': 1, 'fuchsia wet': 1, 'pastel lilac': 1, 'ruby imi suede': 1, 'tan imi suede': 1, 'black imi suede': 1, 'green gables': 1, 'royal': 7, 'new snuff': 1, 'nude patent leather': 2, 'black pony hair': 1, 'black nappa leather': 2, 'black patent leather': 2, 'atomic mangometallic silver': 1, 'blackgreycool breeze': 1, 'blue oxford cloth': 1, 'buck tan khaki': 1, 'eggshell': 1, 'multi colored stones': 1, 'baby blue': 3, 'soft pink': 2, 'black grey': 2, 'blue atoll': 1, 'strawberry cream': 1, 'oranges': 1, 'multi chambray abstract': 3, 'olive aviator canvas': 1, 'amber': 1, 'greenmulticoloredfloral': 1, 'penguin': 1, 'oxblood': 2, 'gloss navy': 1, 'smoke ivory': 1, 'mlt': 1, 'lensgreen mirror': 1, 'green mirror': 1, 'framecoconut fade': 1, 'lensblue mirror': 1, 'light natural synthetic': 1, 'x-small': 1, 'mediumout of stock': 1, 'x-large': 2, 'red textured diamond': 3, 'black smoke': 1, 'henna': 2, 'beige pu': 4, 'blue denim': 5, 'blue pu': 4, 'camouflage cv': 3, 'hot pink pu': 3, 'ivory white pu': 3, 'orange pu': 3, 'purple pu': 4, 'zebra pu': 4, 'medium heather grey': 1, 'med hthr grey': 1, 'whiteblue': 1, 'goldmulti ab': 1, 'goldlct': 2, 'goldpeach': 1, 'black croc': 4, 'black nappa': 7, 'brandy country': 2, 'jeans toscana': 1, 'kaffee senegal': 1, 'marble idaho': 2, 'sangria nappa': 1, 'volcano luxory': 1, 'night': 2, 'fog leather': 1, 'glacier gray leather': 1, 'turquoise leather': 1, 'zephyr': 1, 'steel rosette': 1, 'white poppy': 1, 'medium natural leather': 2, 'chara': 1, 'whiteblack': 4, 'salmon': 3, 'black faux pat': 1, 'black nubuck': 5, 'red faux leather': 1, 'dark beige patent': 1, 'blacksailpink force': 1, 'solid': 4, 'heather tossed vines': 1, 'red stretch patent': 2, 'white stretch patent': 4, 'ivory white': 1, 'gry': 2, 'dark': 1, 'gold glitter': 5, 'gld': 3, 'slv': 3, 'bluebelle': 1, 'midnight': 1, 'poppies': 1, 'leopard print': 3, 'coffee brown leather': 1, 'tan leather': 4, 'dark tortoisegold': 1, 'rose pink': 1, 'whiteghost green-pure platinum': 2, 'black lace': 1, 'grey ii': 1, 'gray ii': 1, 'lilac': 6, 'sea blue': 1, 'watermelon red': 1, 'maize': 1, 'evergreen': 1, 'sahara': 1, 'ivory satin': 5, 'bronze satin': 2, 'brownbrown': 2, 'wild dove': 2, 'sport white': 1, 'brown nubuck': 4, 'bone combo': 1, 'navyyellow arrows': 1, 'quarry': 2, 'tan leopard': 3, 'black vintage effect': 1, 'winter white': 2, 'darkdustyrose': 1, 'brownblack': 1, 'blue  multi': 1, 'brown  multi': 1, 'phonebox red': 2, 'bone nappa kidskin': 1, 'black nappa kidskin': 1, 'white nappa kidskin': 1, 'navy nappa kidskin': 1, 'brown nappa kidskin': 1, 'black  red': 1, 'light tan': 3, 'grape leaf': 1, 'purple  green': 1, 'whitegoldbrown': 1, 'blacktan': 2, 'bluewhitestriped': 1, 'whitemetallic platinum': 1, 'blackwhite boucle': 2, 'blues': 8, 'silver glitterclear': 1, 'simba suede': 1, 'hyper melon': 1, 'ink shadow': 1, 'aubergine': 1, 'blue topaz': 1, 'french taupe': 1, 'whitesilver': 1, 'dark honey': 2, 'classic navy plaid': 2, 'clear blue plaid': 2, 'classic navyevergreen plaid': 2, 'hunterclassic navy plaid': 2, 'burgundygray plaid': 2, 'vanilla': 5, 'gold leather': 2, 'sylver': 1, 'moka suede': 1, 'blue green': 2, 'lime green glitter': 3, 'purple glitter': 3, 'red glitter': 5, 'whitedenim': 1, 'black ': 2, 'ultima purpletimeless tealblackwhite': 1, 'coral leather': 1, 'pewter leather': 1, 'java brown': 1, 'multicolored': 1, 'cleartopblackbase': 1, 'dark grey': 6, 'bamboo': 2, 'blackblack gore': 1, 'burgundyblack gore': 1, 'black crocodileblack gore': 1, 'camelblack gore': 1, 'pu': 1, 'silvergreycoral': 1, 'dark gray': 5, 'black tipped fur': 1, 'modern navy': 1, 'peltro': 1, 'blackgunmetal': 1, 'misty blue': 1, 'bronzeblack-infrared-white': 1, 'tangerinekhaki': 1, 'birds': 1, 'neon orange patent': 1, 'neon fuchsia pat': 2, 'neon yellow patent': 1, 'rose': 6, 'black pitoprt': 1, 'cocoon': 1, 'gold flash': 1, 'ivories': 1, 'dark denim': 1, 'medium denim': 1, 'lavender': 8, 'blushing pink lace': 1, 'white lace': 1, 'light beige lace': 1, 'cognac mariner stripe': 1, 'multi color': 12, 'light coral': 1, 'navymagentasilverwhite': 1, 'midnightblush': 1, 'team colors': 3, 'green grey': 1, 'green orange': 1, 'grey black': 2, 'yellow blue': 1, 'red grey': 1, 'antique gold': 2, 'university redmaroon-white': 1, 'blacktaupe': 1, 'greypurplewhite': 1, 'lipstick': 3, 'blackmetallic silverpure platinumvolt': 1, 'berry': 4, 'hawaiian': 1, 'star': 1, 'kelly green': 2, 'white pretty petal': 1, 'orange parasail cotton': 1, 'blackchaiwhite': 1, 'rye': 1, 'teak': 1, 'core white': 1, 'clear and ivory': 1, 'black dalmatian': 1, 'blackwhiteblue': 1, 'greywhite': 3, 'nautral': 1, 'navy floral': 2, 'black glitter': 5, 'hotpink': 1, 'jade': 3, 'light orange': 1, 'mocha': 3, 'alloy': 1, 'aquarium': 1, 'flash coral': 1, 'aruba blue': 1, 'dark navy': 1, 'asics blue': 1, 'green gecko': 1, 'optpeanut': 1, 'opt': 1, 'peanut': 2, 'satin': 3, 'black combo': 1, 'blackflash limefuchsia flash': 1, 'viper': 2, 'blackanthracite': 1, 'whitesilver metallicvivid mint': 1, 'whitesilvergrey': 1, 'whitewhitesilver': 1, 'flash orangenight flashwhite': 1, 'whitesilveronix': 1, 'taupe  black ': 1, 'dcopp': 1, 'bronzeblack': 2, 'charcoalgreen glowpink': 1, 'aventurinepurple': 1, 'nightfall': 1, 'lt natur': 1, 'bright magentawolf grey': 1, 'jewel': 1, 'whiteaero': 1, 'dbrdbr leather': 1, 'club pinkwhiteblack': 1, 'black ii': 2, 'black multi': 7, 'albahaca': 1, 'powder blue': 1, 'fig purple': 1, 'chambray': 4, 'dusk': 1, 'fair isle': 1, 'railroad stripe': 1, 'oyster': 1, 'concorde': 1, 'port': 2, 'graygraygeranium': 1, 'blackcool greyanthracitepure platinum': 1, 'dark yellow': 3, 'purplemetallic': 1, 'blackmetallic': 1, 'whitebaby blue': 1, 'no color': 5, 'black white checkers': 1, 'goldsilver': 1, 'goldblack': 1, 'dove grey': 3, 'purple - bougainvilletrwht': 1, 'medium uk -': 1, 'large us -': 1, 'clear-fuchsiafuchsia chrome': 1, 'clear-goldgold chrome': 1, 'clear-multifuchsia chrome': 1, 'clear-redred chrome': 1, 'sundance': 2, 'charcoal multi': 2, 'oxford tan': 1, 'charcoal heather': 3, 'citrus glowgravelwhite': 1, 'black - blacktruewhite': 1, 'woodroserose dust': 1, 'gold color': 1, 'silver color': 1, 'ink  glitter': 1, 'moorea': 1, 'blackpinkfloral': 1, 'blueblackwhitefeather': 1, 'blackwhiterose': 1, 'bluegreendot': 1, 'cherry': 1, 'dusty brown': 1, 'pink forcewhitedark grey': 1, 'eco gray': 1, 'eco wheat': 1, 'cleatherarblack': 3, 'cleatherarsilver chrome': 3, 'beige ': 3, 'champagne foil': 1, 'brown-crumply': 1, 'clear vinyl wfuchsia': 1, 'clear vinyl wgold': 1, 'rose gold plated': 5, 'true royal': 1, 'brown burnish polyurethane': 1, 'black burnish polyurethane': 1, 'black buc polyurethane': 1, 'navy burnish polyurethane': 1, 'grey burnish polyurethane': 1, 'black synthetic': 1, 'chocolate synthetic': 1, 'sunny': 3, 'clear peanut': 1, 'black verna silky': 1, 'lips': 1, 'light taupeblack leather': 1, 'tarmac olive': 1, 'silver-tone': 1, 'coralgray': 1, 'orange floral': 1, 'floral combo': 1, 'solid - brown': 1, 'brown pebble blue': 1, 'hazelnut': 3, 'brown flower tooled': 1, 'black oiled': 2, 'blackgraysnakeskin': 1, 'whitesparkgranite prism pink': 1, 'ivory patent': 1, 'tortoise backpaint': 1, 'black backpaint': 1, 'mint green': 1, 'bright multi': 1, 'ash': 4, 'winter green': 1, 'desert sand': 3, 'shadow': 1, 'boysenberry': 1, 'caribbean aged rope': 1, 'bright pink': 1, 'blue eyes': 1, 'caribbean moccasin': 1, 'sweet pea': 1, 'galaxy': 3, 'alice blue': 1, 'rain': 1, 'mini mosaic blackwhite': 1, 'style ': 2, 'bright chartreuse': 1, 'bungee cord': 1, 'saharaplatino': 1, 'ink': 4, 'whitegreenwolf greyplatinum': 1, 'azure': 3, 'vivid blue': 1, 'blossom': 1, 'mid grey': 1, 'blue nubuck': 1, 'metallic smooth': 1, 'dark brown nubuck': 1, 'grey nubuck': 1, 'industrial blue': 1, 'dbrndbr': 1, 'chai': 3, 'nautical navy': 1, 'orchidvioletpinkwhite': 1, 'dd': 1, 'e': 1, 'f': 1, 'ff': 1, 'g': 1, 'gg': 1, 'h': 1, 'hh': 1, 'j': 1, 'hout of stock': 1, 'ggout of stock': 1, 'blackblack ': 1, 'white snake': 2, 'natural snake print': 3, 'mpewt': 1, 'silver with black': 1, 'olive synthetic leather': 1, 'summer cognacdark saddle': 1, 'brown logo pvc': 1, 'air force blue': 1, 'dark orange': 1, 'light aqua': 1, 'pebble': 1, 'new navy': 1, 'coral hazeblack': 1, 'metallic black': 1, 'metallic silver': 2, 'metallic gold': 1, 'royal plum': 1, 'dbrblgr': 1, 'blgr': 1, 'dbr': 1, 'light brownlna leather': 1, 'ice': 2, 'black linen': 1, 'aster rubber': 2, 'waverly': 1, 'black cape': 1, 'black madras': 1, 'roseblack': 1, 'wild rose black': 1, 'cream vancouver synthetic': 1, 'porcini': 1, 'fudge': 2, 'vinyl': 2, 'red imi suede': 1, 'natural imi suede': 1, 'navy geo': 1, 'indigo check blueprint': 1, 'indigo checkered': 1, 'disney micky mouse': 1, 'frost grey': 1, 'burnt coral': 1, 'hawaiian floral': 1, 'plaid patchwork': 1, 'overwashed blue graphite': 1, 'overwashed paisley black': 1, 'teal leather': 1, 'silver leather': 2, 'blackblackblk': 1, 'black black black': 1, 'navy suede': 1, 'gold sequinsgold': 1, 'red sequinsred': 1, 'olive nubuck': 1, 'blackwhite tossed leaves': 1, 'mblum': 1, 'yellowgreenorange': 1, 'chp': 1, 'navy multi': 4, 'black and white': 1, 'bone waxy wash': 1, 'latte metallic leather': 1, 'black metallic leather': 1, 'brown gilla print': 1, 'black gilla print': 1, 'combo': 1, 'sunflower': 2, 'black paris': 1, 'brown paris': 1, 'crackleberry': 1, 'silverblack': 1, 'zig zag': 1, 'coral pat': 1, 'blue white': 1, 'silverblue': 1, 'cement-': 1, 'topaz': 1, 'black gold': 1, 'warm sand': 1, 'lighttaupe snake polyurethane': 1, 'grey snake polyurethane': 1, 'white polyurethane': 1, 'black snake polyurethane': 1, 'whiskey polyurethane': 1, 'lagoon': 2, 'yg a silver': 1, 'yg b platino': 1, 'rust suede': 1, 'taupe suede': 3, 'tortora leather': 1, 'dove': 2, 'various colors': 1, 'bone stretch': 1, 'black stretch': 1, 'black calf': 3, 'bone calf': 1, 'taupe nubuck': 2, 'navy calf': 1, 'champaign': 1, 'mandarin': 3, 'breezewhitebeetroot purple': 1, 'shimmer taupe': 1, 'black quilt': 1, 'beige - antiquewhttan': 1, 'silver mt': 1, 'jungle gurlblack-white': 1, 'clearwaterblue coralwhite': 1, 'vapor blueraspberrywhite': 1, 'black deertanblack': 1, 'pinkgrey ': 1, 'palm tree': 1, 'coral reef': 1, 'turquiose': 1, 'lime white': 1, 'royal white': 1, 'white black': 2, 'safety orange black': 1, 'red white': 1, 'columbia blue white': 1, 'hot pink white': 1, 'navy white': 1, 'hot coral white': 1, 'black white': 4, 'purple white': 1, 'field camo': 1, 'crystal raspberry': 1, 'blue lagoonwhiteclearwater': 1, 'clearwater': 2, 'anthracite': 3, 'platinum': 3, 'greyplatinumpink': 1, 'blackwhiteanthracite': 1, 'blue lagoon': 2, 'pastel green': 1, 'champagne satin': 1, 'bone stella': 1, 'true blue': 1, 'camel velour': 1, 'red mosaic': 1, 'navytrue white': 1, 'clear and silver': 1, 'betsy ross': 3, 'dipstick': 3, 'disco balls': 3, 'drop cloth': 4, 'magic bus': 4, 'miami slice': 3, 'paint balls': 3, 'pazeltine': 3, 'scribblz': 3, 'shagadelic black': 3, 'shagadelic white': 4, 'shiver me timbers': 3, 'orchid': 1, 'mtaup m': 1, 'blue  black': 1, 'red  black': 1, 'up infinity': 1, 'winter brush': 3, 'multi tribal stripe': 1, 'magenta': 2, 'black natural': 2, 'grey light': 1, 'magenta orange': 1, 'slate blu': 1, 'dark indigo wash': 1, 'black floral': 2, 'assorted': 4, 'sand tropic': 1, 'h pink glitter': 1, 'hot pink gltr': 1, 'hickory suede': 1, 'black calf leather': 1, 'navyred': 2, 'monarch': 1, 'icey': 1, 'licorice soft serve': 1, 'blackgravelsilvercherry': 1, 'deep orchid': 1, 'true white': 3, 'red ': 1, 'red mesh': 1, 'blackblackvivid purplecopa ': 1, 'antique brown': 1, 'eggplant': 2, ' darkest brown': 1, 'platino leather': 1, 'nero': 1, 'baby pink satin': 2, 'white satin': 1, 'black ll': 1, 'nud': 1, 'pro pink': 1, 'blackhot pink gtw': 1, 'blackoxblood gtw': 1, 'blackperiwinkle gtw': 1, 'dark greyivory gtw': 1, 'dark greynavy gtw': 1, 'preston': 1, 'blue rinse denim': 1, 'phoenix dark': 2, 'purpleblue': 1, 'carribean': 2, 'blackgold': 5, 'sweet minthot lilac': 1, 'lipgloss  red': 1, 'rose red': 3, 'black  silver': 1, 'vizipro coralcitron': 1, 'silver glitz': 1, 'largeout of stock': 1, 'dbrndbrn': 1, 'brownfloral': 1, 'ankleheightpurplegingham': 1, 'blackfloral': 3, 'ankleheightpinkgingham': 1, 'blklilac': 1, 'bluesunburst': 1, 'coffeepink': 1, 'ankleheightblackgingham': 1, 'greygreenwhite': 1, 'fall flame': 1, 'nude elastic': 1, 'denim elastic canvas': 1, 'smooth': 1, 'smoky taupe imsu': 1, 'tan nupu': 1, 'black nupu': 1, 'khaki imsu': 1, 'black imsu': 1, 'deep fuchsia': 1, 'mauve': 1, 'lemon': 1, 'melon': 2, 'sky blue': 2, 'brown tumbled leather': 1, 'cheetah glitter': 1, 'zebra glitter': 1, 'grayblack': 1, 'black sand': 1, 'black glitter pu': 1, 'voltelectric greenvapor greenwhite': 1, 'small - ': 1, 'medium - ': 1, 'dark green': 5, 'stucco': 2, 'cayennebright marigold': 1, 'silver crochet glitter': 1, 'cocoa': 2, 'desert rose': 1, 'coach': 1, 'blackwatch': 1, 'grey spirit tartan': 1, 'limeblack': 1, 'gold mini glitter': 1, 'black mini glitter': 1, 'purple mini glitter': 1, 'red mini glitter': 1, 'silver mini glitter': 1, 'brown nappa kid': 1, 'indigo stripeberry': 1, '': 4, 'out of stock': 4, 'black shahi kid': 1, 'fusion coral': 1, 'violablack': 1, 'black stretch pu': 2, 'black stretch patent': 1, 'fuschia glitter': 1, 'ice blueflash yellowpurple': 1, 'marine': 2, 'black silk goat': 1, 'sandy lane': 1, 'taupe pu': 3, 'beige python': 3, 'mint patent': 3, 'grey snake': 3, 'coffee pu': 3, 'gold snake': 3, 'coral patent': 2, 'anthraciteblack': 1, 'ivory leather': 2, 'natural braided leather': 1, 'seagreen braided leather': 1, 'black - blktribaldes': 1, 'cloud': 1, 'toe': 1, 'with': 1, 'black mesh': 2, 'cobalt mesh': 2, 'grey yellow mesh': 2, 'light grey mesh': 2, 'navy mesh': 2, 'purple mesh': 2, 'black croco synthetic': 1, 'bronze croco synthetic': 1, 'gold cork': 1, 'natural snake synthetic': 1, 'pink snake synthetic': 1, 'teal snake synthetic': 1, 'cogna mul': 1, 'dark charcoalblackpure platinum': 1, 'driftwood': 1, 'blackwhiteclearwater': 1, 'jet black': 3, 'daylight white': 1, 'blacksilver': 4, 'black python': 3, 'gold shimmer': 1, 'silver lilac': 1, 'xsmall': 1, 'xxl': 1, 'frame color gunmetal': 1, 'passionflower': 1, 'paradis': 1, 'navyblue': 1, 'whitemint': 1, 'distressed black': 1, 'white - classicwhite': 1, 'dark brown leather': 1, 'lemon twist': 1, 'chambray polka dot': 1, 'optic white': 1, 'razzmatazz': 1, 'radiant orch': 1, 'clear  black': 1, 'navy textile': 1, 'blue canvas wave': 1, 'pearled': 1, 'bluetint pinkglow peacoat': 1, 'dark greyblackknockout pink': 1, 'gunmetal purple horn': 1, 'fluo peach-rose red-white': 2, 'purple cactus flower-periscope-white': 1, 'black-periscope-white': 1, 'brownpink': 1, 'pink multi': 1, 'black  white': 4, 'navy nubuck': 1, 'street nubuck': 1, 'black cheetah lace': 1, 'natural cheetah lace': 1, 'splash cheetah lace': 1, 'burgundysilver': 1, 'silver  black': 1, 'tan  coral': 1, 'charcoalcabbage': 1, 'whitemetallic silverwolf grey': 1, 'wimaraner brown': 1, 'nostalgia rose': 1, 'browntortoiseshell': 1, 'saddlenatural': 1, 'stars': 1, 'us flag': 1, 'blue mojave': 1, 'bluegreysilverlime': 1, 'b': 5, 'red - red': 1, 'electric coral': 1, 'gold co rp': 1, 'light natural rp': 1, 'red black floral': 1, 'natural multi fabric': 1, 'natural mu sy': 1, 'brzcog': 1, 'purpleorange': 1, 'oahu floral': 1, 'lace and black': 1, 'lace': 2, 'grey - gunmetalsnorkelblue': 1, 'blackwhite dot stripe': 1, 'blond': 2, 'gold navy': 1, 'us ': 1, 'blue - blue': 1, 'brown suede': 4, 'raspberry': 3, 'tan vegan': 1, 'blackpinkgraysilver': 1, 'pinkcoralwhite': 1, 'citrine greenblack': 1, 'black distressed leather': 1, 'mine shaft': 1, 'black solid': 1, 'white solid': 1, 'gray flannel': 1, 'gray pink': 2, 'gray blue': 1, 'charcoalyellow': 1, 'whitepu': 1, 'whitepatent': 1, 'blackpu': 1, 'medium brown crocco': 1, 'fog cube': 1, 'frame color tortoise': 1, 'dark havana': 1, 'navymulticolor': 1, 'coffee smooth': 1, 'sandstone': 1, 'clear and cream': 2, 'clrslv chrome': 1, 'clrgold chrome': 2, 'chipmunk leather': 1, 'heathered gray': 1, 'pink neon': 1, 'silverredgoldwhite': 1, 'mushroom wc': 1, 'dark denimcabaretgold': 1, 'blk glitter': 1, 'slv glitter': 1, 'neptune stripe': 1, 'eggshell sparkle': 1, 'beach stripe': 1, 'black sparkle': 2, 'gypsy stripe': 1, 'blackorange': 1, 'black denim': 2, 'black - blackthunder': 1, 'coraltan': 1, 'chestnut suede': 1, 'black calfskin': 1, 'bone calfskin': 1, 'white calfskin': 1, 'blackblack crystal': 1, 'silver lace': 1, 'antique copper marble': 1, 'blue denim leather': 1, 'blue marble': 1, 'bronze print': 1, 'grey marble': 1, 'rust snakeskin-print': 1, 'moroccan blue': 1, 'leche': 1, 'blk chevron': 1, 'nvy': 1, 'navy dot': 2, 'pk splatter': 1, 'wolf grey': 1, 'volt  pink': 1, 'periwinkle': 1, 'silverg': 1, 'cayenne': 2, 'schwarzlakegraphit': 1, 'naturalcopper leather': 1, 'deep indigo': 1, 'bluecitron': 1, 'whiskey suede': 1, 'blackgeo': 1, 'navybrown': 1, 'stainless steel': 1, 'brown tan sv': 1, 'blue tan sv': 1, 'black black sv': 1, 'neon fuchsia': 1, 'brownangora': 2, 'astral aura': 1, 'faience': 1, 'aluminum': 1, 'me-not': 1, 'nickel': 1, 'black smooth leather': 2, 'dk caramel suede': 1, 'med brn prague': 1, 'blackclear': 3, 'goldclear': 1, 'stealthreflect silvervolt': 1, 'coraldkshadow': 1, 'redpaisley': 1, 'cool greymilitary bluewhite': 1, 'bronze glitter wool': 1, 'sahara smooth': 1, 'black burn smooth': 1, 'pink baroque': 1, 'blue kauai': 1, 'linennatural': 1, 'light gray': 3, 'blood red': 1, 'chesnut': 7, 'black points leather': 1, 'cognac plisseelight leather': 1, 'lake nubuck vienna': 1, 'light red leather': 1, 'mint leather': 1, 'old brass': 1, 'stone leather': 1, 'taupe equipe leather': 1, 'taupe equipe': 1, 'hemp': 1, 'black sheepskin': 2, 'grey sheepskin': 2, 'cabbageorchid bouquetaurora': 1, 'black grain': 1, 'scribblz black': 1, 'canada white': 1, 'dark bluewhitedkblue': 1, 'blackwhiteblack': 1, 'true bluewhitetrue blue': 1, 'silverpurpleblue': 1, 'taupe print': 1, 'silk leather': 1, 'gold silver': 2, 'soft white': 2, 'black moroccan crochet': 1, 'tan turquoise': 1, 'slvp': 1, 'gldp': 1, 'regal purple': 1, 'gravelgreypinksteelwhite': 1, 'suntanblack': 1, 'copper': 5, 'solid black': 2, 'pom berry': 1, 'hickory leopard': 2, 'tan teal': 1, 'ginger tan': 1, 'milk': 1, 'true red': 1, 'tan satin': 1, 'green ombre wool': 1, 'ice cream pink': 1, 'black wide calf': 1, 'paper white': 1, 'set ': 1, 'light copper leather': 1, 'mercury': 1, 'cognac pu': 1, 'yellow grey': 1, 'black sport suede': 1, 'orange stretch patent': 1, 'lime stretch patent': 1, 'gold stretch pu': 1, 'yellow stretch patent': 1, 'purple stretch pat': 1, 'silver stretch pu': 1, 'white stretch pu': 1, 'red-patent': 1, 'mushroom': 2, 'white canvas': 1, 'stone wash dark': 4, 'dark navy pony': 1, 'satin flower embroidery': 1, 'blakc': 1, 'fluo pinkmeant leafpeach': 1, 'aegean blue canvas': 1, 'navy canvas': 2, 'light grey canvas': 1, 'picante red canvas': 1, 'red canvas': 1, 'ash canvas': 1, 'natural canvas': 1, 'liberty blue': 1, 'chianti': 2, 'stout': 4, 'tiger': 1, 'blacktanbrownpepper white': 1, 'peyote': 1, 'whitemulti': 3, 'petal': 1, 'bla': 1, 'purple  white': 1, 'bluebright greenwhite': 1, 'viso nabuk': 1, 'copper cop le': 1, 'shitake leather': 1, 'raven leather': 1, 'pearl gold': 3, 'moccasin': 2, 'pinks': 2, 'angora': 1, 'paradise multi': 1, 'navy ': 1, 'blackgreyblue': 1, 'redtopclearbase': 1, 'silvertopclearbase': 1, 'wine red': 1, 'beauty queen': 1, 'diva': 1, 'princess': 1, 'natural multi': 1, 'mustard': 3, 'light grey': 6, 'black-cream pu': 1, 'brown marble silver': 1, 'tart': 1, 'yellow multi': 1, 'white with black': 1, 'purplewhitepower yellow': 1, 'grng': 1, 'gldg': 1, 'blkg': 1, 'blug': 1, 'fuchsia glitter': 1, 'blksd': 1, 'tpesd': 1, 'faux fur': 1, 'cuoio leather': 1, 'sandstorm': 1, 'sesame thai silk': 1, 'ebony ': 1, 'purple pennantlavender fog': 1, 'quarry-gray violet-white-fluo peach': 1, 'light chambray': 1, 'mustang': 1, 'camelchocolate': 1, 'conac': 2, 'greywhiteroyal': 1, 'smoke': 2, 'havanna': 1, 'kastanie': 1, 'blackpewter synthetic': 1, 'pewtersilver synthetic': 1, 'melanzana debora': 1, 'chain mail': 1, 'winter garden': 1, 'totally cellular': 1, 'renaissance': 1, 'iris': 2, 'black waxy': 1, 'medieval': 1, 'lovely': 1, 'piedra': 1, 'pino': 1, 'gold fabric': 1, 'dark purple suede': 2, 'natural microfiber': 1, 'shaledark raso': 1, 'espresso corten leather': 1, 'volcano leather': 1, 'black rinse': 1, 'snuff': 1, 'set': 1, 'havana frame': 1, 'black frame': 1, 'blackvolt-anthrct-mtllc slvr': 1, 'blackvolt-anthrct-mtllc silver': 1, 'blueice bluewhite': 1, 'blackgraphite': 1, 'pewterflame': 1, 'redfruit': 1, 'tropical': 1, 'black cherry': 1, 'chalk': 3, 'fatigue': 2, 'whiskey imi suede': 1, 'blue ombre': 1, 'sunset': 1, 'black linels': 1, 'silver pu': 1, 'dark greydark grey': 1, 'gold sequins': 1, 'silver sequins': 1, 'slv sequins': 1, 'bomber brown': 1, 'ivory glitter': 1, 'charcoal glitter': 1, 'bloomer': 1, 'bliss': 1, 'aurora blue': 1, 'turkish tile': 1, 'marshmallow': 1, 'fig': 1, 'sour cherry': 1, 'purplecorallavender': 1, 'whitewhite-matte silver-blue tint': 1, 'coffee leather': 1, 'black faux leather': 1, 'black matte': 1, 'red and red': 2, 'black patent pu': 1, 'grey leopard': 1, 'flamingo mint': 1, 'silvers': 1, 'pinkchalk': 1, 'dark natural ll': 1, 'burgundy suede': 1, 'medium green': 1, 'floral shadows pink': 1, 'blue - birchcaptainsblue': 1, 'matte bronze black': 1, 'warm sandtoffee': 1, 'blue kid suede': 1, 'sorbet kid suede': 1, 'coralwhite': 1, 'ambra': 1, 'rice powder': 1, 'nut brown': 1, 'antarctic white': 1, 'carbon gray': 1, 'smoke gray': 1, 'matte black grey': 1, 'blackcharcoal': 1, 'blackdaisy': 1, 'black - leopardherringbone': 1, 'nude pointed nubuck': 1, 'classic navydark crimson': 1, 'burgundyfeather gray stripe': 1, 'evergreenclassic navy stripec': 1, 'classic navygold stripe': 1, 'midnight navy': 1, 'mechanic blue': 1, 'high-vis yellow': 1, 'stealth gray': 1, 'dark coral': 1, 'tanbrown crocodile': 1, 'cuoio synthetic': 1, 'elk': 2, 'natur': 1, 'ecrumocha': 1, 'sun': 1, 'watermelon': 1, 'pomberry': 1, 'bitter chocolate': 1, 'spruce': 1, 'mahogany brown': 1, 'black and silver': 1, 'sg blades': 2, 'duck blind': 2, 'heather grey': 3, 'orange sparkle': 1, 'chambray swan': 1, 'drained and c': 1, 'tropical multi': 1, 'mood indigo': 1, 'gum': 1, 'andorra': 2, 'scuba blue chevron': 1, 'classic white': 1, 'tg': 1, 'blanco de blanco': 1, 'glitter textile': 1, 'heron': 1, 'truewhite': 1, 'late night hamburgers': 1, 'hamburgers': 1, 'disney donald duck': 1, 'abstract black': 1, 'indigo tropical blue': 1, 'ocean': 2, 'chestnut sheepskin': 1, 'chmpgne': 1, 'fur': 1, 'black glove': 1, 'frappe chicago': 1, 'gipsy': 1, 'gipsy chicago': 1, 'sand metallic': 1, 'polar blue': 1, 'cloud grey': 1, 'poison pink': 1, 'mystic maroon': 1, 'lucid lilac': 1, 'rebel berry': 1, 'blue ink': 1, 'hero yellow': 1, 'scarlet': 1, 'grey marl': 1, 'ivory satin-lace': 1, 'champagne satin-lace': 1, 'indigo tropical blktrwt': 2, 'grays': 3, 'true navy': 2, 'roccia': 1, 'maple': 1, 'gold tone': 1, 'blackblackcamo': 1, 'braunbraunweiss': 1, 'indian teal': 1, 'brown spotwhite hair': 1, 'multi-color grey': 1, 'blanco': 1, 'smoke taupe': 1, 'p': 1, 'polarized': 1, 'peacoat blue': 1, 'smokey purple': 1, 'sugar pink': 1, 'pewter tan': 1, 'pretty purple': 1, 'dark caramel': 1, 'medium green ll': 1, 'black hologram patent': 1, 'black smooth natural': 1, 'pink patent': 1, 'sand nubuck': 1, 'burgundy leather': 1, 'babypink': 1, 'silver coral': 1, 'tan porter': 1, 'grey distress': 1, 'natural distress': 1, 'lens color grey': 2, 'frame color black': 2, 'tan cheetah': 1, 'clear and blue': 2, 'clear and pink': 1, 'clrblue lights': 1, 'clrpink lights': 1, 'blushing pink': 1, 'cordo': 2, 'cobalt': 2, 'indigo rinse': 1, 'blackfila redwhite': 1, 'brigade bluesail': 1, 'skylab': 1, 'steelpinksilver': 1, 'mixed': 1, 'taupe gray': 1, 'greenbrown': 2, 'french lilac': 1, 'sweet coral': 1, 'true ceil': 1, 'cornflower': 1, 'hunter': 1, 'flamingo': 1, 'merlot': 1, 'blacklipstick': 1, 'ruby': 2, 'navyultramarine': 1, 'dapple greygreystone blue': 1, 'iceberg': 1, 'medium grey': 2, 'fresh pink': 1, 'lux satin': 1, 'metallic silverblue grass': 1, 'blackblue': 2, 'greenyellow': 1, 'blackyellow': 1, 'turquoisered': 1, 'sweet truffle': 1, 'violet': 2, 'black print': 1, 'burgundy print': 1, 'blackwhite-purple dream': 1, 'rasberrytan': 1, 'tanwhite': 1, 'taupe sand': 1, 'leopard fabric': 1, 'style': 1, 'clrpurple chrome': 1, 'yellow leather': 1, 'orange leather': 1, 'us': 1, 'black-': 1, 'navy-': 1, 'grey-': 1, 'burgundy-': 1, 'beige-': 1, 'purple-': 1, 'coffee-': 1, 'all burgundy-': 1, 'all fushia-': 1, 'teal-': 1, 'all coffee-': 1, 'fushia-': 1, 'purpletealburgundyfushiablackbeige-': 1, 'all colors-': 1, 'all gray-': 1, 'blackgraynavycoffee-': 1, 'all beige-': 1, 'all navy-': 1, 'all teal-': 1, 'gray-': 1, 'all black-': 1, 'all purple-': 1, 'maraschino red': 1, 'split rock brown': 1, 'tnf black': 1, 'plum kitten grey': 1, 'tie dye turquoise': 1, 'tone green': 1, 'butternut': 1, 'black gum': 1, 'bachelor': 1, 'iridescent eyelets': 1, 'duck hunt': 1, 'burnt orange': 1, 'camo': 3, 'tone pink': 1, 'amber gold': 1, 'cl classic white': 1, 'tie die navy': 1, 'antique white': 2, 'tobacco': 1, 'turquoisesilver leather wstretch': 1, 'flesh': 3, 'bluewhiteyellow': 1, 'wild leopard': 1, 'blackwhitealarming': 1, 'forestgold': 1, 'carbon fiber': 1, 'lt grey': 2, 'clay': 1, 'pink camo': 1, 'orange camo': 1, 'beige floral': 1, 'silver grey': 1, 'gold tan': 1, 'silvergrey': 2, 'bronze multi': 2, 'splash': 1, 'bronze metallic': 2, 'olive green': 1, 'silver multi': 1, 'beige polka dot': 1, 'camo multi': 1, 'caribbean': 1, 'new eggplant': 1, 'dark stonewash': 1, 'blue bell': 1, ' - blue': 1, 'black pearlized leather': 1, 'luggage leather': 1, 'multicolorfloral': 1, 'bluewhite': 1, 'ltnfx': 1, 'green  brown': 1, 'orange  grey': 1, 'leopard microfiber': 1, 'black coral': 2, 'navy pink': 1, 'black green': 1, 'grey multi': 2, 'grey green': 1, 'turquoise pink': 1, 'off-whitegold': 1, 'off-whiteblue': 1, 'blackbrown': 1, 'gray floral': 1, 'pink floral': 1, 'avalanche pink': 1, 'fern fronds orchid': 1, 'scape black': 1, 'wild corrosion black': 1, 'black vintage goat': 1, 'forest grn': 1, 'columbia blue': 1, 'kelly grn': 1, 'kelly': 1, 'ice synthetic': 1, 'staub synthetic': 1, 'bluemidnight navyblaze': 1, 'realtree apx': 1, 'deep black': 4, 'brown sugarblue heaven': 1, 'pomegranate': 1, 'baltimore ravens': 1, 'cornsilk': 1, 'royb': 1, 'black tess': 1, 'navy tess': 1, 'tender taupe': 1, 'cognacnatural burnish': 1, 'blackwhitesolar pink': 1, 'reindeer sm': 1, 'greylight blue ': 1, 'greypink': 1, 'blackbright red': 1, 'blackcharcoalblue graphitementa': 1, 'blackdark greywhitepink blast': 1, 'blackwhiteblue lagoon': 1, 'cool greyfuchsia glowwhitecopa': 1, 'blackpink blastdark greywht': 1, 'blackblue lagoonwhite': 1, 'bright crimsonlava glowwhite': 1, 'anthracitewhiteblack': 1, 'wolf greysport fuchsiawhite': 1, 'blackbright pink': 1, 'blackfuschia flashwhite': 1, 'blue lagoonpool bluewhite': 1, 'blackgreywhite': 1, 'artisan tealwhite': 1, 'bright crimson': 1, 'mtlc hematiteanthraciteblack': 1, 'cerise': 3, 'nude suede': 1, 'night poppy': 1, 'tealgrey': 1, 'mustard leather': 1, 'olive leather': 1, 'red leather': 2, 'cherry red arcadia': 1, 'gold multi rs': 1, 'lavender multi rs': 1, 'blue multi rs': 1, 'silver multi rs': 1, 'clear and green': 1, 'metallic': 2, 'cadmiumrosepurple': 1, 'dar purple dust': 1, 'suede toe': 1, 'jewels': 1, 'street suede': 1, 'hawaii dream': 1, 'melon quake': 1, 'aged vachetta': 1, 'white tweed': 1, 'dark pink suede': 1, 'yellow suede': 1, 'pink ivory green': 1, 'navygray': 1, 'croco': 1, 'merlot suede': 1, 'pearl grey suede': 1, 'goat': 1, 'medium red': 1, 'jolie satin': 1, 'grey croc': 2, 'khaki pu': 2, 'blue patent': 2, 'wine pu': 2, 'khaki patent': 2, 'fuchsia patent': 2, 'navy sheepskin': 1, 'multi fabric': 1, 'psych fest': 1, 'purple skuls': 1, 'lemon ice': 1, 'wht pu': 2, 'rioja': 3, 'rice white': 1, 'dkgr': 1, 'rust': 5, 'cool combo': 1, 'light heather grey': 1, 'neutral combo': 1, 'warm combo': 1, 'light green': 1, 'strawberry blonde trio': 1, 'tap shoe': 1, 'ptp': 1, 'aged bark': 1, 'sunburn leather': 1, 'espressokhaki': 1, 'stout leather': 1, 'navywhite ': 1, 'raco': 1, 'black havana': 1, 'multi-colornatura': 1, 'polo tan': 4, 'fiberglassblack-blue lagoon-game royal': 1, 'pewt': 1, 'whitebluepink': 1, 'ivory gtw': 1, 'oxblood gtw': 1, 'hot pink gtw': 1, 'navy gtw': 1, 'periwinkle gtw': 1, 'black gtw': 1, 'navy pearl': 1, 'pinkvioletcoralwhite': 1, 'tender rose': 1, 'blk leather': 1, 'h pink pat': 1, 'slv gltr': 1, 'tidal ikat': 1, 'croissant': 1, 'dark brown embossed': 1, 'oxford': 1, 'black and clear': 1, 'silver and clear': 1, 'bronze  plaid': 1, 'cinnamon  tribal': 1, 'navy  plaid': 1, 'cleatherargold chrome': 2, 'cheeetah': 1, 'pearl yellow': 1, 'summer white': 1, 'ultd': 1, 'golden': 1, 'black pink': 2, 'black yellow': 1, 'bitter birch': 1, 'modesto wash': 1, 'burgundygray': 1, 'kangaroo pockets': 1, 'fleur-de-lis': 1, 'cross': 1, 'brick': 1, 'bronze suede': 1, 'taupe leather': 1, 'blackwhite puzzle': 1, 'shimmery black': 1, 'orangeyellowsilver': 1, 'herring': 1, 'hounds': 1, 'light taupelight tan': 1, 'dawn pink': 1, 'black glazed goat': 1, 'driftwood glazed goat': 1, 'navy glazed goat': 1, 'pewter metallic': 1, 'university rednight maroonwhite': 1, 'blackwolf greyblackwhite': 1, ' game royalobsidian': 1, 'wolf greywhitewolf greyblack': 1, 'spring leafwhitespring leafwhite': 1, 'blacklight bone': 1, 'dbrdbr le': 1, 'olive camo suede': 1, 'navy croco': 1, 'navy snake synthetic': 1, 'teal snake': 1, 'sunshower': 1, 'plum fairisle': 1, 'inkling fairisle': 1, 'mayan green spacedye': 1, 'purple dahlia spacedye': 1, 'blackfairisle': 1, 'red hibiscus': 1, 'purple dahliabright plum': 1, 'multicoloured nocturnal leopard': 1, 'bright plum': 1, 'purple dahlia leopard': 1, 'sea salt': 1, 'atoll': 1, 'nocturnal': 1, 'sea saltmirage': 1, 'mayan green': 1, 'groovy pink': 1, 'brown - pottingsoil': 1, 'sexy': 1, 'cherry redblack': 1, 'green - vrdntgrnmdgum': 1, 'gold mu': 1, 'foundation': 1, 'sage leather': 1, 'royalwhite': 1, 'true navywhite': 1, 'kellywhite': 1, 'forestwhite': 1, 'orangewhite': 1, 'purplewhite': 1, 'dark maroonwhite': 1, 'scarletwhite': 1, 'knee': 1, 'ecru': 1, 'sequoia nubuck': 1, 'sequoia': 1, 'houndstoothblack': 1, 'blossom print smooth': 1, 'linen leather': 1, 'turkish sea leather': 1, 'brunette leather': 1, 'baby pink sheepskin': 1, 'natural sheepskin': 1, 'blacknavy': 1, 'luggage riding pu': 1, 'nubuck': 1, 'porcelain': 1, 'black rubber': 1, 'blue jay rubber': 1, 'furious fuchsia rubber': 1, 'lonely hearts': 1, 'nightfall rubber': 1, 'pine rubber': 1, 'skyline blue rubber': 1, 'purples ': 1, 'blacknatura': 1, 'cream suede': 1, 'party pinkneon purple': 1, 'electric blue': 1, 'party pink': 1, 'neon purple': 1, 'cashmere': 1, 'heather pink nectar': 1, 'heather sea glass': 1, 'bed red': 1, 'heather french blue': 1, 'heather espresso': 1, 'heather precious pink': 1, 'heather red orange': 1, 'imperial purple': 1, 'heather passion purple': 1, 'camel smooth': 1, 'high risk red': 2, 'black shadow': 1, 'bay': 1, 'geranium': 1, 'capri breeze': 1, 'grey - pewter': 1, 'berry pink': 1, 'redorange': 1, 'see options': 1, 'c': 3, 'd': 3, 'varies': 1, 'periwinkle ivory': 1, 'chocolatecanvas': 1, 'cork nubuck': 1, 'stone nubuck': 1, 'black - blackgrey': 1, 'chai latte': 1, 'modern black': 1, 'modern blue': 1, 'modern pink': 1, 'modern purple': 1, 'solid beige': 1, 'solid brown': 1, 'solid pink': 1, 'bulldog': 1, 'dragon': 1, 'rubyblack': 1, 'brown snake': 1, 'natural blue': 1, 'amphora burnished suede': 1, 'eclipse blue': 1, 'pink blush': 1, 'taupeorange ': 1, 'turquoise glitter': 1, 'tortoise': 1, ' t': 1, 'charcoalinfrared white': 1, 'rose violet': 1, 'dark green suede': 1, 'red suede': 1, 'mysterious black': 1, 'meteorite': 1, 'black publack matte': 1, 'uk ': 1, 'blackcheetah': 1, 'dark fuchsia': 1, 'new red': 1, 'deep royal': 1, 'violet gradient': 1, 'green bay packers': 1, 'coffee grind nappa': 1, 'brown  cuero': 1, 'cobalto  grey': 1, 'green  musgo': 1, 'lavanda  lila': 1, 'rioja  tibet': 1, 'sorbet  coral': 1, 'stucco satin': 1, 'blackivory': 2, 'whitepure platinumvoltvivid blue': 1, 'iceberg blue': 1, 'pink suedemix': 1, 'rawhide': 1, 'black sv': 1, 'tan sv': 1, 'moon rock natural': 1, 'whiskey natural camel': 1, 'brown marl': 1, 'black tumbled': 1, 'brown patent croco': 1, 'navy tumbled': 1, 'brown tumbled': 1, 'black patent croco': 1, 'cayenne ': 1, 'nappa aztec': 1, 'toffee': 1, 'old bronze cody': 1, 'coralcoral': 1, 'brown medium': 1, 'premium slides brown': 1, 'premium slides berry': 1, 'premium slides grey': 1, 'lt gold lea': 1, 'cantaloupetrue white': 1, 'black textured fur': 1, 'camel suede': 1, 'textured brown fur': 1, 'cameo': 1, 'bronze polyurethane': 2, 'brown polyurethane': 1, 'carolina panthers': 1, 'reindeer lxl': 1, 'white pat': 1, 'onyx': 1, 'trufee': 1, 'khakiyellow': 1, 'frosted mint': 1, 'tumbleweed': 1, 'mora': 1, 'grape': 1, 'blacktoolinggore': 1, 'dark red suede': 1, 'tmoro': 1, 'light taupe patent': 1, 'yellow patent': 1, 'fuchsia suede': 2, 'porcelain rose': 1, 'titanium': 1, 'beach glass': 1, 'whitegrey': 1, 'sly tie dye': 1, 'frog': 1, 'puppy': 1, 'rex': 1, 'koala': 1, 'turtle': 1, 'indianapolis colts': 1, 'arizona cardinals': 1, 'multi colored': 1, 'houston texans': 1, 'jacksonville jaguars': 1, 'new york jets': 1, 'blue navy': 1, 'light natural le': 1, 'natural multiblack': 1, 'wheat nubuck': 1, 'cognac nubuck': 1, 'frost black': 1, 'frost hot pink': 1, 'frost purple': 1, 'frost silver': 1, 'frost soft pink': 1, 'frost teal': 1, 'fawn': 1, 'black dot print': 1, 'maple sugar': 1, 'jadeblack': 1, 'rinse wash': 1, 'coral rose': 1, 'whitelightningflash yellow': 1, 'nude sparkle': 1, 'navy satin': 1, 'lt silver sparkle': 1, 'robin egg': 1, 'redred': 1, 'whitewhite': 1, 'pale khaki': 1, 'brown leopard': 1, 'lt ivory': 1, 'blackdot': 1, 'greendot': 1, 'reddot': 1, 'bliss pink': 1, 'bliss pinkclear': 1, 'red - windsorwine': 1, 'volt': 2, 'bronze pewter': 1, 'blackk': 1, 'greyivory smooth': 1, 'magneta': 1, 'summer tan': 1, 'metallic granite': 1, 'two tone neutral': 1, 'gold zebra': 1, 'black silver zebra': 1, 'mahogany': 1, 'beige suede': 1, 'buff': 1, 'whiteblueyellow': 1, 'chocalate brown': 1, 'natural grey': 1, 'heather graymint': 1, 'nude color': 1, 'silver tone': 1, 'black teal': 1, 'heather greywhite': 1, 'garnet': 2, 'light coffeecoffee': 1, 'atlantic nappa leather': 1, 'patent leather': 1, 'heather tan': 1, 'coral nubuck': 1, 'natural nubuck': 1, 'cognac suede': 1, 'light boneblack-cool grey-silver': 1, 'blackblack-white': 1, 'blue forceice blueblackwhite': 1, 'blackdark greyblackwhite': 1, 'sandstorm wash': 1, 'orix': 1, 'blufx': 1, 'black soft': 1, 'champagne leather': 1, 'cool grey': 1, 'pure platinum': 1, 'racer blue': 1, 'obsidian': 1, 'blue tint': 1, 'fuchsia zig zag': 1, 'navy dots': 1, 'navy fuchsia': 1, 'navy zig zag': 1, 'fuchsia navy': 1, 'white dots': 1, 'fuchsia damask': 1, 'green damask': 1, 'black soft patent': 1, 'crocodile': 1, 'light crimsonwhite-champagne': 1, 'tanpurpleyellow': 1, 'amberblack': 1, 'blackpure platinum': 1, 'foggyblackwhite': 1, 'brown smooth': 2, 'sorbet': 1, 'black and ivory': 1, 'turquoisefuchsia': 1, 'silver multi leather': 1, 'mint green metallic': 1, 'ankle': 1, 'blk patblk': 1, 'fruit green': 1, 'whiteblackfuchsia glow': 1, 'whitefuchsia glowblack': 1, 'turquoise synthetic suede': 1, 'cheetah print satin': 1, 'dark browndark bronze': 1, 'dusty pink': 2, 'cordovan rachel': 1, 'misty greygold pearl': 1, 'blk pat': 1, 'bubblegum pink': 1, 'egyptian snake bronze': 1, 'doe suede': 1, 'mustang suede': 1, 'blackorangegreenrosebeige': 1, 'bare': 1, 'gold multi': 1, 'camelot': 1, 'dew': 1, 'antique silk': 1, 'dark natural suede': 1, 'sandy': 1, 'black box pewter': 1, 'white silver': 1, 'intrepid blue': 1, 'burgundy suedepatent': 1, 'cognac baby blue': 1, 'black baby blue': 1, 'chocolate pink': 1, 'blue legionwhitemid navy': 1, 'blackmetallic gold-rio teal-white': 1, 'night maroonnight maroon': 1, 'black lace mesh': 1, 'sandstone patent': 1, 'ivory patent jute': 1, 'poolside': 1, 'sandalwood pat': 1, 'ginger snap leather': 1, 'grey azure': 1, 'naturalnatural': 1, 'pink zebra': 1, 'pink cheeta': 1, 'saddle tan': 1, 'rebel berrysolar pink': 1, 'whisky': 1, 'hazel': 1, 'red str pat': 1, 'slv str pu': 1, 'dynasty greenshocking pink': 1, 'silverblackcabbage': 1, 'italian plum-lipstick red': 1, 'blue coral-sulphur spring': 1, 'silver polyurethane': 1, 'charcoalinfraredwhite': 1, 'flatgreysteelgravel': 1, 'whites': 1, 'silver metallic': 1, 'turq': 1, 'midnight garden': 1, 'black embossed paisley': 1, 'galileo': 1, 'bloomies': 1, 'bermuda blush': 1, 'beige micro-suede': 1, 'black micro-suede': 1, 'blue floral': 1, 'gold snakeskin': 1, 'gray micro-suede': 1, 'lavender floral': 1, 'lake blue': 1, 'leopard pu': 1, 'camouflage pu': 1, 'pink pu': 1, 'wheat pu': 1, 'aztec': 1, 'bluesilver': 1, 'two-tone gold': 1, 'off white': 1, 'grey velvet leopard': 1, 'pink peace': 2, 'whitemu': 1, 'turbulence': 1, 'distressed mauve': 1, 'distressed ink blue': 1, 'blueprinthollyhockautumn glory': 1, 'red hibiscuscool grey': 1, 'blue atollwhiteflash yellow': 1, 'purple - washedhelitrope': 1, 'rosso': 1, 'lt natural': 1, 'white ll': 2, 'leopard pony hair': 1, 'zebra pony hair': 1, 'vaquetta': 1, 'mickey': 1, 'persia print': 1, 'black suedetextile': 1, 'gold pu': 1, 'mulch': 1, 'grapefruit': 1, 'elkbright red': 1, 'ceil blue': 1, 'multicoloured - goldenbro': 1, 'mgy': 1, 'mgw': 1, 'black leopard metallic': 1, 'bronzo suede': 1, 'bronzeblack leopard metallic': 1, 'flame': 1, 'blackicono pinkwhite': 1, 'fearless pinkmerlotblackwhite': 1, 'blackblack canvas': 1, 'grey moroccan cutout': 1, 'charcoal grey': 1, 'silver ': 1, 'silver emu': 1, 'herringbone fabric': 1, 'cordovan': 1, 'cigar velour': 1, 'cap': 1, 'wild ones': 1, 'immersive': 1, 'brown velour': 1, 'lagoon blue': 1, 'pearl silver': 1, 'black lizard print': 1, 'ocelot haircalf': 1, 'sandstone lizard print': 1, 'dark snake print': 1, 'emerald': 1, 'reptile': 1, 'whitemedium mintpure platinum': 1, 'dark brown calf': 1, 'pewter metallic pu': 1, 'naked': 1, 'serpentine': 1, 'paisley': 1, 'blackpinkcamouflage': 1, 'stark white': 1, 'naked natural': 1, 'clove': 1, 'grayleopard': 1, 'blue  camo': 1, 'brown - palekhakiwhite': 1, 'charcoal leather': 1, 'chocolate leather': 1, 'lt greylilac': 1, 'brown yellow': 1, 'magnet': 1, 'balticneutral gray': 1, 'corn flower': 1, 'solar pinkwhiteblack': 1, 'snake skin': 1, 'bordo': 1, 'tawny': 1, 'true black': 1, 'blackpink zing': 1, 'blackblackblue': 1, 'browntaupe': 1, 'oasis selina': 1, 'red plaid': 1, 'white plaid': 1, 'gray stone blue': 1, 'dark purple leather': 1, 'pink ombre leather': 1, 'purple ombre leather': 1, 'teal ombre': 1, 'teal ombre leather': 1, 'greenout of stock': 1, 'green black': 1, 'white smooth': 1, 'blue smooth': 1, 'cameo green': 1, 'honey reset': 1, 'cloudnavy': 1, 'white m-vege': 1, 'kenia': 1, 'brandy country leather': 1, 'marble': 1, 'coral pink suede': 1, 'grey suede': 1, 'mint pu': 1, 'turquoise suede': 1, 'brownmulti': 1, 'faded glor': 1, 'coralmulti': 1, 'green confetti': 1, 'taupe brown multi': 1, 'black  suede': 1, 'black gray': 1, 'hickory mix': 1, 'turquoiselightningpurple': 1, 'chili red': 1, 'light honey': 1, 'camo green': 1, 'grey - eiffeltowertruewhite': 1, 'blackwhitemid grey': 1, 'blossomwhiteplum': 1, 'vivid bluewhiteazure': 1, 'azeleagraphite': 1}\n"
     ]
    }
   ],
   "source": [
    "colour_count = {}\n",
    "i = 0\n",
    "\n",
    "for colour in df[\"colors\"]:\n",
    "    try:\n",
    "        colour = colour.lower()\n",
    "        colour = colour.split(\",\")\n",
    "        for col in colour:        \n",
    "            colour_count[col] = colour_count.get(col, 0) + 1\n",
    "    except:\n",
    "        if str(colour) == \"nan\":\n",
    "            colour = str(colour)\n",
    "        colour_count[colour] = colour_count.get(colour, 0) + 1\n",
    "    \n",
    "print(colour_count)"
   ]
  },
  {
   "cell_type": "code",
   "execution_count": 108,
   "id": "0c84b4a1",
   "metadata": {
    "scrolled": true
   },
   "outputs": [
    {
     "data": {
      "text/plain": [
       "<BarContainer object of 8 artists>"
      ]
     },
     "execution_count": 108,
     "metadata": {},
     "output_type": "execute_result"
    },
    {
     "data": {
      "image/png": "[encoded data removed]",
      "text/plain": [
       "<Figure size 432x288 with 1 Axes>"
      ]
     },
     "metadata": {
      "needs_background": "light"
     },
     "output_type": "display_data"
    }
   ],
   "source": [
    "dc = {k: v for k, v in colour_count.items() if v > 200}\n",
    "dc.pop(\"nan\")\n",
    "dc = dict(sorted(dc.items(), key=lambda x:x[1]))\n",
    "\n",
    "col_labels = []\n",
    "for i in dc.keys():\n",
    "    col_labels.append(i)\n",
    "    \n",
    "plt.barh(col_labels, dc.values())"
   ]
  },
  {
   "cell_type": "code",
   "execution_count": 194,
   "id": "64d9b170",
   "metadata": {
    "scrolled": false
   },
   "outputs": [
    {
     "data": {
      "image/png": "[encoded data removed]",
      "text/plain": [
       "<Figure size 432x288 with 1 Axes>"
      ]
     },
     "metadata": {
      "needs_background": "light"
     },
     "output_type": "display_data"
    },
    {
     "data": {
      "image/png": "[encoded data removed]",
      "text/plain": [
       "<Figure size 432x288 with 1 Axes>"
      ]
     },
     "metadata": {
      "needs_background": "light"
     },
     "output_type": "display_data"
    },
    {
     "name": "stdout",
     "output_type": "stream",
     "text": [
      "13.775354107894476\n"
     ]
    }
   ],
   "source": [
    "avg_price = []\n",
    "\n",
    "for col in col_labels:\n",
    "    prices = sorted(df.query(f'colors.str.lower() in \"{col}\"')[\"prices.amountMax\"])\n",
    "    floated = []\n",
    "\n",
    "    for i in prices:\n",
    "        floated.append(float(i))\n",
    "\n",
    "    avg_price.append(sum(floated)/len(floated))\n",
    "    \n",
    "plt.barh(col_labels, avg_price)\n",
    "plt.show()\n",
    "\n",
    "plt.boxplot(avg_price)\n",
    "plt.show()\n",
    "\n",
    "print(np.std(avg_price))"
   ]
  },
  {
   "cell_type": "markdown",
   "id": "9029438e",
   "metadata": {},
   "source": [
    "## Brands"
   ]
  },
  {
   "cell_type": "markdown",
   "id": "e41748dd",
   "metadata": {},
   "source": [
    "top brands for women (count):\n",
    "    1. nike\n",
    "    2. toms\n",
    "    3. pleaserusa\n",
    "    4. nine west\n",
    "    5. easy spirit\n",
    "    6. vans\n",
    "    \n",
    "top brands for men (count):\n",
    "    1. nike\n",
    "    2. puma\n",
    "    3. reebok\n",
    "    4. vans\n",
    "    5. adidas\n",
    "    6. (no data)\n",
    "    7. new balance"
   ]
  },
  {
   "cell_type": "code",
   "execution_count": 233,
   "id": "c724363c",
   "metadata": {},
   "outputs": [],
   "source": [
    "# SELECT lower(brand), count(DISTINCT(id)) FROM 7003_1 GROUP BY lower(brand);\n",
    "\n",
    "top_women_brands = [\"nike\", \"toms\", \"pleaserusa\", \"nine west\", \"easy spirit\", \"vans\"]\n",
    "top_brand_df = df.query(f'brand.str.lower() == {top_women_brands}')\n",
    "\n",
    "nike_df = df.query(f'brand.str.lower() == \"nike\"')\n",
    "toms_df = df.query(f'brand.str.lower() == \"toms\"')\n",
    "pleaserusa_df = df.query(f'brand.str.lower() == \"pleaserusa\"')\n",
    "ninewest_df = df.query(f'brand.str.lower() == \"nine west\"')\n",
    "easyspirit_df = df.query(f'brand.str.lower() == \"easy spirit\"')\n",
    "vans_df = df.query(f'brand.str.lower() == \"vans\"')\n",
    "\n",
    "all_df = [nike_df, toms_df, pleaserusa_df, ninewest_df, easyspirit_df, vans_df]"
   ]
  },
  {
   "cell_type": "code",
   "execution_count": 249,
   "id": "82e9e995",
   "metadata": {},
   "outputs": [
    {
     "data": {
      "image/png": "[encoded data removed]",
      "text/plain": [
       "<Figure size 720x432 with 6 Axes>"
      ]
     },
     "metadata": {
      "needs_background": "light"
     },
     "output_type": "display_data"
    }
   ],
   "source": [
    "# must consider different currencies\n",
    "count = 1\n",
    "plt.figure(figsize=(10,6))\n",
    "\n",
    "for i in all_df:\n",
    "    price_list = []\n",
    "\n",
    "    for item in i[\"prices.amountMax\"]:\n",
    "        price_list.append(float(item))\n",
    "\n",
    "    price_list = sorted(price_list)\n",
    "    \n",
    "    plt.subplot(2, 3, count)\n",
    "    plt.xlim(0, 250)\n",
    "    plt.title(top_women_brands[count-1])\n",
    "    plt.hist(price_list, bins=25)\n",
    "    \n",
    "    count += 1\n",
    "    \n",
    "plt.tight_layout()"
   ]
  },
  {
   "cell_type": "code",
   "execution_count": 75,
   "id": "0ac1aa55",
   "metadata": {
    "collapsed": true
   },
   "outputs": [
    {
     "data": {
      "text/html": [
       "<div>\n",
       "<style scoped>\n",
       "    .dataframe tbody tr th:only-of-type {\n",
       "        vertical-align: middle;\n",
       "    }\n",
       "\n",
       "    .dataframe tbody tr th {\n",
       "        vertical-align: top;\n",
       "    }\n",
       "\n",
       "    .dataframe thead th {\n",
       "        text-align: right;\n",
       "    }\n",
       "</style>\n",
       "<table border=\"1\" class=\"dataframe\">\n",
       "  <thead>\n",
       "    <tr style=\"text-align: right;\">\n",
       "      <th></th>\n",
       "      <th>id</th>\n",
       "      <th>asins</th>\n",
       "      <th>brand</th>\n",
       "      <th>...</th>\n",
       "      <th>vin</th>\n",
       "      <th>websiteIDs</th>\n",
       "      <th>weight</th>\n",
       "    </tr>\n",
       "  </thead>\n",
       "  <tbody>\n",
       "    <tr>\n",
       "      <th>26</th>\n",
       "      <td>AVpfB4DRLJeJML43007A</td>\n",
       "      <td>NaN</td>\n",
       "      <td>PUMA</td>\n",
       "      <td>...</td>\n",
       "      <td>NaN</td>\n",
       "      <td>NaN</td>\n",
       "      <td>NaN</td>\n",
       "    </tr>\n",
       "    <tr>\n",
       "      <th>27</th>\n",
       "      <td>AVpfB4DRLJeJML43007A</td>\n",
       "      <td>NaN</td>\n",
       "      <td>PUMA</td>\n",
       "      <td>...</td>\n",
       "      <td>NaN</td>\n",
       "      <td>NaN</td>\n",
       "      <td>NaN</td>\n",
       "    </tr>\n",
       "    <tr>\n",
       "      <th>39</th>\n",
       "      <td>AVpfEsCZ1cnluZ0-dUFR</td>\n",
       "      <td>NaN</td>\n",
       "      <td>adidas</td>\n",
       "      <td>...</td>\n",
       "      <td>NaN</td>\n",
       "      <td>NaN</td>\n",
       "      <td>NaN</td>\n",
       "    </tr>\n",
       "    <tr>\n",
       "      <th>47</th>\n",
       "      <td>AVpfJEMqLJeJML433RvY</td>\n",
       "      <td>NaN</td>\n",
       "      <td>PUMA</td>\n",
       "      <td>...</td>\n",
       "      <td>NaN</td>\n",
       "      <td>NaN</td>\n",
       "      <td>NaN</td>\n",
       "    </tr>\n",
       "    <tr>\n",
       "      <th>48</th>\n",
       "      <td>AVpfJEMqLJeJML433RvY</td>\n",
       "      <td>NaN</td>\n",
       "      <td>PUMA</td>\n",
       "      <td>...</td>\n",
       "      <td>NaN</td>\n",
       "      <td>NaN</td>\n",
       "      <td>NaN</td>\n",
       "    </tr>\n",
       "    <tr>\n",
       "      <th>...</th>\n",
       "      <td>...</td>\n",
       "      <td>...</td>\n",
       "      <td>...</td>\n",
       "      <td>...</td>\n",
       "      <td>...</td>\n",
       "      <td>...</td>\n",
       "      <td>...</td>\n",
       "    </tr>\n",
       "    <tr>\n",
       "      <th>19295</th>\n",
       "      <td>AVpf3UceLJeJML43FHT4</td>\n",
       "      <td>NaN</td>\n",
       "      <td>Nike</td>\n",
       "      <td>...</td>\n",
       "      <td>NaN</td>\n",
       "      <td>NaN</td>\n",
       "      <td>NaN</td>\n",
       "    </tr>\n",
       "    <tr>\n",
       "      <th>19304</th>\n",
       "      <td>AVpfdHJXLJeJML439gNQ</td>\n",
       "      <td>B0119D7OVE</td>\n",
       "      <td>adidas</td>\n",
       "      <td>...</td>\n",
       "      <td>NaN</td>\n",
       "      <td>NaN</td>\n",
       "      <td>NaN</td>\n",
       "    </tr>\n",
       "    <tr>\n",
       "      <th>19305</th>\n",
       "      <td>AVpfdHJXLJeJML439gNQ</td>\n",
       "      <td>B0119D7OVE</td>\n",
       "      <td>adidas</td>\n",
       "      <td>...</td>\n",
       "      <td>NaN</td>\n",
       "      <td>NaN</td>\n",
       "      <td>NaN</td>\n",
       "    </tr>\n",
       "    <tr>\n",
       "      <th>19306</th>\n",
       "      <td>AVpf0eG_ilAPnD_xi3cq</td>\n",
       "      <td>NaN</td>\n",
       "      <td>Nike</td>\n",
       "      <td>...</td>\n",
       "      <td>NaN</td>\n",
       "      <td>NaN</td>\n",
       "      <td>NaN</td>\n",
       "    </tr>\n",
       "    <tr>\n",
       "      <th>19307</th>\n",
       "      <td>AVpf0eG_ilAPnD_xi3cq</td>\n",
       "      <td>NaN</td>\n",
       "      <td>Nike</td>\n",
       "      <td>...</td>\n",
       "      <td>NaN</td>\n",
       "      <td>NaN</td>\n",
       "      <td>NaN</td>\n",
       "    </tr>\n",
       "  </tbody>\n",
       "</table>\n",
       "<p>3337 rows × 48 columns</p>\n",
       "</div>"
      ],
      "text/plain": [
       "                         id       asins   brand  ... vin websiteIDs  weight\n",
       "26     AVpfB4DRLJeJML43007A         NaN    PUMA  ... NaN        NaN     NaN\n",
       "27     AVpfB4DRLJeJML43007A         NaN    PUMA  ... NaN        NaN     NaN\n",
       "39     AVpfEsCZ1cnluZ0-dUFR         NaN  adidas  ... NaN        NaN     NaN\n",
       "47     AVpfJEMqLJeJML433RvY         NaN    PUMA  ... NaN        NaN     NaN\n",
       "48     AVpfJEMqLJeJML433RvY         NaN    PUMA  ... NaN        NaN     NaN\n",
       "...                     ...         ...     ...  ...  ..        ...     ...\n",
       "19295  AVpf3UceLJeJML43FHT4         NaN    Nike  ... NaN        NaN     NaN\n",
       "19304  AVpfdHJXLJeJML439gNQ  B0119D7OVE  adidas  ... NaN        NaN     NaN\n",
       "19305  AVpfdHJXLJeJML439gNQ  B0119D7OVE  adidas  ... NaN        NaN     NaN\n",
       "19306  AVpf0eG_ilAPnD_xi3cq         NaN    Nike  ... NaN        NaN     NaN\n",
       "19307  AVpf0eG_ilAPnD_xi3cq         NaN    Nike  ... NaN        NaN     NaN\n",
       "\n",
       "[3337 rows x 48 columns]"
      ]
     },
     "execution_count": 75,
     "metadata": {},
     "output_type": "execute_result"
    }
   ],
   "source": [
    "top_men_brands = [\"nike\", \"puma\", \"reebok\", \"adidas\", \"new balance\"]\n",
    "top_brand_df = df.query(f'brand.str.lower() == {top_men_brands}')\n",
    "top_brand_df"
   ]
  },
  {
   "cell_type": "markdown",
   "id": "0fe3db9e",
   "metadata": {},
   "source": [
    "## Niche"
   ]
  },
  {
   "cell_type": "code",
   "execution_count": 8,
   "id": "79670df2",
   "metadata": {
    "collapsed": true
   },
   "outputs": [
    {
     "name": "stdout",
     "output_type": "stream",
     "text": [
      "[{\"dateSeen\":[\"2016-11-11T09:49:00Z\"],\"sourceURLs\":[\"https://www.walmart.com/ip/Zoot-TT-TRAINER-2.0-Women-US-9-Blue-Sneakers/51270891\"],\"value\":\"Important Made in USA Origin Disclaimer: For certain items sold by Walmart on Walmart.com, the displayed country of origin information may not be accurate or consistent with manufacturer information. For updated, accurate country of origin data, it is recommended that you rely on product packaging or manufacturer information. Brand & Style - Zoot TT Trainer 2.0 Width - Medium (B, M) True Color - Green Flash/Atomic Blue/Safety Yellow Outsole Material - Man-Made Heel Height - 1 Inches Brand & Style - Zoot TT Trainer 2.0 Width - Medium (B, M) True Color - Green Flash/Atomic Blue/Safety Yellow Outsole Material - Man-Made Heel Height - 1 Inches Find high-quality Zoot shoes with great prices at our store. We carry the very best shoes, boots, and sandals ranging from dress to casual to athletic while offering fast shipping to almost anywhere in the world. Included in our selection are the excellent Zoot shoes. These feature the ideal combination of style, comfort, and lasting wear available anywhere. You can depend on us for exceptional footwear. ps6276112\"}]\n",
      "\n",
      "{'dateSeen': ['2016-11-11T09:49:00Z'], 'sourceURLs': ['https://www.walmart.com/ip/Zoot-TT-TRAINER-2.0-Women-US-9-Blue-Sneakers/51270891'], 'value': 'Important Made in USA Origin Disclaimer: For certain items sold by Walmart on Walmart.com, the displayed country of origin information may not be accurate or consistent with manufacturer information. For updated, accurate country of origin data, it is recommended that you rely on product packaging or manufacturer information. Brand & Style - Zoot TT Trainer 2.0 Width - Medium (B, M) True Color - Green Flash/Atomic Blue/Safety Yellow Outsole Material - Man-Made Heel Height - 1 Inches Brand & Style - Zoot TT Trainer 2.0 Width - Medium (B, M) True Color - Green Flash/Atomic Blue/Safety Yellow Outsole Material - Man-Made Heel Height - 1 Inches Find high-quality Zoot shoes with great prices at our store. We carry the very best shoes, boots, and sandals ranging from dress to casual to athletic while offering fast shipping to almost anywhere in the world. Included in our selection are the excellent Zoot shoes. These feature the ideal combination of style, comfort, and lasting wear available anywhere. You can depend on us for exceptional footwear. ps6276112'}\n",
      "\n",
      "{'sneaker': 300, 'boot': 1129, 'heel': 745, 'sandal': 1132, 'running': 131, 'train': 35, 'flat': 407, 'loaf': 108, 'walk': 93, 'clog': 52, 'other': 1530}\n"
     ]
    }
   ],
   "source": [
    "import json\n",
    "\n",
    "index = 0\n",
    "\n",
    "# example of women shoe description\n",
    "print(df[\"descriptions\"].dropna().unique()[index])\n",
    "\n",
    "print(\"\")\n",
    "\n",
    "# convert dirty data into json format for simplier processing\n",
    "print(json.loads(df[\"descriptions\"].dropna().unique()[index])[0])\n",
    "\n",
    "print(\"\")\n",
    "\n",
    "categories = {\n",
    "    \"sneaker\": 0, \n",
    "    \"boot\" : 0, \n",
    "    \"heel\" : 0,\n",
    "    \"sandal\" : 0,\n",
    "    \"running\": 0,\n",
    "    \"train\": 0,\n",
    "    \"flat\": 0,\n",
    "    \"loaf\": 0,\n",
    "    \"walk\": 0,\n",
    "    \"clog\": 0,\n",
    "    \"other\": 0\n",
    "}\n",
    "\n",
    "unknown_cat = []\n",
    "\n",
    "# identify shoe categories using their URL\n",
    "for i in range(10000):\n",
    "    try:\n",
    "        URL = json.loads(df[\"descriptions\"].dropna().unique()[i])[0][\"sourceURLs\"][0].lower()\n",
    "        found = False\n",
    "        for cat in categories.keys():\n",
    "            if cat in URL:\n",
    "                categories[cat] += 1\n",
    "                found = True\n",
    "        if not found:\n",
    "            categories[\"other\"] += 1\n",
    "            unknown_cat.append(URL)\n",
    "    except:\n",
    "        pass\n",
    "    \n",
    "print(categories)"
   ]
  },
  {
   "cell_type": "code",
   "execution_count": 68,
   "id": "05ac9796",
   "metadata": {},
   "outputs": [
    {
     "data": {
      "text/plain": [
       "'https://www.walmart.com/ip/nike-womens-wmns-roshe-one-winter-brigade-blue-sail-685286-441/162269548'"
      ]
     },
     "execution_count": 68,
     "metadata": {},
     "output_type": "execute_result"
    }
   ],
   "source": [
    "unknown_cat[1202]"
   ]
  },
  {
   "cell_type": "code",
   "execution_count": 9,
   "id": "4a03db5b",
   "metadata": {
    "scrolled": false
   },
   "outputs": [
    {
     "data": {
      "text/plain": [
       "<BarContainer object of 11 artists>"
      ]
     },
     "execution_count": 9,
     "metadata": {},
     "output_type": "execute_result"
    },
    {
     "data": {
      "image/png": "[encoded data removed]",
      "text/plain": [
       "<Figure size 640x480 with 1 Axes>"
      ]
     },
     "metadata": {},
     "output_type": "display_data"
    }
   ],
   "source": [
    "plt.bar(categories.keys(), categories.values())"
   ]
  },
  {
   "cell_type": "markdown",
   "id": "a593bca5",
   "metadata": {},
   "source": [
    "## Specific Analysis (Nike)"
   ]
  },
  {
   "cell_type": "code",
   "execution_count": 46,
   "id": "cf09ee0a",
   "metadata": {
    "scrolled": true
   },
   "outputs": [
    {
     "data": {
      "text/plain": [
       "94          88\n",
       "134        9.5\n",
       "456        150\n",
       "477         75\n",
       "838         70\n",
       "         ...  \n",
       "18064    79.98\n",
       "18080    23.99\n",
       "18472       75\n",
       "18793    62.05\n",
       "18830    51.52\n",
       "Name: prices.amountMax, Length: 209, dtype: object"
      ]
     },
     "execution_count": 46,
     "metadata": {},
     "output_type": "execute_result"
    }
   ],
   "source": [
    "nike_df = df.query('brand.str.lower() == \"nike\"')\n",
    "nike_df[\"prices.amountMax\"]"
   ]
  },
  {
   "cell_type": "code",
   "execution_count": 47,
   "id": "77a053fb",
   "metadata": {},
   "outputs": [],
   "source": [
    "npl = []\n",
    "\n",
    "for item in nike_df[\"prices.amountMax\"]:\n",
    "    npl.append(float(item))\n",
    "\n",
    "npl = sorted(npl)"
   ]
  },
  {
   "cell_type": "code",
   "execution_count": 53,
   "id": "f5ed6015",
   "metadata": {},
   "outputs": [
    {
     "data": {
      "text/plain": [
       "(array([ 4.,  6., 11., 12., 17., 19., 28., 21., 17., 11., 13., 11., 14.,\n",
       "         5.,  8.,  4.,  0.,  2.,  0.,  2.,  0.,  1.,  1.,  0.,  1.,  0.,\n",
       "         0.,  0.,  0.,  0.,  0.,  0.,  0.,  0.,  0.,  0.,  0.,  0.,  0.,\n",
       "         1.]),\n",
       " array([  9.5    ,  19.26225,  29.0245 ,  38.78675,  48.549  ,  58.31125,\n",
       "         68.0735 ,  77.83575,  87.598  ,  97.36025, 107.1225 , 116.88475,\n",
       "        126.647  , 136.40925, 146.1715 , 155.93375, 165.696  , 175.45825,\n",
       "        185.2205 , 194.98275, 204.745  , 214.50725, 224.2695 , 234.03175,\n",
       "        243.794  , 253.55625, 263.3185 , 273.08075, 282.843  , 292.60525,\n",
       "        302.3675 , 312.12975, 321.892  , 331.65425, 341.4165 , 351.17875,\n",
       "        360.941  , 370.70325, 380.4655 , 390.22775, 399.99   ]),\n",
       " <BarContainer object of 40 artists>)"
      ]
     },
     "execution_count": 53,
     "metadata": {},
     "output_type": "execute_result"
    },
    {
     "data": {
      "image/png": "[encoded data removed]",
      "text/plain": [
       "<Figure size 432x288 with 1 Axes>"
      ]
     },
     "metadata": {
      "needs_background": "light"
     },
     "output_type": "display_data"
    }
   ],
   "source": [
    "plt.hist(npl, bins=40)"
   ]
  },
  {
   "cell_type": "code",
   "execution_count": 49,
   "id": "4880a3ca",
   "metadata": {},
   "outputs": [
    {
     "data": {
      "text/plain": [
       "{'whiskers': [<matplotlib.lines.Line2D at 0x1ce0284cc10>,\n",
       "  <matplotlib.lines.Line2D at 0x1ce0284cf70>],\n",
       " 'caps': [<matplotlib.lines.Line2D at 0x1ce0285c310>,\n",
       "  <matplotlib.lines.Line2D at 0x1ce0285c670>],\n",
       " 'boxes': [<matplotlib.lines.Line2D at 0x1ce0284c8b0>],\n",
       " 'medians': [<matplotlib.lines.Line2D at 0x1ce0285c9d0>],\n",
       " 'fliers': [<matplotlib.lines.Line2D at 0x1ce0285cd30>],\n",
       " 'means': []}"
      ]
     },
     "execution_count": 49,
     "metadata": {},
     "output_type": "execute_result"
    },
    {
     "data": {
      "image/png": "[encoded data removed]",
      "text/plain": [
       "<Figure size 432x288 with 1 Axes>"
      ]
     },
     "metadata": {
      "needs_background": "light"
     },
     "output_type": "display_data"
    }
   ],
   "source": [
    "plt.boxplot(npl)"
   ]
  }
 ],
 "metadata": {
  "kernelspec": {
   "display_name": "Python 3",
   "language": "python",
   "name": "python3"
  },
  "language_info": {
   "codemirror_mode": {
    "name": "ipython",
    "version": 3
   },
   "file_extension": ".py",
   "mimetype": "text/x-python",
   "name": "python",
   "nbconvert_exporter": "python",
   "pygments_lexer": "ipython3",
   "version": "3.8.8"
  }
 },
 "nbformat": 4,
 "nbformat_minor": 5
}
